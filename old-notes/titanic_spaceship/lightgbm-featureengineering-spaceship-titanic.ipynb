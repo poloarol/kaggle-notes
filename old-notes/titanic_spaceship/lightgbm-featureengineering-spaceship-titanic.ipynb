{
 "cells": [
  {
   "cell_type": "code",
   "execution_count": 1,
   "id": "124ae98f",
   "metadata": {
    "_cell_guid": "b1076dfc-b9ad-4769-8c92-a6c4dae69d19",
    "_uuid": "8f2839f25d086af736a60e9eeb907d3b93b6e0e5",
    "execution": {
     "iopub.execute_input": "2022-10-09T04:10:31.155536Z",
     "iopub.status.busy": "2022-10-09T04:10:31.154901Z",
     "iopub.status.idle": "2022-10-09T04:10:31.173392Z",
     "shell.execute_reply": "2022-10-09T04:10:31.172078Z"
    },
    "papermill": {
     "duration": 0.044876,
     "end_time": "2022-10-09T04:10:31.176306",
     "exception": false,
     "start_time": "2022-10-09T04:10:31.131430",
     "status": "completed"
    },
    "tags": []
   },
   "outputs": [
    {
     "name": "stdout",
     "output_type": "stream",
     "text": [
      "/kaggle/input/spaceship-titanic/sample_submission.csv\n",
      "/kaggle/input/spaceship-titanic/train.csv\n",
      "/kaggle/input/spaceship-titanic/test.csv\n"
     ]
    }
   ],
   "source": [
    "# This Python 3 environment comes with many helpful analytics libraries installed\n",
    "# It is defined by the kaggle/python Docker image: https://github.com/kaggle/docker-python\n",
    "# For example, here's several helpful packages to load\n",
    "\n",
    "import numpy as np # linear algebra\n",
    "import pandas as pd # data processing, CSV file I/O (e.g. pd.read_csv)\n",
    "\n",
    "# Input data files are available in the read-only \"../input/\" directory\n",
    "# For example, running this (by clicking run or pressing Shift+Enter) will list all files under the input directory\n",
    "\n",
    "import os\n",
    "for dirname, _, filenames in os.walk('/kaggle/input'):\n",
    "    for filename in filenames:\n",
    "        print(os.path.join(dirname, filename))\n",
    "\n",
    "# You can write up to 20GB to the current directory (/kaggle/working/) that gets preserved as output when you create a version using \"Save & Run All\" \n",
    "# You can also write temporary files to /kaggle/temp/, but they won't be saved outside of the current session"
   ]
  },
  {
   "cell_type": "markdown",
   "id": "064961ab",
   "metadata": {
    "papermill": {
     "duration": 0.016755,
     "end_time": "2022-10-09T04:10:31.210426",
     "exception": false,
     "start_time": "2022-10-09T04:10:31.193671",
     "status": "completed"
    },
    "tags": []
   },
   "source": [
    "Welcome to the year 2912, where your data science skills are needed to solve a cosmic mystery. We've received a transmission from four lightyears away and things aren't looking good.\n",
    "\n",
    "The Spaceship Titanic was an interstellar passenger liner launched a month ago. With almost 13,000 passengers on board, the vessel set out on its maiden voyage transporting emigrants from our solar system to three newly habitable exoplanets orbiting nearby stars.\n",
    "\n",
    "While rounding Alpha Centauri en route to its first destination—the torrid 55 Cancri E—the unwary Spaceship Titanic collided with a spacetime anomaly hidden within a dust cloud. Sadly, it met a similar fate as its namesake from 1000 years before. Though the ship stayed intact, almost half of the passengers were transported to an alternate dimension!\n",
    "\n",
    "To help rescue crews and retrieve the lost passengers, you are challenged to predict which passengers were transported by the anomaly using records recovered from the spaceship’s damaged computer system.\n",
    "\n",
    "Help save them and change history!"
   ]
  },
  {
   "cell_type": "markdown",
   "id": "cd8a005c",
   "metadata": {
    "papermill": {
     "duration": 0.016523,
     "end_time": "2022-10-09T04:10:31.244087",
     "exception": false,
     "start_time": "2022-10-09T04:10:31.227564",
     "status": "completed"
    },
    "tags": []
   },
   "source": [
    "Variables\n",
    "---------\n",
    "\n",
    "PassengerId - A unique Id for each passenger. Each Id takes the form gggg_pp\n",
    "                where gggg indicates a group the passenger is travelling with \n",
    "                and pp is their number within the group. People in a group are often family members, but not always.\n",
    "                \n",
    "HomePlanet - The planet the passenger departed from, typically their planet of permanent residence.\n",
    "\n",
    "CryoSleep - Indicates whether the passenger elected to be put into suspended animation for the duration of the voyage. \n",
    "            Passengers in cryosleep are confined to their cabins.\n",
    "            \n",
    "Cabin - The cabin number where the passenger is staying. Takes the form deck/num/side, where side can be either P for Port or S for Starboard.\n",
    "\n",
    "Destination - The planet the passenger will be debarking to.\n",
    "\n",
    "Age - The age of the passenger.\n",
    "\n",
    "VIP - Whether the passenger has paid for special VIP service during the voyage.\n",
    "\n",
    "RoomService, FoodCourt, ShoppingMall, Spa, VRDeck - Amount the passenger has billed at each of the Spaceship Titanic's many luxury amenities.\n",
    "\n",
    "Name - The first and last names of the passenger.\n",
    "\n",
    "Transported - Whether the passenger was transported to another dimension. This is the target, the column you are trying to predict."
   ]
  },
  {
   "cell_type": "markdown",
   "id": "3d698eb8",
   "metadata": {
    "papermill": {
     "duration": 0.01659,
     "end_time": "2022-10-09T04:10:31.277368",
     "exception": false,
     "start_time": "2022-10-09T04:10:31.260778",
     "status": "completed"
    },
    "tags": []
   },
   "source": [
    "Versions\n",
    "--------\n",
    "1. Exploratory Data Analysis\n",
    "2. Nothing much\n",
    "3. First Submission Score -> 0.79588 "
   ]
  },
  {
   "cell_type": "code",
   "execution_count": 2,
   "id": "ed620bde",
   "metadata": {
    "execution": {
     "iopub.execute_input": "2022-10-09T04:10:31.312963Z",
     "iopub.status.busy": "2022-10-09T04:10:31.312567Z",
     "iopub.status.idle": "2022-10-09T04:10:37.960802Z",
     "shell.execute_reply": "2022-10-09T04:10:37.959673Z"
    },
    "papermill": {
     "duration": 6.669315,
     "end_time": "2022-10-09T04:10:37.963562",
     "exception": false,
     "start_time": "2022-10-09T04:10:31.294247",
     "status": "completed"
    },
    "tags": []
   },
   "outputs": [],
   "source": [
    "import os\n",
    "import numpy as np\n",
    "import pandas as pd\n",
    "import seaborn as sns\n",
    "import tensorflow as tf\n",
    "\n",
    "seed: int = 1042\n",
    "\n",
    "def set_seed(random_seed: int) -> None:\n",
    "    np.random.seed(random_seed)\n",
    "    tf.random.set_seed(random_seed)\n",
    "\n",
    "set_seed(random_seed = seed)\n",
    "\n",
    "\n",
    "def get_data(filename: str) -> pd.DataFrame:\n",
    "    return pd.read_csv(f\"/kaggle/input/spaceship-titanic/{filename}\")"
   ]
  },
  {
   "cell_type": "markdown",
   "id": "8f861ff1",
   "metadata": {
    "papermill": {
     "duration": 0.016583,
     "end_time": "2022-10-09T04:10:37.997350",
     "exception": false,
     "start_time": "2022-10-09T04:10:37.980767",
     "status": "completed"
    },
    "tags": []
   },
   "source": [
    "Exploratory Data Analysis\n",
    "-------------------------"
   ]
  },
  {
   "cell_type": "code",
   "execution_count": 3,
   "id": "9073e859",
   "metadata": {
    "execution": {
     "iopub.execute_input": "2022-10-09T04:10:38.033864Z",
     "iopub.status.busy": "2022-10-09T04:10:38.032690Z",
     "iopub.status.idle": "2022-10-09T04:10:38.120842Z",
     "shell.execute_reply": "2022-10-09T04:10:38.119722Z"
    },
    "papermill": {
     "duration": 0.108896,
     "end_time": "2022-10-09T04:10:38.123197",
     "exception": false,
     "start_time": "2022-10-09T04:10:38.014301",
     "status": "completed"
    },
    "tags": []
   },
   "outputs": [
    {
     "data": {
      "text/html": [
       "<div>\n",
       "<style scoped>\n",
       "    .dataframe tbody tr th:only-of-type {\n",
       "        vertical-align: middle;\n",
       "    }\n",
       "\n",
       "    .dataframe tbody tr th {\n",
       "        vertical-align: top;\n",
       "    }\n",
       "\n",
       "    .dataframe thead th {\n",
       "        text-align: right;\n",
       "    }\n",
       "</style>\n",
       "<table border=\"1\" class=\"dataframe\">\n",
       "  <thead>\n",
       "    <tr style=\"text-align: right;\">\n",
       "      <th></th>\n",
       "      <th>PassengerId</th>\n",
       "      <th>HomePlanet</th>\n",
       "      <th>CryoSleep</th>\n",
       "      <th>Cabin</th>\n",
       "      <th>Destination</th>\n",
       "      <th>Age</th>\n",
       "      <th>VIP</th>\n",
       "      <th>RoomService</th>\n",
       "      <th>FoodCourt</th>\n",
       "      <th>ShoppingMall</th>\n",
       "      <th>Spa</th>\n",
       "      <th>VRDeck</th>\n",
       "      <th>Name</th>\n",
       "      <th>Transported</th>\n",
       "    </tr>\n",
       "  </thead>\n",
       "  <tbody>\n",
       "    <tr>\n",
       "      <th>0</th>\n",
       "      <td>0001_01</td>\n",
       "      <td>Europa</td>\n",
       "      <td>False</td>\n",
       "      <td>B/0/P</td>\n",
       "      <td>TRAPPIST-1e</td>\n",
       "      <td>39.0</td>\n",
       "      <td>False</td>\n",
       "      <td>0.0</td>\n",
       "      <td>0.0</td>\n",
       "      <td>0.0</td>\n",
       "      <td>0.0</td>\n",
       "      <td>0.0</td>\n",
       "      <td>Maham Ofracculy</td>\n",
       "      <td>False</td>\n",
       "    </tr>\n",
       "    <tr>\n",
       "      <th>1</th>\n",
       "      <td>0002_01</td>\n",
       "      <td>Earth</td>\n",
       "      <td>False</td>\n",
       "      <td>F/0/S</td>\n",
       "      <td>TRAPPIST-1e</td>\n",
       "      <td>24.0</td>\n",
       "      <td>False</td>\n",
       "      <td>109.0</td>\n",
       "      <td>9.0</td>\n",
       "      <td>25.0</td>\n",
       "      <td>549.0</td>\n",
       "      <td>44.0</td>\n",
       "      <td>Juanna Vines</td>\n",
       "      <td>True</td>\n",
       "    </tr>\n",
       "    <tr>\n",
       "      <th>2</th>\n",
       "      <td>0003_01</td>\n",
       "      <td>Europa</td>\n",
       "      <td>False</td>\n",
       "      <td>A/0/S</td>\n",
       "      <td>TRAPPIST-1e</td>\n",
       "      <td>58.0</td>\n",
       "      <td>True</td>\n",
       "      <td>43.0</td>\n",
       "      <td>3576.0</td>\n",
       "      <td>0.0</td>\n",
       "      <td>6715.0</td>\n",
       "      <td>49.0</td>\n",
       "      <td>Altark Susent</td>\n",
       "      <td>False</td>\n",
       "    </tr>\n",
       "    <tr>\n",
       "      <th>3</th>\n",
       "      <td>0003_02</td>\n",
       "      <td>Europa</td>\n",
       "      <td>False</td>\n",
       "      <td>A/0/S</td>\n",
       "      <td>TRAPPIST-1e</td>\n",
       "      <td>33.0</td>\n",
       "      <td>False</td>\n",
       "      <td>0.0</td>\n",
       "      <td>1283.0</td>\n",
       "      <td>371.0</td>\n",
       "      <td>3329.0</td>\n",
       "      <td>193.0</td>\n",
       "      <td>Solam Susent</td>\n",
       "      <td>False</td>\n",
       "    </tr>\n",
       "    <tr>\n",
       "      <th>4</th>\n",
       "      <td>0004_01</td>\n",
       "      <td>Earth</td>\n",
       "      <td>False</td>\n",
       "      <td>F/1/S</td>\n",
       "      <td>TRAPPIST-1e</td>\n",
       "      <td>16.0</td>\n",
       "      <td>False</td>\n",
       "      <td>303.0</td>\n",
       "      <td>70.0</td>\n",
       "      <td>151.0</td>\n",
       "      <td>565.0</td>\n",
       "      <td>2.0</td>\n",
       "      <td>Willy Santantines</td>\n",
       "      <td>True</td>\n",
       "    </tr>\n",
       "  </tbody>\n",
       "</table>\n",
       "</div>"
      ],
      "text/plain": [
       "  PassengerId HomePlanet CryoSleep  Cabin  Destination   Age    VIP  \\\n",
       "0     0001_01     Europa     False  B/0/P  TRAPPIST-1e  39.0  False   \n",
       "1     0002_01      Earth     False  F/0/S  TRAPPIST-1e  24.0  False   \n",
       "2     0003_01     Europa     False  A/0/S  TRAPPIST-1e  58.0   True   \n",
       "3     0003_02     Europa     False  A/0/S  TRAPPIST-1e  33.0  False   \n",
       "4     0004_01      Earth     False  F/1/S  TRAPPIST-1e  16.0  False   \n",
       "\n",
       "   RoomService  FoodCourt  ShoppingMall     Spa  VRDeck               Name  \\\n",
       "0          0.0        0.0           0.0     0.0     0.0    Maham Ofracculy   \n",
       "1        109.0        9.0          25.0   549.0    44.0       Juanna Vines   \n",
       "2         43.0     3576.0           0.0  6715.0    49.0      Altark Susent   \n",
       "3          0.0     1283.0         371.0  3329.0   193.0       Solam Susent   \n",
       "4        303.0       70.0         151.0   565.0     2.0  Willy Santantines   \n",
       "\n",
       "   Transported  \n",
       "0        False  \n",
       "1         True  \n",
       "2        False  \n",
       "3        False  \n",
       "4         True  "
      ]
     },
     "execution_count": 3,
     "metadata": {},
     "output_type": "execute_result"
    }
   ],
   "source": [
    "titanic = get_data(filename = \"train.csv\")\n",
    "titanic.head()"
   ]
  },
  {
   "cell_type": "code",
   "execution_count": 4,
   "id": "642089c1",
   "metadata": {
    "execution": {
     "iopub.execute_input": "2022-10-09T04:10:38.160733Z",
     "iopub.status.busy": "2022-10-09T04:10:38.160302Z",
     "iopub.status.idle": "2022-10-09T04:10:38.776515Z",
     "shell.execute_reply": "2022-10-09T04:10:38.775302Z"
    },
    "papermill": {
     "duration": 0.638475,
     "end_time": "2022-10-09T04:10:38.779051",
     "exception": false,
     "start_time": "2022-10-09T04:10:38.140576",
     "status": "completed"
    },
    "tags": []
   },
   "outputs": [
    {
     "data": {
      "text/plain": [
       "<AxesSubplot:>"
      ]
     },
     "execution_count": 4,
     "metadata": {},
     "output_type": "execute_result"
    },
    {
     "data": {
      "image/png": "[encoded data removed]",
      "text/plain": [
       "<Figure size 432x288 with 1 Axes>"
      ]
     },
     "metadata": {
      "needs_background": "light"
     },
     "output_type": "display_data"
    }
   ],
   "source": [
    "sns.heatmap(titanic.isnull(),yticklabels=False,cbar=False,cmap='cubehelix')"
   ]
  },
  {
   "cell_type": "code",
   "execution_count": 5,
   "id": "b0d4eb78",
   "metadata": {
    "execution": {
     "iopub.execute_input": "2022-10-09T04:10:38.817647Z",
     "iopub.status.busy": "2022-10-09T04:10:38.816972Z",
     "iopub.status.idle": "2022-10-09T04:10:39.073721Z",
     "shell.execute_reply": "2022-10-09T04:10:39.072523Z"
    },
    "papermill": {
     "duration": 0.2794,
     "end_time": "2022-10-09T04:10:39.076144",
     "exception": false,
     "start_time": "2022-10-09T04:10:38.796744",
     "status": "completed"
    },
    "tags": []
   },
   "outputs": [
    {
     "data": {
      "text/plain": [
       "<AxesSubplot:xlabel='HomePlanet', ylabel='count'>"
      ]
     },
     "execution_count": 5,
     "metadata": {},
     "output_type": "execute_result"
    },
    {
     "data": {
      "image/png": "[encoded data removed]",
      "text/plain": [
       "<Figure size 432x288 with 1 Axes>"
      ]
     },
     "metadata": {
      "needs_background": "light"
     },
     "output_type": "display_data"
    }
   ],
   "source": [
    "# HomePlanet\n",
    "sns.countplot(data = titanic, x=\"HomePlanet\", hue=\"Transported\", palette=\"husl\") # Majority of people came from earch"
   ]
  },
  {
   "cell_type": "code",
   "execution_count": 6,
   "id": "80a514da",
   "metadata": {
    "execution": {
     "iopub.execute_input": "2022-10-09T04:10:39.115402Z",
     "iopub.status.busy": "2022-10-09T04:10:39.114764Z",
     "iopub.status.idle": "2022-10-09T04:10:39.133321Z",
     "shell.execute_reply": "2022-10-09T04:10:39.131828Z"
    },
    "papermill": {
     "duration": 0.041056,
     "end_time": "2022-10-09T04:10:39.136129",
     "exception": false,
     "start_time": "2022-10-09T04:10:39.095073",
     "status": "completed"
    },
    "tags": []
   },
   "outputs": [
    {
     "name": "stdout",
     "output_type": "stream",
     "text": [
      "Proportion of transported people: Earth ->  0.42395, Europa ->  0.34115, Mars:  0.47698\n"
     ]
    }
   ],
   "source": [
    "earth = titanic.loc[titanic['HomePlanet'] == \"Earth\"]\n",
    "europa = titanic.loc[titanic['HomePlanet'] == \"Europa\"]\n",
    "mars = titanic.loc[titanic['HomePlanet'] == \"Mars\"]\n",
    "\n",
    "nt_transported_earth, transported_earth = earth[\"Transported\"].value_counts()\n",
    "nt_transported_europa, transported_europa = europa[\"Transported\"].value_counts()\n",
    "nt_transported_mars, transported_mars = mars[\"Transported\"].value_counts()\n",
    "\n",
    "total_earth = nt_transported_earth + transported_earth\n",
    "total_europa = nt_transported_europa + transported_europa\n",
    "total_mars = nt_transported_mars + transported_mars\n",
    "\n",
    "print(f\"Proportion of transported people: Earth -> {transported_earth/total_earth: .5}, Europa -> {transported_europa/total_europa: .5}, Mars: {transported_mars/total_mars: .5}\")\n",
    "# Europa had the proportion of least number of transported people, while Mars had the most"
   ]
  },
  {
   "cell_type": "code",
   "execution_count": 7,
   "id": "9cfa2d4d",
   "metadata": {
    "execution": {
     "iopub.execute_input": "2022-10-09T04:10:39.175420Z",
     "iopub.status.busy": "2022-10-09T04:10:39.174545Z",
     "iopub.status.idle": "2022-10-09T04:10:39.439736Z",
     "shell.execute_reply": "2022-10-09T04:10:39.438466Z"
    },
    "papermill": {
     "duration": 0.287564,
     "end_time": "2022-10-09T04:10:39.442341",
     "exception": false,
     "start_time": "2022-10-09T04:10:39.154777",
     "status": "completed"
    },
    "tags": []
   },
   "outputs": [
    {
     "data": {
      "text/plain": [
       "<AxesSubplot:xlabel='CryoSleep', ylabel='count'>"
      ]
     },
     "execution_count": 7,
     "metadata": {},
     "output_type": "execute_result"
    },
    {
     "data": {
      "image/png": "[encoded data removed]",
      "text/plain": [
       "<Figure size 432x288 with 1 Axes>"
      ]
     },
     "metadata": {
      "needs_background": "light"
     },
     "output_type": "display_data"
    }
   ],
   "source": [
    "# CryoSleep\n",
    "sns.countplot(data = titanic, x=\"CryoSleep\", hue=\"Transported\", palette=\"husl\")"
   ]
  },
  {
   "cell_type": "code",
   "execution_count": 8,
   "id": "eb41ea61",
   "metadata": {
    "execution": {
     "iopub.execute_input": "2022-10-09T04:10:39.481531Z",
     "iopub.status.busy": "2022-10-09T04:10:39.481116Z",
     "iopub.status.idle": "2022-10-09T04:10:39.491728Z",
     "shell.execute_reply": "2022-10-09T04:10:39.490498Z"
    },
    "papermill": {
     "duration": 0.032856,
     "end_time": "2022-10-09T04:10:39.493966",
     "exception": false,
     "start_time": "2022-10-09T04:10:39.461110",
     "status": "completed"
    },
    "tags": []
   },
   "outputs": [
    {
     "data": {
      "text/plain": [
       "TRAPPIST-1e      5915\n",
       "55 Cancri e      1800\n",
       "PSO J318.5-22     796\n",
       "Name: Destination, dtype: int64"
      ]
     },
     "execution_count": 8,
     "metadata": {},
     "output_type": "execute_result"
    }
   ],
   "source": [
    "titanic[\"Destination\"].value_counts()"
   ]
  },
  {
   "cell_type": "code",
   "execution_count": 9,
   "id": "cf78ab24",
   "metadata": {
    "execution": {
     "iopub.execute_input": "2022-10-09T04:10:39.533280Z",
     "iopub.status.busy": "2022-10-09T04:10:39.532675Z",
     "iopub.status.idle": "2022-10-09T04:10:39.780535Z",
     "shell.execute_reply": "2022-10-09T04:10:39.779480Z"
    },
    "papermill": {
     "duration": 0.270369,
     "end_time": "2022-10-09T04:10:39.782831",
     "exception": false,
     "start_time": "2022-10-09T04:10:39.512462",
     "status": "completed"
    },
    "tags": []
   },
   "outputs": [
    {
     "data": {
      "text/plain": [
       "<AxesSubplot:xlabel='Destination', ylabel='count'>"
      ]
     },
     "execution_count": 9,
     "metadata": {},
     "output_type": "execute_result"
    },
    {
     "data": {
      "image/png": "[encoded data removed]",
      "text/plain": [
       "<Figure size 432x288 with 1 Axes>"
      ]
     },
     "metadata": {
      "needs_background": "light"
     },
     "output_type": "display_data"
    }
   ],
   "source": [
    "#Destination\n",
    "sns.countplot(data = titanic, x=\"Destination\", hue=\"Transported\", palette=\"husl\")"
   ]
  },
  {
   "cell_type": "code",
   "execution_count": 10,
   "id": "f79f32b2",
   "metadata": {
    "execution": {
     "iopub.execute_input": "2022-10-09T04:10:39.822781Z",
     "iopub.status.busy": "2022-10-09T04:10:39.822381Z",
     "iopub.status.idle": "2022-10-09T04:10:40.089868Z",
     "shell.execute_reply": "2022-10-09T04:10:40.088600Z"
    },
    "papermill": {
     "duration": 0.29049,
     "end_time": "2022-10-09T04:10:40.092395",
     "exception": false,
     "start_time": "2022-10-09T04:10:39.801905",
     "status": "completed"
    },
    "tags": []
   },
   "outputs": [
    {
     "data": {
      "text/plain": [
       "<AxesSubplot:xlabel='Destination', ylabel='count'>"
      ]
     },
     "execution_count": 10,
     "metadata": {},
     "output_type": "execute_result"
    },
    {
     "data": {
      "image/png": "[encoded data removed]",
      "text/plain": [
       "<Figure size 432x288 with 1 Axes>"
      ]
     },
     "metadata": {
      "needs_background": "light"
     },
     "output_type": "display_data"
    }
   ],
   "source": [
    "sns.countplot(data = titanic, x=\"Destination\", hue=\"HomePlanet\", palette=\"husl\")"
   ]
  },
  {
   "cell_type": "code",
   "execution_count": 11,
   "id": "e96a4aca",
   "metadata": {
    "execution": {
     "iopub.execute_input": "2022-10-09T04:10:40.133381Z",
     "iopub.status.busy": "2022-10-09T04:10:40.132971Z",
     "iopub.status.idle": "2022-10-09T04:10:40.899213Z",
     "shell.execute_reply": "2022-10-09T04:10:40.897804Z"
    },
    "papermill": {
     "duration": 0.790128,
     "end_time": "2022-10-09T04:10:40.902255",
     "exception": false,
     "start_time": "2022-10-09T04:10:40.112127",
     "status": "completed"
    },
    "tags": []
   },
   "outputs": [
    {
     "data": {
      "text/plain": [
       "<seaborn.axisgrid.FacetGrid at 0x7f938b25b090>"
      ]
     },
     "execution_count": 11,
     "metadata": {},
     "output_type": "execute_result"
    },
    {
     "data": {
      "image/png": "[encoded data removed]",
      "text/plain": [
       "<Figure size 720x360 with 2 Axes>"
      ]
     },
     "metadata": {
      "needs_background": "light"
     },
     "output_type": "display_data"
    }
   ],
   "source": [
    "sns.displot(data=titanic, x=\"Age\", col=\"Transported\", kde=True, palette=\"husl\")"
   ]
  },
  {
   "cell_type": "code",
   "execution_count": 12,
   "id": "0db71e95",
   "metadata": {
    "execution": {
     "iopub.execute_input": "2022-10-09T04:10:40.946385Z",
     "iopub.status.busy": "2022-10-09T04:10:40.945923Z",
     "iopub.status.idle": "2022-10-09T04:10:41.307039Z",
     "shell.execute_reply": "2022-10-09T04:10:41.305665Z"
    },
    "papermill": {
     "duration": 0.38571,
     "end_time": "2022-10-09T04:10:41.309503",
     "exception": false,
     "start_time": "2022-10-09T04:10:40.923793",
     "status": "completed"
    },
    "tags": []
   },
   "outputs": [
    {
     "data": {
      "text/plain": [
       "<seaborn.axisgrid.FacetGrid at 0x7f938af195d0>"
      ]
     },
     "execution_count": 12,
     "metadata": {},
     "output_type": "execute_result"
    },
    {
     "data": {
      "image/png": "[encoded data removed]",
      "text/plain": [
       "<Figure size 360x360 with 1 Axes>"
      ]
     },
     "metadata": {
      "needs_background": "light"
     },
     "output_type": "display_data"
    }
   ],
   "source": [
    "sns.catplot(data=titanic, kind=\"violin\", x=\"Transported\", y=\"Age\", hue=\"Transported\")"
   ]
  },
  {
   "cell_type": "code",
   "execution_count": 13,
   "id": "92ee6af4",
   "metadata": {
    "execution": {
     "iopub.execute_input": "2022-10-09T04:10:41.354166Z",
     "iopub.status.busy": "2022-10-09T04:10:41.353141Z",
     "iopub.status.idle": "2022-10-09T04:10:41.365281Z",
     "shell.execute_reply": "2022-10-09T04:10:41.364299Z"
    },
    "papermill": {
     "duration": 0.037282,
     "end_time": "2022-10-09T04:10:41.368197",
     "exception": false,
     "start_time": "2022-10-09T04:10:41.330915",
     "status": "completed"
    },
    "tags": []
   },
   "outputs": [
    {
     "name": "stdout",
     "output_type": "stream",
     "text": [
      "Transported Age Cohort;  mean -> 27.74883395522388 : median-> 26.0\n",
      "Not Transported Age Cohort; mean -> 29.922858495030763 : median-> 26.0\n"
     ]
    }
   ],
   "source": [
    "age_transported = titanic.loc[titanic[\"Transported\"] == True][\"Age\"]\n",
    "nt_age_transported = titanic.loc[titanic[\"Transported\"] == False][\"Age\"]\n",
    "\n",
    "mean_age_transported, median_age_transported = age_transported.mean(), age_transported.median()\n",
    "mean_age_nt_transported, median_age_nt_transported = nt_age_transported.mean(), nt_age_transported.median()\n",
    "\n",
    "print(f\"Transported Age Cohort;  mean -> {mean_age_transported} : median-> {median_age_transported}\")\n",
    "print(f\"Not Transported Age Cohort; mean -> {mean_age_nt_transported} : median-> {median_age_transported}\")"
   ]
  },
  {
   "cell_type": "code",
   "execution_count": 14,
   "id": "675c7572",
   "metadata": {
    "execution": {
     "iopub.execute_input": "2022-10-09T04:10:41.414630Z",
     "iopub.status.busy": "2022-10-09T04:10:41.413236Z",
     "iopub.status.idle": "2022-10-09T04:10:41.439769Z",
     "shell.execute_reply": "2022-10-09T04:10:41.438502Z"
    },
    "papermill": {
     "duration": 0.052508,
     "end_time": "2022-10-09T04:10:41.442396",
     "exception": false,
     "start_time": "2022-10-09T04:10:41.389888",
     "status": "completed"
    },
    "tags": []
   },
   "outputs": [
    {
     "data": {
      "text/plain": [
       "Ttest_indResult(statistic=-6.737105207364544, pvalue=1.7534342946470257e-11)"
      ]
     },
     "execution_count": 14,
     "metadata": {},
     "output_type": "execute_result"
    }
   ],
   "source": [
    "# Is there a difference in mean between the transported passengers and those not transported\n",
    "# t-test\n",
    "# H0: There is no difference in mean between the age of transported passengers and those not transported\n",
    "# H1: There is a difference in mean between the age of transported passengers and those not transported\n",
    "from scipy.stats import ttest_ind\n",
    "\n",
    "tmp_transported = titanic.loc[titanic[\"Transported\"] == True]\n",
    "tmp_nt_transported = titanic.loc[titanic[\"Transported\"] == False]\n",
    "\n",
    "ttest_ind(tmp_transported.dropna()[\"Age\"], tmp_nt_transported.dropna()[\"Age\"], equal_var=False)"
   ]
  },
  {
   "cell_type": "markdown",
   "id": "ed336da8",
   "metadata": {
    "papermill": {
     "duration": 0.021778,
     "end_time": "2022-10-09T04:10:41.486195",
     "exception": false,
     "start_time": "2022-10-09T04:10:41.464417",
     "status": "completed"
    },
    "tags": []
   },
   "source": [
    "p-value <<< 0.001, we can reject the null hypothesis. \n",
    "It can be concluded from this that Age if a very important variable for out analysis."
   ]
  },
  {
   "cell_type": "code",
   "execution_count": 15,
   "id": "1f6ccceb",
   "metadata": {
    "execution": {
     "iopub.execute_input": "2022-10-09T04:10:41.533919Z",
     "iopub.status.busy": "2022-10-09T04:10:41.533492Z",
     "iopub.status.idle": "2022-10-09T04:10:41.541996Z",
     "shell.execute_reply": "2022-10-09T04:10:41.540959Z"
    },
    "papermill": {
     "duration": 0.035382,
     "end_time": "2022-10-09T04:10:41.544513",
     "exception": false,
     "start_time": "2022-10-09T04:10:41.509131",
     "status": "completed"
    },
    "tags": []
   },
   "outputs": [
    {
     "data": {
      "text/plain": [
       "False    8291\n",
       "True      199\n",
       "Name: VIP, dtype: int64"
      ]
     },
     "execution_count": 15,
     "metadata": {},
     "output_type": "execute_result"
    }
   ],
   "source": [
    "titanic[\"VIP\"].value_counts()"
   ]
  },
  {
   "cell_type": "code",
   "execution_count": 16,
   "id": "e7b3760f",
   "metadata": {
    "execution": {
     "iopub.execute_input": "2022-10-09T04:10:41.590932Z",
     "iopub.status.busy": "2022-10-09T04:10:41.590525Z",
     "iopub.status.idle": "2022-10-09T04:10:41.859474Z",
     "shell.execute_reply": "2022-10-09T04:10:41.858106Z"
    },
    "papermill": {
     "duration": 0.295612,
     "end_time": "2022-10-09T04:10:41.862296",
     "exception": false,
     "start_time": "2022-10-09T04:10:41.566684",
     "status": "completed"
    },
    "tags": []
   },
   "outputs": [
    {
     "data": {
      "text/plain": [
       "<AxesSubplot:xlabel='VIP', ylabel='count'>"
      ]
     },
     "execution_count": 16,
     "metadata": {},
     "output_type": "execute_result"
    },
    {
     "data": {
      "image/png": "[encoded data removed]",
      "text/plain": [
       "<Figure size 432x288 with 1 Axes>"
      ]
     },
     "metadata": {
      "needs_background": "light"
     },
     "output_type": "display_data"
    }
   ],
   "source": [
    "sns.countplot(data = titanic, x=\"VIP\", hue=\"Transported\", palette=\"husl\")"
   ]
  },
  {
   "cell_type": "code",
   "execution_count": 17,
   "id": "7b304956",
   "metadata": {
    "execution": {
     "iopub.execute_input": "2022-10-09T04:10:41.907668Z",
     "iopub.status.busy": "2022-10-09T04:10:41.906924Z",
     "iopub.status.idle": "2022-10-09T04:10:41.912382Z",
     "shell.execute_reply": "2022-10-09T04:10:41.911298Z"
    },
    "papermill": {
     "duration": 0.031197,
     "end_time": "2022-10-09T04:10:41.915109",
     "exception": false,
     "start_time": "2022-10-09T04:10:41.883912",
     "status": "completed"
    },
    "tags": []
   },
   "outputs": [],
   "source": [
    "def get_stats(df, planet, attribute):\n",
    "    return df.loc[df[\"HomePlanet\"] == planet][attribute].mean(), df.loc[df[\"HomePlanet\"] == planet][attribute].median()"
   ]
  },
  {
   "cell_type": "code",
   "execution_count": 18,
   "id": "1377fd82",
   "metadata": {
    "execution": {
     "iopub.execute_input": "2022-10-09T04:10:41.960092Z",
     "iopub.status.busy": "2022-10-09T04:10:41.959600Z",
     "iopub.status.idle": "2022-10-09T04:10:42.328559Z",
     "shell.execute_reply": "2022-10-09T04:10:42.327333Z"
    },
    "papermill": {
     "duration": 0.394668,
     "end_time": "2022-10-09T04:10:42.331226",
     "exception": false,
     "start_time": "2022-10-09T04:10:41.936558",
     "status": "completed"
    },
    "tags": []
   },
   "outputs": [
    {
     "data": {
      "text/plain": [
       "<seaborn.axisgrid.FacetGrid at 0x7f938ac02890>"
      ]
     },
     "execution_count": 18,
     "metadata": {},
     "output_type": "execute_result"
    },
    {
     "data": {
      "image/png": "[encoded data removed]",
      "text/plain": [
       "<Figure size 360x360 with 1 Axes>"
      ]
     },
     "metadata": {
      "needs_background": "light"
     },
     "output_type": "display_data"
    }
   ],
   "source": [
    "sns.catplot(data=titanic, kind=\"violin\", x=\"Transported\", y=\"RoomService\", hue=\"Transported\")"
   ]
  },
  {
   "cell_type": "code",
   "execution_count": 19,
   "id": "d13c38ef",
   "metadata": {
    "execution": {
     "iopub.execute_input": "2022-10-09T04:10:42.376957Z",
     "iopub.status.busy": "2022-10-09T04:10:42.376297Z",
     "iopub.status.idle": "2022-10-09T04:10:42.408520Z",
     "shell.execute_reply": "2022-10-09T04:10:42.407205Z"
    },
    "papermill": {
     "duration": 0.059053,
     "end_time": "2022-10-09T04:10:42.411905",
     "exception": false,
     "start_time": "2022-10-09T04:10:42.352852",
     "status": "completed"
    },
    "tags": []
   },
   "outputs": [
    {
     "name": "stdout",
     "output_type": "stream",
     "text": [
      "Transported Room Service Account\n",
      "--------------------------------------------------------------------------------------------------\n",
      "Earth: mean -> 56.36820083682009 : median -> 0.0\n",
      "Europa: mean -> 113.04894327030033 : median -> 0.0\n",
      "Mars: mean -> 38.78916967509025 : median -> 0.0\n",
      "\n",
      "Not Transported Room Service Account\n",
      "--------------------------------------------------------------------------------------------------\n",
      "Earth: mean -> 196.48936992655587 : median -> 0.0\n",
      "Europa: mean -> 1032.7803398058252 : median -> 806.0\n",
      "Mars: mean -> 352.8704225352113 : median -> 0.0\n"
     ]
    }
   ],
   "source": [
    "transported = titanic.loc[titanic[\"Transported\"] == True]\n",
    "nt_transported = titanic.loc[titanic[\"Transported\"] == False]\n",
    "\n",
    "mean_earth_room_transported, median_earth_room_transported = get_stats(transported, \"Earth\", \"RoomService\")\n",
    "mean_earth_room_nt_transported, median_earth_room_nt_transported = get_stats(nt_transported, \"Earth\", \"RoomService\")\n",
    "\n",
    "mean_mars_room_transported, median_mars_room_transported = get_stats(transported, \"Europa\", \"RoomService\")\n",
    "mean_mars_room_nt_transported, median_mars_room_nt_transported = get_stats(nt_transported, \"Europa\", \"RoomService\")\n",
    "\n",
    "mean_europa_room_transported, median_europa_room_transported = get_stats(transported, \"Mars\", \"RoomService\")\n",
    "mean_europa_room_nt_transported, median_europa_room_nt_transported = get_stats(nt_transported, \"Mars\", \"RoomService\")\n",
    "\n",
    "print(\"Transported Room Service Account\")\n",
    "print(\"--------------------------------------------------------------------------------------------------\")\n",
    "print(f\"Earth: mean -> {mean_earth_room_transported} : median -> {median_earth_room_transported}\")\n",
    "print(f\"Europa: mean -> {mean_europa_room_transported} : median -> {median_europa_room_transported}\")\n",
    "print(f\"Mars: mean -> {mean_mars_room_transported} : median -> {median_mars_room_transported}\")\n",
    "print()\n",
    "print(\"Not Transported Room Service Account\")\n",
    "print(\"--------------------------------------------------------------------------------------------------\")\n",
    "print(f\"Earth: mean -> {mean_earth_room_nt_transported} : median -> {median_earth_room_nt_transported}\")\n",
    "print(f\"Europa: mean -> {mean_europa_room_nt_transported} : median -> {median_europa_room_nt_transported}\")\n",
    "print(f\"Mars: mean -> {mean_mars_room_nt_transported} : median -> {median_mars_room_nt_transported}\")"
   ]
  },
  {
   "cell_type": "code",
   "execution_count": 20,
   "id": "cd21801a",
   "metadata": {
    "execution": {
     "iopub.execute_input": "2022-10-09T04:10:42.459574Z",
     "iopub.status.busy": "2022-10-09T04:10:42.459118Z",
     "iopub.status.idle": "2022-10-09T04:10:42.820535Z",
     "shell.execute_reply": "2022-10-09T04:10:42.819035Z"
    },
    "papermill": {
     "duration": 0.388155,
     "end_time": "2022-10-09T04:10:42.823379",
     "exception": false,
     "start_time": "2022-10-09T04:10:42.435224",
     "status": "completed"
    },
    "tags": []
   },
   "outputs": [
    {
     "data": {
      "text/plain": [
       "<seaborn.axisgrid.FacetGrid at 0x7f938ab0ca50>"
      ]
     },
     "execution_count": 20,
     "metadata": {},
     "output_type": "execute_result"
    },
    {
     "data": {
      "image/png": "[encoded data removed]",
      "text/plain": [
       "<Figure size 360x360 with 1 Axes>"
      ]
     },
     "metadata": {
      "needs_background": "light"
     },
     "output_type": "display_data"
    }
   ],
   "source": [
    "sns.catplot(data=titanic, kind=\"violin\", x=\"Transported\", y=\"FoodCourt\", hue=\"Transported\")"
   ]
  },
  {
   "cell_type": "code",
   "execution_count": 21,
   "id": "94b83c47",
   "metadata": {
    "execution": {
     "iopub.execute_input": "2022-10-09T04:10:42.870472Z",
     "iopub.status.busy": "2022-10-09T04:10:42.870055Z",
     "iopub.status.idle": "2022-10-09T04:10:42.900480Z",
     "shell.execute_reply": "2022-10-09T04:10:42.898906Z"
    },
    "papermill": {
     "duration": 0.056953,
     "end_time": "2022-10-09T04:10:42.903107",
     "exception": false,
     "start_time": "2022-10-09T04:10:42.846154",
     "status": "completed"
    },
    "tags": []
   },
   "outputs": [
    {
     "name": "stdout",
     "output_type": "stream",
     "text": [
      "Transported Food Court Account\n",
      "--------------------------------------------------------------------------------------------------\n",
      "Earth: mean -> 168.40574412532638 : median -> 0.0\n",
      "Europa: mean -> 38.568080357142854 : median -> 0.0\n",
      "Mars: mean -> 1386.6339677891654 : median -> 0.0\n",
      "\n",
      "Not Transported Food Court Account\n",
      "--------------------------------------------------------------------------------------------------\n",
      "Earth: mean -> 114.17722007722007 : median -> 0.0\n",
      "Europa: mean -> 71.51515151515152 : median -> 0.0\n",
      "Mars: mean -> 1724.6968011126564 : median -> 847.0\n"
     ]
    }
   ],
   "source": [
    "mean_earth_food_transported, median_earth_food_transported = get_stats(transported, \"Earth\", \"FoodCourt\")\n",
    "mean_earth_food_nt_transported, median_earth_food_nt_transported = get_stats(nt_transported, \"Earth\", \"FoodCourt\")\n",
    "\n",
    "mean_mars_food_transported, median_mars_food_transported = get_stats(transported, \"Europa\", \"FoodCourt\")\n",
    "mean_mars_food_nt_transported, median_mars_food_nt_transported = get_stats(nt_transported, \"Europa\", \"FoodCourt\")\n",
    "\n",
    "mean_europa_food_transported, median_europa_food_transported = get_stats(transported, \"Mars\", \"FoodCourt\")\n",
    "mean_europa_food_nt_transported, median_europa_food_nt_transported = get_stats(nt_transported, \"Mars\", \"FoodCourt\")\n",
    "\n",
    "print(\"Transported Food Court Account\")\n",
    "print(\"--------------------------------------------------------------------------------------------------\")\n",
    "print(f\"Earth: mean -> {mean_earth_food_transported} : median -> {median_earth_food_transported}\")\n",
    "print(f\"Europa: mean -> {mean_europa_food_transported} : median -> {median_europa_food_transported}\")\n",
    "print(f\"Mars: mean -> {mean_mars_food_transported} : median -> {median_mars_food_transported}\")\n",
    "print()\n",
    "print(\"Not Transported Food Court Account\")\n",
    "print(\"--------------------------------------------------------------------------------------------------\")\n",
    "print(f\"Earth: mean -> {mean_earth_food_nt_transported} : median -> {median_earth_food_nt_transported}\")\n",
    "print(f\"Europa: mean -> {mean_europa_food_nt_transported} : median -> {median_europa_food_nt_transported}\")\n",
    "print(f\"Mars: mean -> {mean_mars_food_nt_transported} : median -> {median_mars_food_nt_transported}\")"
   ]
  },
  {
   "cell_type": "code",
   "execution_count": 22,
   "id": "06146ac8",
   "metadata": {
    "execution": {
     "iopub.execute_input": "2022-10-09T04:10:42.950216Z",
     "iopub.status.busy": "2022-10-09T04:10:42.949488Z",
     "iopub.status.idle": "2022-10-09T04:10:43.310059Z",
     "shell.execute_reply": "2022-10-09T04:10:43.309060Z"
    },
    "papermill": {
     "duration": 0.386953,
     "end_time": "2022-10-09T04:10:43.312531",
     "exception": false,
     "start_time": "2022-10-09T04:10:42.925578",
     "status": "completed"
    },
    "tags": []
   },
   "outputs": [
    {
     "data": {
      "text/plain": [
       "<seaborn.axisgrid.FacetGrid at 0x7f938ab6b050>"
      ]
     },
     "execution_count": 22,
     "metadata": {},
     "output_type": "execute_result"
    },
    {
     "data": {
      "image/png": "[encoded data removed]",
      "text/plain": [
       "<Figure size 360x360 with 1 Axes>"
      ]
     },
     "metadata": {
      "needs_background": "light"
     },
     "output_type": "display_data"
    }
   ],
   "source": [
    "sns.catplot(data=titanic, kind=\"violin\", x=\"Transported\", y=\"ShoppingMall\", hue=\"Transported\")"
   ]
  },
  {
   "cell_type": "code",
   "execution_count": 23,
   "id": "19eaf913",
   "metadata": {
    "execution": {
     "iopub.execute_input": "2022-10-09T04:10:43.363972Z",
     "iopub.status.busy": "2022-10-09T04:10:43.363118Z",
     "iopub.status.idle": "2022-10-09T04:10:43.395357Z",
     "shell.execute_reply": "2022-10-09T04:10:43.393730Z"
    },
    "papermill": {
     "duration": 0.061328,
     "end_time": "2022-10-09T04:10:43.398612",
     "exception": false,
     "start_time": "2022-10-09T04:10:43.337284",
     "status": "completed"
    },
    "tags": []
   },
   "outputs": [
    {
     "name": "stdout",
     "output_type": "stream",
     "text": [
      "Transported Shopping Mall Account\n",
      "--------------------------------------------------------------------------------------------------\n",
      "Earth: mean -> 168.88771744860307 : median -> 0.0\n",
      "Europa: mean -> 261.0755555555556 : median -> 0.0\n",
      "Mars: mean -> 145.4835646457268 : median -> 0.0\n",
      "\n",
      "Not Transported Shopping Mall Account\n",
      "--------------------------------------------------------------------------------------------------\n",
      "Earth: mean -> 108.25607404550713 : median -> 0.0\n",
      "Europa: mean -> 360.24787363304984 : median -> 109.0\n",
      "Mars: mean -> 162.04090267983074 : median -> 0.0\n"
     ]
    }
   ],
   "source": [
    "mean_earth_shop_transported, median_earth_shop_transported = get_stats(transported, \"Earth\", \"ShoppingMall\")\n",
    "mean_earth_shop_nt_transported, median_earth_shop_nt_transported = get_stats(nt_transported, \"Earth\", \"ShoppingMall\")\n",
    "\n",
    "mean_mars_shop_transported, median_mars_shop_transported = get_stats(transported, \"Europa\", \"ShoppingMall\")\n",
    "mean_mars_shop_nt_transported, median_mars_shop_nt_transported = get_stats(nt_transported, \"Europa\", \"ShoppingMall\")\n",
    "\n",
    "mean_europa_shop_transported, median_europa_shop_transported = get_stats(transported, \"Mars\", \"ShoppingMall\")\n",
    "mean_europa_shop_nt_transported, median_europa_shop_nt_transported = get_stats(nt_transported, \"Mars\", \"ShoppingMall\")\n",
    "\n",
    "print(\"Transported Shopping Mall Account\")\n",
    "print(\"--------------------------------------------------------------------------------------------------\")\n",
    "print(f\"Earth: mean -> {mean_earth_shop_transported} : median -> {median_earth_shop_transported}\")\n",
    "print(f\"Europa: mean -> {mean_europa_shop_transported} : median -> {median_europa_shop_transported}\")\n",
    "print(f\"Mars: mean -> {mean_mars_shop_transported} : median -> {median_mars_shop_transported}\")\n",
    "print()\n",
    "print(\"Not Transported Shopping Mall Account\")\n",
    "print(\"--------------------------------------------------------------------------------------------------\")\n",
    "print(f\"Earth: mean -> {mean_earth_shop_nt_transported} : median -> {median_earth_shop_nt_transported}\")\n",
    "print(f\"Europa: mean -> {mean_europa_shop_nt_transported} : median -> {median_europa_shop_nt_transported}\")\n",
    "print(f\"Mars: mean -> {mean_mars_shop_nt_transported} : median -> {median_mars_shop_nt_transported}\")"
   ]
  },
  {
   "cell_type": "code",
   "execution_count": 24,
   "id": "89410271",
   "metadata": {
    "execution": {
     "iopub.execute_input": "2022-10-09T04:10:43.450124Z",
     "iopub.status.busy": "2022-10-09T04:10:43.449652Z",
     "iopub.status.idle": "2022-10-09T04:10:43.799442Z",
     "shell.execute_reply": "2022-10-09T04:10:43.798328Z"
    },
    "papermill": {
     "duration": 0.377822,
     "end_time": "2022-10-09T04:10:43.802201",
     "exception": false,
     "start_time": "2022-10-09T04:10:43.424379",
     "status": "completed"
    },
    "tags": []
   },
   "outputs": [
    {
     "data": {
      "text/plain": [
       "<seaborn.axisgrid.FacetGrid at 0x7f938ac101d0>"
      ]
     },
     "execution_count": 24,
     "metadata": {},
     "output_type": "execute_result"
    },
    {
     "data": {
      "image/png": "[encoded data removed]",
      "text/plain": [
       "<Figure size 360x360 with 1 Axes>"
      ]
     },
     "metadata": {
      "needs_background": "light"
     },
     "output_type": "display_data"
    }
   ],
   "source": [
    "sns.catplot(data=titanic, kind=\"violin\", x=\"Transported\", y=\"Spa\", hue=\"Transported\")"
   ]
  },
  {
   "cell_type": "code",
   "execution_count": 25,
   "id": "4d30f693",
   "metadata": {
    "execution": {
     "iopub.execute_input": "2022-10-09T04:10:43.855251Z",
     "iopub.status.busy": "2022-10-09T04:10:43.853846Z",
     "iopub.status.idle": "2022-10-09T04:10:43.889538Z",
     "shell.execute_reply": "2022-10-09T04:10:43.887238Z"
    },
    "papermill": {
     "duration": 0.06531,
     "end_time": "2022-10-09T04:10:43.892645",
     "exception": false,
     "start_time": "2022-10-09T04:10:43.827335",
     "status": "completed"
    },
    "tags": []
   },
   "outputs": [
    {
     "name": "stdout",
     "output_type": "stream",
     "text": [
      "Transported Spa Account\n",
      "--------------------------------------------------------------------------------------------------\n",
      "Earth: mean -> 39.71413612565445 : median -> 0.0\n",
      "Europa: mean -> 10.695121951219512 : median -> 0.0\n",
      "Mars: mean -> 126.40975254730714 : median -> 0.0\n",
      "\n",
      "Not Transported Spa Account\n",
      "--------------------------------------------------------------------------------------------------\n",
      "Earth: mean -> 218.70111839568068 : median -> 0.0\n",
      "Europa: mean -> 219.5676004872107 : median -> 0.0\n",
      "Mars: mean -> 2240.669943820225 : median -> 1186.5\n"
     ]
    }
   ],
   "source": [
    "mean_earth_spa_transported, median_earth_spa_transported = get_stats(transported, \"Earth\", \"Spa\")\n",
    "mean_earth_spa_nt_transported, median_earth_spa_nt_transported = get_stats(nt_transported, \"Earth\", \"Spa\")\n",
    "\n",
    "mean_mars_spa_transported, median_mars_spa_transported = get_stats(transported, \"Europa\", \"Spa\")\n",
    "mean_mars_spa_nt_transported, median_mars_spa_nt_transported = get_stats(nt_transported, \"Europa\", \"Spa\")\n",
    "\n",
    "mean_europa_spa_transported, median_europa_spa_transported = get_stats(transported, \"Mars\", \"Spa\")\n",
    "mean_europa_spa_nt_transported, median_europa_spa_nt_transported = get_stats(nt_transported, \"Mars\", \"Spa\")\n",
    "\n",
    "print(\"Transported Spa Account\")\n",
    "print(\"--------------------------------------------------------------------------------------------------\")\n",
    "print(f\"Earth: mean -> {mean_earth_spa_transported} : median -> {median_earth_spa_transported}\")\n",
    "print(f\"Europa: mean -> {mean_europa_spa_transported} : median -> {median_europa_spa_transported}\")\n",
    "print(f\"Mars: mean -> {mean_mars_spa_transported} : median -> {median_mars_spa_transported}\")\n",
    "print()\n",
    "print(\"Not Transported Spa Account\")\n",
    "print(\"--------------------------------------------------------------------------------------------------\")\n",
    "print(f\"Earth: mean -> {mean_earth_spa_nt_transported} : median -> {median_earth_spa_nt_transported}\")\n",
    "print(f\"Europa: mean -> {mean_europa_spa_nt_transported} : median -> {median_europa_spa_nt_transported}\")\n",
    "print(f\"Mars: mean -> {mean_mars_spa_nt_transported} : median -> {median_mars_spa_nt_transported}\")"
   ]
  },
  {
   "cell_type": "code",
   "execution_count": 26,
   "id": "62a6f913",
   "metadata": {
    "execution": {
     "iopub.execute_input": "2022-10-09T04:10:43.941842Z",
     "iopub.status.busy": "2022-10-09T04:10:43.941407Z",
     "iopub.status.idle": "2022-10-09T04:10:44.291751Z",
     "shell.execute_reply": "2022-10-09T04:10:44.290508Z"
    },
    "papermill": {
     "duration": 0.377945,
     "end_time": "2022-10-09T04:10:44.294497",
     "exception": false,
     "start_time": "2022-10-09T04:10:43.916552",
     "status": "completed"
    },
    "tags": []
   },
   "outputs": [
    {
     "data": {
      "text/plain": [
       "<seaborn.axisgrid.FacetGrid at 0x7f938aa53f90>"
      ]
     },
     "execution_count": 26,
     "metadata": {},
     "output_type": "execute_result"
    },
    {
     "data": {
      "image/png": "[encoded data removed]",
      "text/plain": [
       "<Figure size 360x360 with 1 Axes>"
      ]
     },
     "metadata": {
      "needs_background": "light"
     },
     "output_type": "display_data"
    }
   ],
   "source": [
    "sns.catplot(data=titanic, kind=\"violin\", x=\"Transported\", y=\"VRDeck\", hue=\"Transported\")"
   ]
  },
  {
   "cell_type": "code",
   "execution_count": 27,
   "id": "baff06b9",
   "metadata": {
    "execution": {
     "iopub.execute_input": "2022-10-09T04:10:44.344652Z",
     "iopub.status.busy": "2022-10-09T04:10:44.343347Z",
     "iopub.status.idle": "2022-10-09T04:10:44.372546Z",
     "shell.execute_reply": "2022-10-09T04:10:44.371183Z"
    },
    "papermill": {
     "duration": 0.057265,
     "end_time": "2022-10-09T04:10:44.375414",
     "exception": false,
     "start_time": "2022-10-09T04:10:44.318149",
     "status": "completed"
    },
    "tags": []
   },
   "outputs": [
    {
     "name": "stdout",
     "output_type": "stream",
     "text": [
      "Transported Spa Account\n",
      "--------------------------------------------------------------------------------------------------\n",
      "Earth: mean -> 44.0514705882353 : median -> 0.0\n",
      "Europa: mean -> 8.071428571428571 : median -> 0.0\n",
      "Mars: mean -> 141.3098693759071 : median -> 0.0\n",
      "\n",
      "Not Transported Spa Account\n",
      "--------------------------------------------------------------------------------------------------\n",
      "Earth: mean -> 207.37572477773483 : median -> 0.0\n",
      "Europa: mean -> 90.25 : median -> 0.0\n",
      "Mars: mean -> 2289.286312849162 : median -> 1221.0\n"
     ]
    }
   ],
   "source": [
    "mean_earth_deck_transported, median_earth_deck_transported = get_stats(transported, \"Earth\", \"VRDeck\")\n",
    "mean_earth_deck_nt_transported, median_earth_deck_nt_transported = get_stats(nt_transported, \"Earth\", \"VRDeck\")\n",
    "\n",
    "mean_mars_deck_transported, median_mars_deck_transported = get_stats(transported, \"Europa\", \"VRDeck\")\n",
    "mean_mars_deck_nt_transported, median_mars_deck_nt_transported = get_stats(nt_transported, \"Europa\", \"VRDeck\")\n",
    "\n",
    "mean_europa_deck_transported, median_europa_deck_transported = get_stats(transported, \"Mars\", \"VRDeck\")\n",
    "mean_europa_deck_nt_transported, median_europa_deck_nt_transported = get_stats(nt_transported, \"Mars\", \"VRDeck\")\n",
    "\n",
    "print(\"Transported Spa Account\")\n",
    "print(\"--------------------------------------------------------------------------------------------------\")\n",
    "print(f\"Earth: mean -> {mean_earth_deck_transported} : median -> {median_earth_deck_transported}\")\n",
    "print(f\"Europa: mean -> {mean_europa_deck_transported} : median -> {median_europa_deck_transported}\")\n",
    "print(f\"Mars: mean -> {mean_mars_deck_transported} : median -> {median_mars_deck_transported}\")\n",
    "print()\n",
    "print(\"Not Transported Spa Account\")\n",
    "print(\"--------------------------------------------------------------------------------------------------\")\n",
    "print(f\"Earth: mean -> {mean_earth_deck_nt_transported} : median -> {median_earth_deck_nt_transported}\")\n",
    "print(f\"Europa: mean -> {mean_europa_deck_nt_transported} : median -> {median_europa_deck_nt_transported}\")\n",
    "print(f\"Mars: mean -> {mean_mars_deck_nt_transported} : median -> {median_mars_deck_nt_transported}\")"
   ]
  },
  {
   "cell_type": "code",
   "execution_count": 28,
   "id": "1743a91b",
   "metadata": {
    "execution": {
     "iopub.execute_input": "2022-10-09T04:10:44.430621Z",
     "iopub.status.busy": "2022-10-09T04:10:44.429421Z",
     "iopub.status.idle": "2022-10-09T04:10:44.520193Z",
     "shell.execute_reply": "2022-10-09T04:10:44.519146Z"
    },
    "papermill": {
     "duration": 0.123642,
     "end_time": "2022-10-09T04:10:44.523349",
     "exception": false,
     "start_time": "2022-10-09T04:10:44.399707",
     "status": "completed"
    },
    "tags": []
   },
   "outputs": [
    {
     "data": {
      "text/html": [
       "<div>\n",
       "<style scoped>\n",
       "    .dataframe tbody tr th:only-of-type {\n",
       "        vertical-align: middle;\n",
       "    }\n",
       "\n",
       "    .dataframe tbody tr th {\n",
       "        vertical-align: top;\n",
       "    }\n",
       "\n",
       "    .dataframe thead th {\n",
       "        text-align: right;\n",
       "    }\n",
       "</style>\n",
       "<table border=\"1\" class=\"dataframe\">\n",
       "  <thead>\n",
       "    <tr style=\"text-align: right;\">\n",
       "      <th></th>\n",
       "      <th>PassengerId</th>\n",
       "      <th>HomePlanet</th>\n",
       "      <th>CryoSleep</th>\n",
       "      <th>Cabin</th>\n",
       "      <th>Destination</th>\n",
       "      <th>Age</th>\n",
       "      <th>VIP</th>\n",
       "      <th>RoomService</th>\n",
       "      <th>FoodCourt</th>\n",
       "      <th>ShoppingMall</th>\n",
       "      <th>Spa</th>\n",
       "      <th>VRDeck</th>\n",
       "      <th>Name</th>\n",
       "      <th>Transported</th>\n",
       "      <th>Deck</th>\n",
       "      <th>Num</th>\n",
       "      <th>Port</th>\n",
       "    </tr>\n",
       "  </thead>\n",
       "  <tbody>\n",
       "    <tr>\n",
       "      <th>0</th>\n",
       "      <td>0001_01</td>\n",
       "      <td>Europa</td>\n",
       "      <td>False</td>\n",
       "      <td>B/0/P</td>\n",
       "      <td>TRAPPIST-1e</td>\n",
       "      <td>39.0</td>\n",
       "      <td>False</td>\n",
       "      <td>0.0</td>\n",
       "      <td>0.0</td>\n",
       "      <td>0.0</td>\n",
       "      <td>0.0</td>\n",
       "      <td>0.0</td>\n",
       "      <td>Maham Ofracculy</td>\n",
       "      <td>False</td>\n",
       "      <td>B</td>\n",
       "      <td>0</td>\n",
       "      <td>P</td>\n",
       "    </tr>\n",
       "    <tr>\n",
       "      <th>1</th>\n",
       "      <td>0002_01</td>\n",
       "      <td>Earth</td>\n",
       "      <td>False</td>\n",
       "      <td>F/0/S</td>\n",
       "      <td>TRAPPIST-1e</td>\n",
       "      <td>24.0</td>\n",
       "      <td>False</td>\n",
       "      <td>109.0</td>\n",
       "      <td>9.0</td>\n",
       "      <td>25.0</td>\n",
       "      <td>549.0</td>\n",
       "      <td>44.0</td>\n",
       "      <td>Juanna Vines</td>\n",
       "      <td>True</td>\n",
       "      <td>F</td>\n",
       "      <td>0</td>\n",
       "      <td>S</td>\n",
       "    </tr>\n",
       "    <tr>\n",
       "      <th>2</th>\n",
       "      <td>0003_01</td>\n",
       "      <td>Europa</td>\n",
       "      <td>False</td>\n",
       "      <td>A/0/S</td>\n",
       "      <td>TRAPPIST-1e</td>\n",
       "      <td>58.0</td>\n",
       "      <td>True</td>\n",
       "      <td>43.0</td>\n",
       "      <td>3576.0</td>\n",
       "      <td>0.0</td>\n",
       "      <td>6715.0</td>\n",
       "      <td>49.0</td>\n",
       "      <td>Altark Susent</td>\n",
       "      <td>False</td>\n",
       "      <td>A</td>\n",
       "      <td>0</td>\n",
       "      <td>S</td>\n",
       "    </tr>\n",
       "    <tr>\n",
       "      <th>3</th>\n",
       "      <td>0003_02</td>\n",
       "      <td>Europa</td>\n",
       "      <td>False</td>\n",
       "      <td>A/0/S</td>\n",
       "      <td>TRAPPIST-1e</td>\n",
       "      <td>33.0</td>\n",
       "      <td>False</td>\n",
       "      <td>0.0</td>\n",
       "      <td>1283.0</td>\n",
       "      <td>371.0</td>\n",
       "      <td>3329.0</td>\n",
       "      <td>193.0</td>\n",
       "      <td>Solam Susent</td>\n",
       "      <td>False</td>\n",
       "      <td>A</td>\n",
       "      <td>0</td>\n",
       "      <td>S</td>\n",
       "    </tr>\n",
       "    <tr>\n",
       "      <th>4</th>\n",
       "      <td>0004_01</td>\n",
       "      <td>Earth</td>\n",
       "      <td>False</td>\n",
       "      <td>F/1/S</td>\n",
       "      <td>TRAPPIST-1e</td>\n",
       "      <td>16.0</td>\n",
       "      <td>False</td>\n",
       "      <td>303.0</td>\n",
       "      <td>70.0</td>\n",
       "      <td>151.0</td>\n",
       "      <td>565.0</td>\n",
       "      <td>2.0</td>\n",
       "      <td>Willy Santantines</td>\n",
       "      <td>True</td>\n",
       "      <td>F</td>\n",
       "      <td>1</td>\n",
       "      <td>S</td>\n",
       "    </tr>\n",
       "  </tbody>\n",
       "</table>\n",
       "</div>"
      ],
      "text/plain": [
       "  PassengerId HomePlanet CryoSleep  Cabin  Destination   Age    VIP  \\\n",
       "0     0001_01     Europa     False  B/0/P  TRAPPIST-1e  39.0  False   \n",
       "1     0002_01      Earth     False  F/0/S  TRAPPIST-1e  24.0  False   \n",
       "2     0003_01     Europa     False  A/0/S  TRAPPIST-1e  58.0   True   \n",
       "3     0003_02     Europa     False  A/0/S  TRAPPIST-1e  33.0  False   \n",
       "4     0004_01      Earth     False  F/1/S  TRAPPIST-1e  16.0  False   \n",
       "\n",
       "   RoomService  FoodCourt  ShoppingMall     Spa  VRDeck               Name  \\\n",
       "0          0.0        0.0           0.0     0.0     0.0    Maham Ofracculy   \n",
       "1        109.0        9.0          25.0   549.0    44.0       Juanna Vines   \n",
       "2         43.0     3576.0           0.0  6715.0    49.0      Altark Susent   \n",
       "3          0.0     1283.0         371.0  3329.0   193.0       Solam Susent   \n",
       "4        303.0       70.0         151.0   565.0     2.0  Willy Santantines   \n",
       "\n",
       "   Transported Deck Num Port  \n",
       "0        False    B   0    P  \n",
       "1         True    F   0    S  \n",
       "2        False    A   0    S  \n",
       "3        False    A   0    S  \n",
       "4         True    F   1    S  "
      ]
     },
     "execution_count": 28,
     "metadata": {},
     "output_type": "execute_result"
    }
   ],
   "source": [
    "titanic['Deck'] =  titanic['Cabin'].str.split('/').str[0]\n",
    "titanic['Num'] =  titanic['Cabin'].str.split('/').str[1]\n",
    "titanic['Port'] =  titanic['Cabin'].str.split('/').str[-1]\n",
    "\n",
    "titanic.head()"
   ]
  },
  {
   "cell_type": "code",
   "execution_count": 29,
   "id": "68300452",
   "metadata": {
    "execution": {
     "iopub.execute_input": "2022-10-09T04:10:44.574417Z",
     "iopub.status.busy": "2022-10-09T04:10:44.573437Z",
     "iopub.status.idle": "2022-10-09T04:10:44.581081Z",
     "shell.execute_reply": "2022-10-09T04:10:44.579815Z"
    },
    "papermill": {
     "duration": 0.035998,
     "end_time": "2022-10-09T04:10:44.584050",
     "exception": false,
     "start_time": "2022-10-09T04:10:44.548052",
     "status": "completed"
    },
    "tags": []
   },
   "outputs": [
    {
     "name": "stdout",
     "output_type": "stream",
     "text": [
      "F    2794\n",
      "G    2559\n",
      "E     876\n",
      "B     779\n",
      "C     747\n",
      "D     478\n",
      "A     256\n",
      "T       5\n",
      "Name: Deck, dtype: int64\n"
     ]
    }
   ],
   "source": [
    "print(titanic[\"Deck\"].value_counts())"
   ]
  },
  {
   "cell_type": "code",
   "execution_count": 30,
   "id": "3e88644b",
   "metadata": {
    "execution": {
     "iopub.execute_input": "2022-10-09T04:10:44.635263Z",
     "iopub.status.busy": "2022-10-09T04:10:44.634845Z",
     "iopub.status.idle": "2022-10-09T04:10:44.942029Z",
     "shell.execute_reply": "2022-10-09T04:10:44.941071Z"
    },
    "papermill": {
     "duration": 0.335094,
     "end_time": "2022-10-09T04:10:44.944443",
     "exception": false,
     "start_time": "2022-10-09T04:10:44.609349",
     "status": "completed"
    },
    "tags": []
   },
   "outputs": [
    {
     "data": {
      "text/plain": [
       "<AxesSubplot:xlabel='Deck', ylabel='count'>"
      ]
     },
     "execution_count": 30,
     "metadata": {},
     "output_type": "execute_result"
    },
    {
     "data": {
      "image/png": "[encoded data removed]",
      "text/plain": [
       "<Figure size 432x288 with 1 Axes>"
      ]
     },
     "metadata": {
      "needs_background": "light"
     },
     "output_type": "display_data"
    }
   ],
   "source": [
    "sns.countplot(data = titanic, x=\"Deck\", hue=\"Transported\", palette=\"husl\")"
   ]
  },
  {
   "cell_type": "code",
   "execution_count": 31,
   "id": "97a42272",
   "metadata": {
    "execution": {
     "iopub.execute_input": "2022-10-09T04:10:44.996141Z",
     "iopub.status.busy": "2022-10-09T04:10:44.995275Z",
     "iopub.status.idle": "2022-10-09T04:10:45.323979Z",
     "shell.execute_reply": "2022-10-09T04:10:45.322766Z"
    },
    "papermill": {
     "duration": 0.357209,
     "end_time": "2022-10-09T04:10:45.326618",
     "exception": false,
     "start_time": "2022-10-09T04:10:44.969409",
     "status": "completed"
    },
    "tags": []
   },
   "outputs": [
    {
     "data": {
      "text/plain": [
       "<AxesSubplot:xlabel='Deck', ylabel='count'>"
      ]
     },
     "execution_count": 31,
     "metadata": {},
     "output_type": "execute_result"
    },
    {
     "data": {
      "image/png": "[encoded data removed]",
      "text/plain": [
       "<Figure size 432x288 with 1 Axes>"
      ]
     },
     "metadata": {
      "needs_background": "light"
     },
     "output_type": "display_data"
    }
   ],
   "source": [
    "sns.countplot(data = titanic, x=\"Deck\", hue=\"HomePlanet\", palette=\"husl\")"
   ]
  },
  {
   "cell_type": "code",
   "execution_count": 32,
   "id": "44d13d59",
   "metadata": {
    "execution": {
     "iopub.execute_input": "2022-10-09T04:10:45.378045Z",
     "iopub.status.busy": "2022-10-09T04:10:45.377633Z",
     "iopub.status.idle": "2022-10-09T04:10:45.387934Z",
     "shell.execute_reply": "2022-10-09T04:10:45.386342Z"
    },
    "papermill": {
     "duration": 0.039377,
     "end_time": "2022-10-09T04:10:45.390715",
     "exception": false,
     "start_time": "2022-10-09T04:10:45.351338",
     "status": "completed"
    },
    "tags": []
   },
   "outputs": [
    {
     "name": "stdout",
     "output_type": "stream",
     "text": [
      "82      28\n",
      "86      22\n",
      "19      22\n",
      "56      21\n",
      "176     21\n",
      "        ..\n",
      "1644     1\n",
      "1515     1\n",
      "1639     1\n",
      "1277     1\n",
      "1894     1\n",
      "Name: Num, Length: 1817, dtype: int64\n"
     ]
    }
   ],
   "source": [
    "print(titanic[\"Num\"].value_counts())"
   ]
  },
  {
   "cell_type": "code",
   "execution_count": 33,
   "id": "93024851",
   "metadata": {
    "execution": {
     "iopub.execute_input": "2022-10-09T04:10:45.445259Z",
     "iopub.status.busy": "2022-10-09T04:10:45.443877Z",
     "iopub.status.idle": "2022-10-09T04:10:45.452309Z",
     "shell.execute_reply": "2022-10-09T04:10:45.450789Z"
    },
    "papermill": {
     "duration": 0.037738,
     "end_time": "2022-10-09T04:10:45.455148",
     "exception": false,
     "start_time": "2022-10-09T04:10:45.417410",
     "status": "completed"
    },
    "tags": []
   },
   "outputs": [
    {
     "name": "stdout",
     "output_type": "stream",
     "text": [
      "S    4288\n",
      "P    4206\n",
      "Name: Port, dtype: int64\n"
     ]
    }
   ],
   "source": [
    "print(titanic[\"Port\"].value_counts())"
   ]
  },
  {
   "cell_type": "code",
   "execution_count": 34,
   "id": "d40c57c8",
   "metadata": {
    "execution": {
     "iopub.execute_input": "2022-10-09T04:10:45.508791Z",
     "iopub.status.busy": "2022-10-09T04:10:45.507826Z",
     "iopub.status.idle": "2022-10-09T04:10:45.745641Z",
     "shell.execute_reply": "2022-10-09T04:10:45.744483Z"
    },
    "papermill": {
     "duration": 0.266649,
     "end_time": "2022-10-09T04:10:45.747977",
     "exception": false,
     "start_time": "2022-10-09T04:10:45.481328",
     "status": "completed"
    },
    "tags": []
   },
   "outputs": [
    {
     "data": {
      "text/plain": [
       "<AxesSubplot:xlabel='Port', ylabel='count'>"
      ]
     },
     "execution_count": 34,
     "metadata": {},
     "output_type": "execute_result"
    },
    {
     "data": {
      "image/png": "[encoded data removed]",
      "text/plain": [
       "<Figure size 432x288 with 1 Axes>"
      ]
     },
     "metadata": {
      "needs_background": "light"
     },
     "output_type": "display_data"
    }
   ],
   "source": [
    "sns.countplot(data = titanic, x=\"Port\", hue=\"Transported\", palette=\"husl\")"
   ]
  },
  {
   "cell_type": "code",
   "execution_count": 35,
   "id": "f311612d",
   "metadata": {
    "execution": {
     "iopub.execute_input": "2022-10-09T04:10:45.804424Z",
     "iopub.status.busy": "2022-10-09T04:10:45.803812Z",
     "iopub.status.idle": "2022-10-09T04:10:45.809399Z",
     "shell.execute_reply": "2022-10-09T04:10:45.808230Z"
    },
    "papermill": {
     "duration": 0.038059,
     "end_time": "2022-10-09T04:10:45.811918",
     "exception": false,
     "start_time": "2022-10-09T04:10:45.773859",
     "status": "completed"
    },
    "tags": []
   },
   "outputs": [],
   "source": [
    "def add_column(df, column):\n",
    "    df[f\"{column}_present\"] = np.where(df[column] != 'NaN', 1, 0)\n",
    "    return df"
   ]
  },
  {
   "cell_type": "code",
   "execution_count": 36,
   "id": "bf120978",
   "metadata": {
    "execution": {
     "iopub.execute_input": "2022-10-09T04:10:45.864181Z",
     "iopub.status.busy": "2022-10-09T04:10:45.863769Z",
     "iopub.status.idle": "2022-10-09T04:10:46.126895Z",
     "shell.execute_reply": "2022-10-09T04:10:46.125552Z"
    },
    "papermill": {
     "duration": 0.292309,
     "end_time": "2022-10-09T04:10:46.129395",
     "exception": false,
     "start_time": "2022-10-09T04:10:45.837086",
     "status": "completed"
    },
    "tags": []
   },
   "outputs": [
    {
     "data": {
      "text/plain": [
       "<AxesSubplot:xlabel='Destination', ylabel='count'>"
      ]
     },
     "execution_count": 36,
     "metadata": {},
     "output_type": "execute_result"
    },
    {
     "data": {
      "image/png": "[encoded data removed]",
      "text/plain": [
       "<Figure size 432x288 with 1 Axes>"
      ]
     },
     "metadata": {
      "needs_background": "light"
     },
     "output_type": "display_data"
    }
   ],
   "source": [
    "sns.countplot(data = titanic, x=\"Destination\", hue=\"HomePlanet\", palette=\"husl\")"
   ]
  },
  {
   "cell_type": "code",
   "execution_count": 37,
   "id": "ae861d23",
   "metadata": {
    "execution": {
     "iopub.execute_input": "2022-10-09T04:10:46.182871Z",
     "iopub.status.busy": "2022-10-09T04:10:46.182432Z",
     "iopub.status.idle": "2022-10-09T04:10:46.209069Z",
     "shell.execute_reply": "2022-10-09T04:10:46.207833Z"
    },
    "papermill": {
     "duration": 0.056642,
     "end_time": "2022-10-09T04:10:46.211856",
     "exception": false,
     "start_time": "2022-10-09T04:10:46.155214",
     "status": "completed"
    },
    "tags": []
   },
   "outputs": [],
   "source": [
    "cols = titanic.columns[titanic.isna().any()].tolist()\n",
    "for col in cols:\n",
    "    titianic = add_column(titanic, col)"
   ]
  },
  {
   "cell_type": "code",
   "execution_count": 38,
   "id": "e8d76ec6",
   "metadata": {
    "execution": {
     "iopub.execute_input": "2022-10-09T04:10:46.266368Z",
     "iopub.status.busy": "2022-10-09T04:10:46.265934Z",
     "iopub.status.idle": "2022-10-09T04:10:46.292415Z",
     "shell.execute_reply": "2022-10-09T04:10:46.291279Z"
    },
    "papermill": {
     "duration": 0.056924,
     "end_time": "2022-10-09T04:10:46.294699",
     "exception": false,
     "start_time": "2022-10-09T04:10:46.237775",
     "status": "completed"
    },
    "tags": []
   },
   "outputs": [
    {
     "data": {
      "text/html": [
       "<div>\n",
       "<style scoped>\n",
       "    .dataframe tbody tr th:only-of-type {\n",
       "        vertical-align: middle;\n",
       "    }\n",
       "\n",
       "    .dataframe tbody tr th {\n",
       "        vertical-align: top;\n",
       "    }\n",
       "\n",
       "    .dataframe thead th {\n",
       "        text-align: right;\n",
       "    }\n",
       "</style>\n",
       "<table border=\"1\" class=\"dataframe\">\n",
       "  <thead>\n",
       "    <tr style=\"text-align: right;\">\n",
       "      <th></th>\n",
       "      <th>PassengerId</th>\n",
       "      <th>HomePlanet</th>\n",
       "      <th>CryoSleep</th>\n",
       "      <th>Cabin</th>\n",
       "      <th>Destination</th>\n",
       "      <th>Age</th>\n",
       "      <th>VIP</th>\n",
       "      <th>RoomService</th>\n",
       "      <th>FoodCourt</th>\n",
       "      <th>ShoppingMall</th>\n",
       "      <th>...</th>\n",
       "      <th>VIP_present</th>\n",
       "      <th>RoomService_present</th>\n",
       "      <th>FoodCourt_present</th>\n",
       "      <th>ShoppingMall_present</th>\n",
       "      <th>Spa_present</th>\n",
       "      <th>VRDeck_present</th>\n",
       "      <th>Name_present</th>\n",
       "      <th>Deck_present</th>\n",
       "      <th>Num_present</th>\n",
       "      <th>Port_present</th>\n",
       "    </tr>\n",
       "  </thead>\n",
       "  <tbody>\n",
       "    <tr>\n",
       "      <th>0</th>\n",
       "      <td>0001_01</td>\n",
       "      <td>Europa</td>\n",
       "      <td>False</td>\n",
       "      <td>B/0/P</td>\n",
       "      <td>TRAPPIST-1e</td>\n",
       "      <td>39.0</td>\n",
       "      <td>False</td>\n",
       "      <td>0.0</td>\n",
       "      <td>0.0</td>\n",
       "      <td>0.0</td>\n",
       "      <td>...</td>\n",
       "      <td>1</td>\n",
       "      <td>1</td>\n",
       "      <td>1</td>\n",
       "      <td>1</td>\n",
       "      <td>1</td>\n",
       "      <td>1</td>\n",
       "      <td>1</td>\n",
       "      <td>1</td>\n",
       "      <td>1</td>\n",
       "      <td>1</td>\n",
       "    </tr>\n",
       "    <tr>\n",
       "      <th>1</th>\n",
       "      <td>0002_01</td>\n",
       "      <td>Earth</td>\n",
       "      <td>False</td>\n",
       "      <td>F/0/S</td>\n",
       "      <td>TRAPPIST-1e</td>\n",
       "      <td>24.0</td>\n",
       "      <td>False</td>\n",
       "      <td>109.0</td>\n",
       "      <td>9.0</td>\n",
       "      <td>25.0</td>\n",
       "      <td>...</td>\n",
       "      <td>1</td>\n",
       "      <td>1</td>\n",
       "      <td>1</td>\n",
       "      <td>1</td>\n",
       "      <td>1</td>\n",
       "      <td>1</td>\n",
       "      <td>1</td>\n",
       "      <td>1</td>\n",
       "      <td>1</td>\n",
       "      <td>1</td>\n",
       "    </tr>\n",
       "    <tr>\n",
       "      <th>2</th>\n",
       "      <td>0003_01</td>\n",
       "      <td>Europa</td>\n",
       "      <td>False</td>\n",
       "      <td>A/0/S</td>\n",
       "      <td>TRAPPIST-1e</td>\n",
       "      <td>58.0</td>\n",
       "      <td>True</td>\n",
       "      <td>43.0</td>\n",
       "      <td>3576.0</td>\n",
       "      <td>0.0</td>\n",
       "      <td>...</td>\n",
       "      <td>1</td>\n",
       "      <td>1</td>\n",
       "      <td>1</td>\n",
       "      <td>1</td>\n",
       "      <td>1</td>\n",
       "      <td>1</td>\n",
       "      <td>1</td>\n",
       "      <td>1</td>\n",
       "      <td>1</td>\n",
       "      <td>1</td>\n",
       "    </tr>\n",
       "    <tr>\n",
       "      <th>3</th>\n",
       "      <td>0003_02</td>\n",
       "      <td>Europa</td>\n",
       "      <td>False</td>\n",
       "      <td>A/0/S</td>\n",
       "      <td>TRAPPIST-1e</td>\n",
       "      <td>33.0</td>\n",
       "      <td>False</td>\n",
       "      <td>0.0</td>\n",
       "      <td>1283.0</td>\n",
       "      <td>371.0</td>\n",
       "      <td>...</td>\n",
       "      <td>1</td>\n",
       "      <td>1</td>\n",
       "      <td>1</td>\n",
       "      <td>1</td>\n",
       "      <td>1</td>\n",
       "      <td>1</td>\n",
       "      <td>1</td>\n",
       "      <td>1</td>\n",
       "      <td>1</td>\n",
       "      <td>1</td>\n",
       "    </tr>\n",
       "    <tr>\n",
       "      <th>4</th>\n",
       "      <td>0004_01</td>\n",
       "      <td>Earth</td>\n",
       "      <td>False</td>\n",
       "      <td>F/1/S</td>\n",
       "      <td>TRAPPIST-1e</td>\n",
       "      <td>16.0</td>\n",
       "      <td>False</td>\n",
       "      <td>303.0</td>\n",
       "      <td>70.0</td>\n",
       "      <td>151.0</td>\n",
       "      <td>...</td>\n",
       "      <td>1</td>\n",
       "      <td>1</td>\n",
       "      <td>1</td>\n",
       "      <td>1</td>\n",
       "      <td>1</td>\n",
       "      <td>1</td>\n",
       "      <td>1</td>\n",
       "      <td>1</td>\n",
       "      <td>1</td>\n",
       "      <td>1</td>\n",
       "    </tr>\n",
       "  </tbody>\n",
       "</table>\n",
       "<p>5 rows × 32 columns</p>\n",
       "</div>"
      ],
      "text/plain": [
       "  PassengerId HomePlanet CryoSleep  Cabin  Destination   Age    VIP  \\\n",
       "0     0001_01     Europa     False  B/0/P  TRAPPIST-1e  39.0  False   \n",
       "1     0002_01      Earth     False  F/0/S  TRAPPIST-1e  24.0  False   \n",
       "2     0003_01     Europa     False  A/0/S  TRAPPIST-1e  58.0   True   \n",
       "3     0003_02     Europa     False  A/0/S  TRAPPIST-1e  33.0  False   \n",
       "4     0004_01      Earth     False  F/1/S  TRAPPIST-1e  16.0  False   \n",
       "\n",
       "   RoomService  FoodCourt  ShoppingMall  ...  VIP_present  \\\n",
       "0          0.0        0.0           0.0  ...            1   \n",
       "1        109.0        9.0          25.0  ...            1   \n",
       "2         43.0     3576.0           0.0  ...            1   \n",
       "3          0.0     1283.0         371.0  ...            1   \n",
       "4        303.0       70.0         151.0  ...            1   \n",
       "\n",
       "   RoomService_present FoodCourt_present  ShoppingMall_present Spa_present  \\\n",
       "0                    1                 1                     1           1   \n",
       "1                    1                 1                     1           1   \n",
       "2                    1                 1                     1           1   \n",
       "3                    1                 1                     1           1   \n",
       "4                    1                 1                     1           1   \n",
       "\n",
       "  VRDeck_present Name_present  Deck_present  Num_present  Port_present  \n",
       "0              1            1             1            1             1  \n",
       "1              1            1             1            1             1  \n",
       "2              1            1             1            1             1  \n",
       "3              1            1             1            1             1  \n",
       "4              1            1             1            1             1  \n",
       "\n",
       "[5 rows x 32 columns]"
      ]
     },
     "execution_count": 38,
     "metadata": {},
     "output_type": "execute_result"
    }
   ],
   "source": [
    "titanic.head()"
   ]
  },
  {
   "cell_type": "code",
   "execution_count": 39,
   "id": "039182e3",
   "metadata": {
    "execution": {
     "iopub.execute_input": "2022-10-09T04:10:46.349172Z",
     "iopub.status.busy": "2022-10-09T04:10:46.348735Z",
     "iopub.status.idle": "2022-10-09T04:10:46.356444Z",
     "shell.execute_reply": "2022-10-09T04:10:46.355329Z"
    },
    "papermill": {
     "duration": 0.037833,
     "end_time": "2022-10-09T04:10:46.358801",
     "exception": false,
     "start_time": "2022-10-09T04:10:46.320968",
     "status": "completed"
    },
    "tags": []
   },
   "outputs": [],
   "source": [
    "median_age = titanic[\"Age\"].median()\n",
    "titanic.loc[titanic['Age'].isnull(), 'Age'] = median_age"
   ]
  },
  {
   "cell_type": "code",
   "execution_count": 40,
   "id": "4c2165bd",
   "metadata": {
    "execution": {
     "iopub.execute_input": "2022-10-09T04:10:46.412705Z",
     "iopub.status.busy": "2022-10-09T04:10:46.412269Z",
     "iopub.status.idle": "2022-10-09T04:10:46.420515Z",
     "shell.execute_reply": "2022-10-09T04:10:46.419453Z"
    },
    "papermill": {
     "duration": 0.03814,
     "end_time": "2022-10-09T04:10:46.422816",
     "exception": false,
     "start_time": "2022-10-09T04:10:46.384676",
     "status": "completed"
    },
    "tags": []
   },
   "outputs": [],
   "source": [
    "mode_planet = list(titanic[\"HomePlanet\"].mode())[0]\n",
    "titanic[\"HomePlanet\"] = titanic['HomePlanet'].replace(np.nan, mode_planet)"
   ]
  },
  {
   "cell_type": "code",
   "execution_count": 41,
   "id": "772d23bd",
   "metadata": {
    "execution": {
     "iopub.execute_input": "2022-10-09T04:10:46.477565Z",
     "iopub.status.busy": "2022-10-09T04:10:46.476280Z",
     "iopub.status.idle": "2022-10-09T04:10:46.519510Z",
     "shell.execute_reply": "2022-10-09T04:10:46.518469Z"
    },
    "papermill": {
     "duration": 0.072923,
     "end_time": "2022-10-09T04:10:46.522109",
     "exception": false,
     "start_time": "2022-10-09T04:10:46.449186",
     "status": "completed"
    },
    "tags": []
   },
   "outputs": [],
   "source": [
    "mean_room_earth = titanic.loc[titanic[\"HomePlanet\"].str.lower() == \"earth\"][\"RoomService\"].mean()\n",
    "mean_room_europa = titanic.loc[titanic[\"HomePlanet\"].str.lower() == \"mars\"][\"RoomService\"].mean()\n",
    "mean_room_mars = titanic.loc[titanic[\"HomePlanet\"].str.lower() == \"europa\"][\"RoomService\"].mean()\n",
    "\n",
    "titanic.loc[(titanic['RoomService'].isnull()) & (titanic[\"HomePlanet\"].str.lower() == 'earth'), 'RoomService'] = mean_room_earth\n",
    "titanic.loc[(titanic['RoomService'].isnull()) & (titanic[\"HomePlanet\"].str.lower() == 'europa'), 'RoomService'] = mean_room_europa\n",
    "titanic.loc[(titanic['RoomService'].isnull()) & (titanic[\"HomePlanet\"].str.lower() == 'mars'), 'RoomService'] = mean_room_mars"
   ]
  },
  {
   "cell_type": "code",
   "execution_count": 42,
   "id": "cc46163e",
   "metadata": {
    "execution": {
     "iopub.execute_input": "2022-10-09T04:10:46.575668Z",
     "iopub.status.busy": "2022-10-09T04:10:46.574964Z",
     "iopub.status.idle": "2022-10-09T04:10:46.611385Z",
     "shell.execute_reply": "2022-10-09T04:10:46.610060Z"
    },
    "papermill": {
     "duration": 0.066384,
     "end_time": "2022-10-09T04:10:46.614170",
     "exception": false,
     "start_time": "2022-10-09T04:10:46.547786",
     "status": "completed"
    },
    "tags": []
   },
   "outputs": [],
   "source": [
    "mean_food_earth = titanic.loc[titanic[\"HomePlanet\"].str.lower() == \"earth\"][\"FoodCourt\"].mean()\n",
    "mean_food_europa = titanic.loc[titanic[\"HomePlanet\"].str.lower() == \"mars\"][\"FoodCourt\"].mean()\n",
    "mean_food_mars = titanic.loc[titanic[\"HomePlanet\"].str.lower() == \"europa\"][\"FoodCourt\"].mean()\n",
    "\n",
    "titanic.loc[(titanic['FoodCourt'].isnull()) & (titanic[\"HomePlanet\"].str.lower() == 'earth'), 'FoodCourt'] = mean_food_earth\n",
    "titanic.loc[(titanic['FoodCourt'].isnull()) & (titanic[\"HomePlanet\"].str.lower() == 'europa'), 'FoodCourt'] = mean_food_europa\n",
    "titanic.loc[(titanic['FoodCourt'].isnull()) & (titanic[\"HomePlanet\"].str.lower() == 'mars'), 'FoodCourt'] = mean_food_mars"
   ]
  },
  {
   "cell_type": "code",
   "execution_count": 43,
   "id": "01021f6b",
   "metadata": {
    "execution": {
     "iopub.execute_input": "2022-10-09T04:10:46.669362Z",
     "iopub.status.busy": "2022-10-09T04:10:46.668463Z",
     "iopub.status.idle": "2022-10-09T04:10:46.704574Z",
     "shell.execute_reply": "2022-10-09T04:10:46.703254Z"
    },
    "papermill": {
     "duration": 0.067092,
     "end_time": "2022-10-09T04:10:46.707621",
     "exception": false,
     "start_time": "2022-10-09T04:10:46.640529",
     "status": "completed"
    },
    "tags": []
   },
   "outputs": [],
   "source": [
    "mean_shop_earth = titanic.loc[titanic[\"HomePlanet\"].str.lower() == \"earth\"][\"ShoppingMall\"].mean()\n",
    "mean_shop_europa = titanic.loc[titanic[\"HomePlanet\"].str.lower() == \"mars\"][\"ShoppingMall\"].mean()\n",
    "mean_shop_mars = titanic.loc[titanic[\"HomePlanet\"].str.lower() == \"europa\"][\"ShoppingMall\"].mean()\n",
    "\n",
    "titanic.loc[(titanic['ShoppingMall'].isnull()) & (titanic[\"HomePlanet\"].str.lower() == 'earth'), 'ShoppingMall'] = mean_shop_earth\n",
    "titanic.loc[(titanic['ShoppingMall'].isnull()) & (titanic[\"HomePlanet\"].str.lower() == 'europa'), 'ShoppingMall'] = mean_shop_europa\n",
    "titanic.loc[(titanic['ShoppingMall'].isnull()) & (titanic[\"HomePlanet\"].str.lower() == 'mars'), 'ShoppingMall'] = mean_shop_mars"
   ]
  },
  {
   "cell_type": "code",
   "execution_count": 44,
   "id": "628aa8a6",
   "metadata": {
    "execution": {
     "iopub.execute_input": "2022-10-09T04:10:46.760847Z",
     "iopub.status.busy": "2022-10-09T04:10:46.760463Z",
     "iopub.status.idle": "2022-10-09T04:10:46.796971Z",
     "shell.execute_reply": "2022-10-09T04:10:46.795889Z"
    },
    "papermill": {
     "duration": 0.066593,
     "end_time": "2022-10-09T04:10:46.799749",
     "exception": false,
     "start_time": "2022-10-09T04:10:46.733156",
     "status": "completed"
    },
    "tags": []
   },
   "outputs": [],
   "source": [
    "mean_spa_earth = titanic.loc[titanic[\"HomePlanet\"].str.lower() == \"earth\"][\"Spa\"].mean()\n",
    "mean_spa_europa = titanic.loc[titanic[\"HomePlanet\"].str.lower() == \"mars\"][\"Spa\"].mean()\n",
    "mean_spa_mars = titanic.loc[titanic[\"HomePlanet\"].str.lower() == \"europa\"][\"Spa\"].mean()\n",
    "\n",
    "titanic.loc[(titanic['Spa'].isnull()) & (titanic[\"HomePlanet\"].str.lower() == 'earth'), 'Spa'] = mean_spa_earth\n",
    "titanic.loc[(titanic['Spa'].isnull()) & (titanic[\"HomePlanet\"].str.lower() == 'europa'), 'Spa'] = mean_spa_europa\n",
    "titanic.loc[(titanic['Spa'].isnull()) & (titanic[\"HomePlanet\"].str.lower() == 'mars'), 'Spa'] = mean_spa_mars"
   ]
  },
  {
   "cell_type": "code",
   "execution_count": 45,
   "id": "233dc787",
   "metadata": {
    "execution": {
     "iopub.execute_input": "2022-10-09T04:10:46.854386Z",
     "iopub.status.busy": "2022-10-09T04:10:46.853927Z",
     "iopub.status.idle": "2022-10-09T04:10:46.890624Z",
     "shell.execute_reply": "2022-10-09T04:10:46.889466Z"
    },
    "papermill": {
     "duration": 0.067406,
     "end_time": "2022-10-09T04:10:46.893510",
     "exception": false,
     "start_time": "2022-10-09T04:10:46.826104",
     "status": "completed"
    },
    "tags": []
   },
   "outputs": [],
   "source": [
    "mean_deck_earth = titanic.loc[titanic[\"HomePlanet\"].str.lower() == \"earth\"][\"VRDeck\"].mean()\n",
    "mean_deck_europa = titanic.loc[titanic[\"HomePlanet\"].str.lower() == \"mars\"][\"VRDeck\"].mean()\n",
    "mean_deck_mars = titanic.loc[titanic[\"HomePlanet\"].str.lower() == \"europa\"][\"VRDeck\"].mean()\n",
    "\n",
    "titanic.loc[(titanic['VRDeck'].isnull()) & (titanic[\"HomePlanet\"].str.lower() == 'earth'), 'VRDeck'] = mean_deck_earth\n",
    "titanic.loc[(titanic['VRDeck'].isnull()) & (titanic[\"HomePlanet\"].str.lower() == 'europa'), 'VRDeck'] = mean_deck_europa\n",
    "titanic.loc[(titanic['VRDeck'].isnull()) & (titanic[\"HomePlanet\"].str.lower() == 'mars'), 'VRDeck'] = mean_deck_mars"
   ]
  },
  {
   "cell_type": "code",
   "execution_count": 46,
   "id": "6959c12b",
   "metadata": {
    "execution": {
     "iopub.execute_input": "2022-10-09T04:10:46.947741Z",
     "iopub.status.busy": "2022-10-09T04:10:46.947255Z",
     "iopub.status.idle": "2022-10-09T04:10:46.986406Z",
     "shell.execute_reply": "2022-10-09T04:10:46.985154Z"
    },
    "papermill": {
     "duration": 0.069692,
     "end_time": "2022-10-09T04:10:46.989145",
     "exception": false,
     "start_time": "2022-10-09T04:10:46.919453",
     "status": "completed"
    },
    "tags": []
   },
   "outputs": [],
   "source": [
    "destination_mode_earth = list(titanic.loc[titanic[\"HomePlanet\"].str.lower() == \"earth\"][\"Destination\"].mode())[0]\n",
    "destination_mode_europa = list(titanic.loc[titanic[\"HomePlanet\"].str.lower() == \"europa\"][\"Destination\"].mode())[0]\n",
    "destination_mode_mars = list(titanic.loc[titanic[\"HomePlanet\"].str.lower() == \"mars\"][\"Destination\"].mode())[0]\n",
    "\n",
    "titanic.loc[(titanic['Destination'].isnull()) & (titanic[\"HomePlanet\"].str.lower() == 'earth'), 'Destination'] = destination_mode_earth\n",
    "titanic.loc[(titanic['Destination'].isnull()) & (titanic[\"HomePlanet\"].str.lower() == 'europa'), 'Destination'] = destination_mode_europa\n",
    "titanic.loc[(titanic['Destination'].isnull()) & (titanic[\"HomePlanet\"].str.lower() == 'mars'), 'Destination'] = destination_mode_mars"
   ]
  },
  {
   "cell_type": "code",
   "execution_count": 47,
   "id": "4023333a",
   "metadata": {
    "execution": {
     "iopub.execute_input": "2022-10-09T04:10:47.043092Z",
     "iopub.status.busy": "2022-10-09T04:10:47.042667Z",
     "iopub.status.idle": "2022-10-09T04:10:47.054693Z",
     "shell.execute_reply": "2022-10-09T04:10:47.053836Z"
    },
    "papermill": {
     "duration": 0.042009,
     "end_time": "2022-10-09T04:10:47.056935",
     "exception": false,
     "start_time": "2022-10-09T04:10:47.014926",
     "status": "completed"
    },
    "tags": []
   },
   "outputs": [
    {
     "data": {
      "text/plain": [
       "['CryoSleep', 'Cabin', 'VIP', 'Name', 'Deck', 'Num', 'Port']"
      ]
     },
     "execution_count": 47,
     "metadata": {},
     "output_type": "execute_result"
    }
   ],
   "source": [
    "titanic.columns[titanic.isna().any()].tolist()"
   ]
  },
  {
   "cell_type": "code",
   "execution_count": 48,
   "id": "bcfc6aa0",
   "metadata": {
    "execution": {
     "iopub.execute_input": "2022-10-09T04:10:47.111430Z",
     "iopub.status.busy": "2022-10-09T04:10:47.110696Z",
     "iopub.status.idle": "2022-10-09T04:10:47.134398Z",
     "shell.execute_reply": "2022-10-09T04:10:47.133270Z"
    },
    "papermill": {
     "duration": 0.053989,
     "end_time": "2022-10-09T04:10:47.137088",
     "exception": false,
     "start_time": "2022-10-09T04:10:47.083099",
     "status": "completed"
    },
    "tags": []
   },
   "outputs": [
    {
     "data": {
      "text/html": [
       "<div>\n",
       "<style scoped>\n",
       "    .dataframe tbody tr th:only-of-type {\n",
       "        vertical-align: middle;\n",
       "    }\n",
       "\n",
       "    .dataframe tbody tr th {\n",
       "        vertical-align: top;\n",
       "    }\n",
       "\n",
       "    .dataframe thead th {\n",
       "        text-align: right;\n",
       "    }\n",
       "</style>\n",
       "<table border=\"1\" class=\"dataframe\">\n",
       "  <thead>\n",
       "    <tr style=\"text-align: right;\">\n",
       "      <th></th>\n",
       "      <th>PassengerId</th>\n",
       "      <th>HomePlanet</th>\n",
       "      <th>CryoSleep</th>\n",
       "      <th>Cabin</th>\n",
       "      <th>Destination</th>\n",
       "      <th>Age</th>\n",
       "      <th>VIP</th>\n",
       "      <th>RoomService</th>\n",
       "      <th>FoodCourt</th>\n",
       "      <th>ShoppingMall</th>\n",
       "      <th>...</th>\n",
       "      <th>VIP_present</th>\n",
       "      <th>RoomService_present</th>\n",
       "      <th>FoodCourt_present</th>\n",
       "      <th>ShoppingMall_present</th>\n",
       "      <th>Spa_present</th>\n",
       "      <th>VRDeck_present</th>\n",
       "      <th>Name_present</th>\n",
       "      <th>Deck_present</th>\n",
       "      <th>Num_present</th>\n",
       "      <th>Port_present</th>\n",
       "    </tr>\n",
       "  </thead>\n",
       "  <tbody>\n",
       "    <tr>\n",
       "      <th>0</th>\n",
       "      <td>0001_01</td>\n",
       "      <td>Europa</td>\n",
       "      <td>False</td>\n",
       "      <td>B/0/P</td>\n",
       "      <td>TRAPPIST-1e</td>\n",
       "      <td>39.0</td>\n",
       "      <td>False</td>\n",
       "      <td>0.0</td>\n",
       "      <td>0.0</td>\n",
       "      <td>0.0</td>\n",
       "      <td>...</td>\n",
       "      <td>1</td>\n",
       "      <td>1</td>\n",
       "      <td>1</td>\n",
       "      <td>1</td>\n",
       "      <td>1</td>\n",
       "      <td>1</td>\n",
       "      <td>1</td>\n",
       "      <td>1</td>\n",
       "      <td>1</td>\n",
       "      <td>1</td>\n",
       "    </tr>\n",
       "    <tr>\n",
       "      <th>1</th>\n",
       "      <td>0002_01</td>\n",
       "      <td>Earth</td>\n",
       "      <td>False</td>\n",
       "      <td>F/0/S</td>\n",
       "      <td>TRAPPIST-1e</td>\n",
       "      <td>24.0</td>\n",
       "      <td>False</td>\n",
       "      <td>109.0</td>\n",
       "      <td>9.0</td>\n",
       "      <td>25.0</td>\n",
       "      <td>...</td>\n",
       "      <td>1</td>\n",
       "      <td>1</td>\n",
       "      <td>1</td>\n",
       "      <td>1</td>\n",
       "      <td>1</td>\n",
       "      <td>1</td>\n",
       "      <td>1</td>\n",
       "      <td>1</td>\n",
       "      <td>1</td>\n",
       "      <td>1</td>\n",
       "    </tr>\n",
       "    <tr>\n",
       "      <th>2</th>\n",
       "      <td>0003_01</td>\n",
       "      <td>Europa</td>\n",
       "      <td>False</td>\n",
       "      <td>A/0/S</td>\n",
       "      <td>TRAPPIST-1e</td>\n",
       "      <td>58.0</td>\n",
       "      <td>True</td>\n",
       "      <td>43.0</td>\n",
       "      <td>3576.0</td>\n",
       "      <td>0.0</td>\n",
       "      <td>...</td>\n",
       "      <td>1</td>\n",
       "      <td>1</td>\n",
       "      <td>1</td>\n",
       "      <td>1</td>\n",
       "      <td>1</td>\n",
       "      <td>1</td>\n",
       "      <td>1</td>\n",
       "      <td>1</td>\n",
       "      <td>1</td>\n",
       "      <td>1</td>\n",
       "    </tr>\n",
       "    <tr>\n",
       "      <th>3</th>\n",
       "      <td>0003_02</td>\n",
       "      <td>Europa</td>\n",
       "      <td>False</td>\n",
       "      <td>A/0/S</td>\n",
       "      <td>TRAPPIST-1e</td>\n",
       "      <td>33.0</td>\n",
       "      <td>False</td>\n",
       "      <td>0.0</td>\n",
       "      <td>1283.0</td>\n",
       "      <td>371.0</td>\n",
       "      <td>...</td>\n",
       "      <td>1</td>\n",
       "      <td>1</td>\n",
       "      <td>1</td>\n",
       "      <td>1</td>\n",
       "      <td>1</td>\n",
       "      <td>1</td>\n",
       "      <td>1</td>\n",
       "      <td>1</td>\n",
       "      <td>1</td>\n",
       "      <td>1</td>\n",
       "    </tr>\n",
       "    <tr>\n",
       "      <th>4</th>\n",
       "      <td>0004_01</td>\n",
       "      <td>Earth</td>\n",
       "      <td>False</td>\n",
       "      <td>F/1/S</td>\n",
       "      <td>TRAPPIST-1e</td>\n",
       "      <td>16.0</td>\n",
       "      <td>False</td>\n",
       "      <td>303.0</td>\n",
       "      <td>70.0</td>\n",
       "      <td>151.0</td>\n",
       "      <td>...</td>\n",
       "      <td>1</td>\n",
       "      <td>1</td>\n",
       "      <td>1</td>\n",
       "      <td>1</td>\n",
       "      <td>1</td>\n",
       "      <td>1</td>\n",
       "      <td>1</td>\n",
       "      <td>1</td>\n",
       "      <td>1</td>\n",
       "      <td>1</td>\n",
       "    </tr>\n",
       "  </tbody>\n",
       "</table>\n",
       "<p>5 rows × 32 columns</p>\n",
       "</div>"
      ],
      "text/plain": [
       "  PassengerId HomePlanet CryoSleep  Cabin  Destination   Age    VIP  \\\n",
       "0     0001_01     Europa     False  B/0/P  TRAPPIST-1e  39.0  False   \n",
       "1     0002_01      Earth     False  F/0/S  TRAPPIST-1e  24.0  False   \n",
       "2     0003_01     Europa     False  A/0/S  TRAPPIST-1e  58.0   True   \n",
       "3     0003_02     Europa     False  A/0/S  TRAPPIST-1e  33.0  False   \n",
       "4     0004_01      Earth     False  F/1/S  TRAPPIST-1e  16.0  False   \n",
       "\n",
       "   RoomService  FoodCourt  ShoppingMall  ...  VIP_present  \\\n",
       "0          0.0        0.0           0.0  ...            1   \n",
       "1        109.0        9.0          25.0  ...            1   \n",
       "2         43.0     3576.0           0.0  ...            1   \n",
       "3          0.0     1283.0         371.0  ...            1   \n",
       "4        303.0       70.0         151.0  ...            1   \n",
       "\n",
       "   RoomService_present FoodCourt_present  ShoppingMall_present Spa_present  \\\n",
       "0                    1                 1                     1           1   \n",
       "1                    1                 1                     1           1   \n",
       "2                    1                 1                     1           1   \n",
       "3                    1                 1                     1           1   \n",
       "4                    1                 1                     1           1   \n",
       "\n",
       "  VRDeck_present Name_present  Deck_present  Num_present  Port_present  \n",
       "0              1            1             1            1             1  \n",
       "1              1            1             1            1             1  \n",
       "2              1            1             1            1             1  \n",
       "3              1            1             1            1             1  \n",
       "4              1            1             1            1             1  \n",
       "\n",
       "[5 rows x 32 columns]"
      ]
     },
     "execution_count": 48,
     "metadata": {},
     "output_type": "execute_result"
    }
   ],
   "source": [
    "titanic.head()"
   ]
  },
  {
   "cell_type": "code",
   "execution_count": 49,
   "id": "db0c919b",
   "metadata": {
    "execution": {
     "iopub.execute_input": "2022-10-09T04:10:47.193768Z",
     "iopub.status.busy": "2022-10-09T04:10:47.193136Z",
     "iopub.status.idle": "2022-10-09T04:10:47.221969Z",
     "shell.execute_reply": "2022-10-09T04:10:47.220762Z"
    },
    "papermill": {
     "duration": 0.059939,
     "end_time": "2022-10-09T04:10:47.224372",
     "exception": false,
     "start_time": "2022-10-09T04:10:47.164433",
     "status": "completed"
    },
    "tags": []
   },
   "outputs": [
    {
     "data": {
      "text/html": [
       "<div>\n",
       "<style scoped>\n",
       "    .dataframe tbody tr th:only-of-type {\n",
       "        vertical-align: middle;\n",
       "    }\n",
       "\n",
       "    .dataframe tbody tr th {\n",
       "        vertical-align: top;\n",
       "    }\n",
       "\n",
       "    .dataframe thead th {\n",
       "        text-align: right;\n",
       "    }\n",
       "</style>\n",
       "<table border=\"1\" class=\"dataframe\">\n",
       "  <thead>\n",
       "    <tr style=\"text-align: right;\">\n",
       "      <th></th>\n",
       "      <th>HomePlanet</th>\n",
       "      <th>CryoSleep</th>\n",
       "      <th>Destination</th>\n",
       "      <th>Age</th>\n",
       "      <th>VIP</th>\n",
       "      <th>RoomService</th>\n",
       "      <th>FoodCourt</th>\n",
       "      <th>ShoppingMall</th>\n",
       "      <th>Spa</th>\n",
       "      <th>VRDeck</th>\n",
       "      <th>...</th>\n",
       "      <th>Age_present</th>\n",
       "      <th>VIP_present</th>\n",
       "      <th>RoomService_present</th>\n",
       "      <th>FoodCourt_present</th>\n",
       "      <th>ShoppingMall_present</th>\n",
       "      <th>Spa_present</th>\n",
       "      <th>VRDeck_present</th>\n",
       "      <th>Deck_present</th>\n",
       "      <th>Num_present</th>\n",
       "      <th>Port_present</th>\n",
       "    </tr>\n",
       "  </thead>\n",
       "  <tbody>\n",
       "    <tr>\n",
       "      <th>0</th>\n",
       "      <td>Europa</td>\n",
       "      <td>False</td>\n",
       "      <td>TRAPPIST-1e</td>\n",
       "      <td>39.0</td>\n",
       "      <td>False</td>\n",
       "      <td>0.0</td>\n",
       "      <td>0.0</td>\n",
       "      <td>0.0</td>\n",
       "      <td>0.0</td>\n",
       "      <td>0.0</td>\n",
       "      <td>...</td>\n",
       "      <td>1</td>\n",
       "      <td>1</td>\n",
       "      <td>1</td>\n",
       "      <td>1</td>\n",
       "      <td>1</td>\n",
       "      <td>1</td>\n",
       "      <td>1</td>\n",
       "      <td>1</td>\n",
       "      <td>1</td>\n",
       "      <td>1</td>\n",
       "    </tr>\n",
       "    <tr>\n",
       "      <th>1</th>\n",
       "      <td>Earth</td>\n",
       "      <td>False</td>\n",
       "      <td>TRAPPIST-1e</td>\n",
       "      <td>24.0</td>\n",
       "      <td>False</td>\n",
       "      <td>109.0</td>\n",
       "      <td>9.0</td>\n",
       "      <td>25.0</td>\n",
       "      <td>549.0</td>\n",
       "      <td>44.0</td>\n",
       "      <td>...</td>\n",
       "      <td>1</td>\n",
       "      <td>1</td>\n",
       "      <td>1</td>\n",
       "      <td>1</td>\n",
       "      <td>1</td>\n",
       "      <td>1</td>\n",
       "      <td>1</td>\n",
       "      <td>1</td>\n",
       "      <td>1</td>\n",
       "      <td>1</td>\n",
       "    </tr>\n",
       "    <tr>\n",
       "      <th>2</th>\n",
       "      <td>Europa</td>\n",
       "      <td>False</td>\n",
       "      <td>TRAPPIST-1e</td>\n",
       "      <td>58.0</td>\n",
       "      <td>True</td>\n",
       "      <td>43.0</td>\n",
       "      <td>3576.0</td>\n",
       "      <td>0.0</td>\n",
       "      <td>6715.0</td>\n",
       "      <td>49.0</td>\n",
       "      <td>...</td>\n",
       "      <td>1</td>\n",
       "      <td>1</td>\n",
       "      <td>1</td>\n",
       "      <td>1</td>\n",
       "      <td>1</td>\n",
       "      <td>1</td>\n",
       "      <td>1</td>\n",
       "      <td>1</td>\n",
       "      <td>1</td>\n",
       "      <td>1</td>\n",
       "    </tr>\n",
       "    <tr>\n",
       "      <th>3</th>\n",
       "      <td>Europa</td>\n",
       "      <td>False</td>\n",
       "      <td>TRAPPIST-1e</td>\n",
       "      <td>33.0</td>\n",
       "      <td>False</td>\n",
       "      <td>0.0</td>\n",
       "      <td>1283.0</td>\n",
       "      <td>371.0</td>\n",
       "      <td>3329.0</td>\n",
       "      <td>193.0</td>\n",
       "      <td>...</td>\n",
       "      <td>1</td>\n",
       "      <td>1</td>\n",
       "      <td>1</td>\n",
       "      <td>1</td>\n",
       "      <td>1</td>\n",
       "      <td>1</td>\n",
       "      <td>1</td>\n",
       "      <td>1</td>\n",
       "      <td>1</td>\n",
       "      <td>1</td>\n",
       "    </tr>\n",
       "    <tr>\n",
       "      <th>4</th>\n",
       "      <td>Earth</td>\n",
       "      <td>False</td>\n",
       "      <td>TRAPPIST-1e</td>\n",
       "      <td>16.0</td>\n",
       "      <td>False</td>\n",
       "      <td>303.0</td>\n",
       "      <td>70.0</td>\n",
       "      <td>151.0</td>\n",
       "      <td>565.0</td>\n",
       "      <td>2.0</td>\n",
       "      <td>...</td>\n",
       "      <td>1</td>\n",
       "      <td>1</td>\n",
       "      <td>1</td>\n",
       "      <td>1</td>\n",
       "      <td>1</td>\n",
       "      <td>1</td>\n",
       "      <td>1</td>\n",
       "      <td>1</td>\n",
       "      <td>1</td>\n",
       "      <td>1</td>\n",
       "    </tr>\n",
       "  </tbody>\n",
       "</table>\n",
       "<p>5 rows × 27 columns</p>\n",
       "</div>"
      ],
      "text/plain": [
       "  HomePlanet CryoSleep  Destination   Age    VIP  RoomService  FoodCourt  \\\n",
       "0     Europa     False  TRAPPIST-1e  39.0  False          0.0        0.0   \n",
       "1      Earth     False  TRAPPIST-1e  24.0  False        109.0        9.0   \n",
       "2     Europa     False  TRAPPIST-1e  58.0   True         43.0     3576.0   \n",
       "3     Europa     False  TRAPPIST-1e  33.0  False          0.0     1283.0   \n",
       "4      Earth     False  TRAPPIST-1e  16.0  False        303.0       70.0   \n",
       "\n",
       "   ShoppingMall     Spa  VRDeck  ...  Age_present VIP_present  \\\n",
       "0           0.0     0.0     0.0  ...            1           1   \n",
       "1          25.0   549.0    44.0  ...            1           1   \n",
       "2           0.0  6715.0    49.0  ...            1           1   \n",
       "3         371.0  3329.0   193.0  ...            1           1   \n",
       "4         151.0   565.0     2.0  ...            1           1   \n",
       "\n",
       "  RoomService_present  FoodCourt_present  ShoppingMall_present  Spa_present  \\\n",
       "0                   1                  1                     1            1   \n",
       "1                   1                  1                     1            1   \n",
       "2                   1                  1                     1            1   \n",
       "3                   1                  1                     1            1   \n",
       "4                   1                  1                     1            1   \n",
       "\n",
       "   VRDeck_present  Deck_present  Num_present  Port_present  \n",
       "0               1             1            1             1  \n",
       "1               1             1            1             1  \n",
       "2               1             1            1             1  \n",
       "3               1             1            1             1  \n",
       "4               1             1            1             1  \n",
       "\n",
       "[5 rows x 27 columns]"
      ]
     },
     "execution_count": 49,
     "metadata": {},
     "output_type": "execute_result"
    }
   ],
   "source": [
    "titanic = titanic.drop([\"PassengerId\", \"Name\", \"Cabin\", \"Name_present\", \"Num\"], axis=1)\n",
    "titanic.head()"
   ]
  },
  {
   "cell_type": "markdown",
   "id": "915f4e89",
   "metadata": {
    "papermill": {
     "duration": 0.026929,
     "end_time": "2022-10-09T04:10:47.279181",
     "exception": false,
     "start_time": "2022-10-09T04:10:47.252252",
     "status": "completed"
    },
    "tags": []
   },
   "source": [
    "Preparing for training\n",
    "----------------------"
   ]
  },
  {
   "cell_type": "code",
   "execution_count": 50,
   "id": "50497dd9",
   "metadata": {
    "execution": {
     "iopub.execute_input": "2022-10-09T04:10:47.334662Z",
     "iopub.status.busy": "2022-10-09T04:10:47.334010Z",
     "iopub.status.idle": "2022-10-09T04:10:47.584375Z",
     "shell.execute_reply": "2022-10-09T04:10:47.583217Z"
    },
    "papermill": {
     "duration": 0.281643,
     "end_time": "2022-10-09T04:10:47.587385",
     "exception": false,
     "start_time": "2022-10-09T04:10:47.305742",
     "status": "completed"
    },
    "tags": []
   },
   "outputs": [],
   "source": [
    "from sklearn.model_selection import train_test_split\n",
    "train, test = train_test_split(titanic, test_size=0.2, shuffle=True, stratify=titanic[[\"HomePlanet\", \"Destination\", \"Transported\"]])"
   ]
  },
  {
   "cell_type": "code",
   "execution_count": 51,
   "id": "ce3536cb",
   "metadata": {
    "execution": {
     "iopub.execute_input": "2022-10-09T04:10:47.643156Z",
     "iopub.status.busy": "2022-10-09T04:10:47.642067Z",
     "iopub.status.idle": "2022-10-09T04:10:48.199715Z",
     "shell.execute_reply": "2022-10-09T04:10:48.198410Z"
    },
    "papermill": {
     "duration": 0.58884,
     "end_time": "2022-10-09T04:10:48.202677",
     "exception": false,
     "start_time": "2022-10-09T04:10:47.613837",
     "status": "completed"
    },
    "tags": []
   },
   "outputs": [],
   "source": [
    "from imblearn.pipeline import Pipeline\n",
    "from sklearn.compose import ColumnTransformer\n",
    "from sklearn.preprocessing import OneHotEncoder, RobustScaler, OrdinalEncoder, FunctionTransformer\n",
    "\n",
    "\n",
    "numeric_features = [\"RoomService\", \"FoodCourt\", \"ShoppingMall\", \"Spa\", \"VRDeck\", \"Age\"]\n",
    "categorical_features = [\"HomePlanet\", \"Destination\", \"Deck\", \"Port\", \"CryoSleep\", \"VIP\"]\n",
    "# categorical_features = [\"Sex\", \"SibSp\", \"Parch\", \"Embarked\", \"title\", \"Embarked_present\", \"Age_present\"]\n",
    "\n",
    "numeric_transformer = Pipeline([(\"scaler\", RobustScaler())])\n",
    "categorical_transformer = OneHotEncoder(handle_unknown=\"error\")\n",
    "ordinal_transformer = OrdinalEncoder(handle_unknown=\"error\")\n",
    "\n",
    "preprocessor = ColumnTransformer(\n",
    "    transformers=[\n",
    "        (\"num\", numeric_transformer, numeric_features),\n",
    "        (\"cat\", categorical_transformer, categorical_features),\n",
    "#         (\"ord\", ordinal_transformer, ordinal_features),\n",
    "    ]\n",
    ")"
   ]
  },
  {
   "cell_type": "code",
   "execution_count": 52,
   "id": "c95c8919",
   "metadata": {
    "execution": {
     "iopub.execute_input": "2022-10-09T04:10:48.262050Z",
     "iopub.status.busy": "2022-10-09T04:10:48.261619Z",
     "iopub.status.idle": "2022-10-09T04:10:48.268467Z",
     "shell.execute_reply": "2022-10-09T04:10:48.267208Z"
    },
    "papermill": {
     "duration": 0.037971,
     "end_time": "2022-10-09T04:10:48.270948",
     "exception": false,
     "start_time": "2022-10-09T04:10:48.232977",
     "status": "completed"
    },
    "tags": []
   },
   "outputs": [],
   "source": [
    "y_train, y_test = train[\"Transported\"], test[\"Transported\"]\n",
    "del train[\"Transported\"]\n",
    "del test[\"Transported\"]"
   ]
  },
  {
   "cell_type": "markdown",
   "id": "0342a40b",
   "metadata": {
    "papermill": {
     "duration": 0.026855,
     "end_time": "2022-10-09T04:10:48.325069",
     "exception": false,
     "start_time": "2022-10-09T04:10:48.298214",
     "status": "completed"
    },
    "tags": []
   },
   "source": [
    "Setting-up a baseline: Logistic Regression\n",
    "------------------------------------------"
   ]
  },
  {
   "cell_type": "code",
   "execution_count": 53,
   "id": "c1952f38",
   "metadata": {
    "execution": {
     "iopub.execute_input": "2022-10-09T04:10:48.381006Z",
     "iopub.status.busy": "2022-10-09T04:10:48.380570Z",
     "iopub.status.idle": "2022-10-09T04:10:50.579186Z",
     "shell.execute_reply": "2022-10-09T04:10:50.577684Z"
    },
    "papermill": {
     "duration": 2.230123,
     "end_time": "2022-10-09T04:10:50.581902",
     "exception": false,
     "start_time": "2022-10-09T04:10:48.351779",
     "status": "completed"
    },
    "tags": []
   },
   "outputs": [
    {
     "data": {
      "text/plain": [
       "Pipeline(steps=[('preprocessor',\n",
       "                 ColumnTransformer(transformers=[('num',\n",
       "                                                  Pipeline(steps=[('scaler',\n",
       "                                                                   RobustScaler())]),\n",
       "                                                  ['RoomService', 'FoodCourt',\n",
       "                                                   'ShoppingMall', 'Spa',\n",
       "                                                   'VRDeck', 'Age']),\n",
       "                                                 ('cat', OneHotEncoder(),\n",
       "                                                  ['HomePlanet', 'Destination',\n",
       "                                                   'Deck', 'Port', 'CryoSleep',\n",
       "                                                   'VIP'])])),\n",
       "                ('sampling', SMOTE()),\n",
       "                ('classifier',\n",
       "                 LogisticRegression(max_iter=500, n_jobs=-1,\n",
       "                                    random_state=1042))])"
      ]
     },
     "execution_count": 53,
     "metadata": {},
     "output_type": "execute_result"
    }
   ],
   "source": [
    "from imblearn.over_sampling import SMOTE\n",
    "from sklearn.linear_model import LogisticRegression\n",
    "\n",
    "logit = Pipeline(steps=[(\"preprocessor\", preprocessor), (\"sampling\", SMOTE()), (\"classifier\", LogisticRegression(max_iter=500, random_state=seed, n_jobs=-1))])\n",
    "logit.fit(train, y_train)"
   ]
  },
  {
   "cell_type": "code",
   "execution_count": 54,
   "id": "82d0cddf",
   "metadata": {
    "execution": {
     "iopub.execute_input": "2022-10-09T04:10:50.638626Z",
     "iopub.status.busy": "2022-10-09T04:10:50.637402Z",
     "iopub.status.idle": "2022-10-09T04:10:50.672978Z",
     "shell.execute_reply": "2022-10-09T04:10:50.671344Z"
    },
    "papermill": {
     "duration": 0.068252,
     "end_time": "2022-10-09T04:10:50.677432",
     "exception": false,
     "start_time": "2022-10-09T04:10:50.609180",
     "status": "completed"
    },
    "tags": []
   },
   "outputs": [
    {
     "data": {
      "text/plain": [
       "0.7923497267759563"
      ]
     },
     "execution_count": 54,
     "metadata": {},
     "output_type": "execute_result"
    }
   ],
   "source": [
    "logit.score(train, y_train)"
   ]
  },
  {
   "cell_type": "code",
   "execution_count": 55,
   "id": "403d2fea",
   "metadata": {
    "execution": {
     "iopub.execute_input": "2022-10-09T04:10:50.800184Z",
     "iopub.status.busy": "2022-10-09T04:10:50.799781Z",
     "iopub.status.idle": "2022-10-09T04:10:50.822428Z",
     "shell.execute_reply": "2022-10-09T04:10:50.820844Z"
    },
    "papermill": {
     "duration": 0.078954,
     "end_time": "2022-10-09T04:10:50.826674",
     "exception": false,
     "start_time": "2022-10-09T04:10:50.747720",
     "status": "completed"
    },
    "tags": []
   },
   "outputs": [
    {
     "data": {
      "text/plain": [
       "0.7826336975273146"
      ]
     },
     "execution_count": 55,
     "metadata": {},
     "output_type": "execute_result"
    }
   ],
   "source": [
    "logit.score(test, y_test)"
   ]
  },
  {
   "cell_type": "markdown",
   "id": "4a8cdae9",
   "metadata": {
    "papermill": {
     "duration": 0.05165,
     "end_time": "2022-10-09T04:10:50.947049",
     "exception": false,
     "start_time": "2022-10-09T04:10:50.895399",
     "status": "completed"
    },
    "tags": []
   },
   "source": [
    "Moving to an advanced classifier: LightGBM\n",
    "------------------------------------------"
   ]
  },
  {
   "cell_type": "code",
   "execution_count": 56,
   "id": "9707b6fb",
   "metadata": {
    "execution": {
     "iopub.execute_input": "2022-10-09T04:10:51.003121Z",
     "iopub.status.busy": "2022-10-09T04:10:51.002699Z",
     "iopub.status.idle": "2022-10-09T04:10:52.568421Z",
     "shell.execute_reply": "2022-10-09T04:10:52.567210Z"
    },
    "papermill": {
     "duration": 1.596678,
     "end_time": "2022-10-09T04:10:52.570814",
     "exception": false,
     "start_time": "2022-10-09T04:10:50.974136",
     "status": "completed"
    },
    "tags": []
   },
   "outputs": [
    {
     "data": {
      "text/html": [
       "<style type='text/css'>\n",
       ".datatable table.frame { margin-bottom: 0; }\n",
       ".datatable table.frame thead { border-bottom: none; }\n",
       ".datatable table.frame tr.coltypes td {  color: #FFFFFF;  line-height: 6px;  padding: 0 0.5em;}\n",
       ".datatable .bool    { background: #DDDD99; }\n",
       ".datatable .object  { background: #565656; }\n",
       ".datatable .int     { background: #5D9E5D; }\n",
       ".datatable .float   { background: #4040CC; }\n",
       ".datatable .str     { background: #CC4040; }\n",
       ".datatable .time    { background: #40CC40; }\n",
       ".datatable .row_index {  background: var(--jp-border-color3);  border-right: 1px solid var(--jp-border-color0);  color: var(--jp-ui-font-color3);  font-size: 9px;}\n",
       ".datatable .frame tbody td { text-align: left; }\n",
       ".datatable .frame tr.coltypes .row_index {  background: var(--jp-border-color0);}\n",
       ".datatable th:nth-child(2) { padding-left: 12px; }\n",
       ".datatable .hellipsis {  color: var(--jp-cell-editor-border-color);}\n",
       ".datatable .vellipsis {  background: var(--jp-layout-color0);  color: var(--jp-cell-editor-border-color);}\n",
       ".datatable .na {  color: var(--jp-cell-editor-border-color);  font-size: 80%;}\n",
       ".datatable .sp {  opacity: 0.25;}\n",
       ".datatable .footer { font-size: 9px; }\n",
       ".datatable .frame_dimensions {  background: var(--jp-border-color3);  border-top: 1px solid var(--jp-border-color0);  color: var(--jp-ui-font-color3);  display: inline-block;  opacity: 0.6;  padding: 1px 10px 1px 5px;}\n",
       "</style>\n"
      ],
      "text/plain": [
       "<IPython.core.display.HTML object>"
      ]
     },
     "metadata": {},
     "output_type": "display_data"
    },
    {
     "data": {
      "text/plain": [
       "Pipeline(steps=[('preprocessor',\n",
       "                 ColumnTransformer(transformers=[('num',\n",
       "                                                  Pipeline(steps=[('scaler',\n",
       "                                                                   RobustScaler())]),\n",
       "                                                  ['RoomService', 'FoodCourt',\n",
       "                                                   'ShoppingMall', 'Spa',\n",
       "                                                   'VRDeck', 'Age']),\n",
       "                                                 ('cat', OneHotEncoder(),\n",
       "                                                  ['HomePlanet', 'Destination',\n",
       "                                                   'Deck', 'Port', 'CryoSleep',\n",
       "                                                   'VIP'])])),\n",
       "                ('sampling', SMOTE()),\n",
       "                ('classifier',\n",
       "                 LGBMClassifier(learning_rate=0.2, objective='binary',\n",
       "                                random_state=1042))])"
      ]
     },
     "execution_count": 56,
     "metadata": {},
     "output_type": "execute_result"
    }
   ],
   "source": [
    "from lightgbm import LGBMClassifier\n",
    "\n",
    "rt = 0.2\n",
    "\n",
    "lgbm = Pipeline(steps=[(\"preprocessor\", preprocessor), (\"sampling\", SMOTE()), (\"classifier\", LGBMClassifier(objective=\"binary\", learning_rate=rt, n_jobs=-1, random_state=seed))])\n",
    "lgbm.fit(train, y_train)"
   ]
  },
  {
   "cell_type": "code",
   "execution_count": 57,
   "id": "54afef3c",
   "metadata": {
    "execution": {
     "iopub.execute_input": "2022-10-09T04:10:52.628711Z",
     "iopub.status.busy": "2022-10-09T04:10:52.627825Z",
     "iopub.status.idle": "2022-10-09T04:10:52.673375Z",
     "shell.execute_reply": "2022-10-09T04:10:52.672288Z"
    },
    "papermill": {
     "duration": 0.077051,
     "end_time": "2022-10-09T04:10:52.676019",
     "exception": false,
     "start_time": "2022-10-09T04:10:52.598968",
     "status": "completed"
    },
    "tags": []
   },
   "outputs": [
    {
     "data": {
      "text/plain": [
       "0.904515386827725"
      ]
     },
     "execution_count": 57,
     "metadata": {},
     "output_type": "execute_result"
    }
   ],
   "source": [
    "lgbm.score(train, y_train)"
   ]
  },
  {
   "cell_type": "code",
   "execution_count": 58,
   "id": "80e0a61c",
   "metadata": {
    "execution": {
     "iopub.execute_input": "2022-10-09T04:10:52.744715Z",
     "iopub.status.busy": "2022-10-09T04:10:52.743694Z",
     "iopub.status.idle": "2022-10-09T04:10:52.790485Z",
     "shell.execute_reply": "2022-10-09T04:10:52.789376Z"
    },
    "papermill": {
     "duration": 0.084703,
     "end_time": "2022-10-09T04:10:52.793051",
     "exception": false,
     "start_time": "2022-10-09T04:10:52.708348",
     "status": "completed"
    },
    "tags": []
   },
   "outputs": [
    {
     "data": {
      "text/plain": [
       "0.7987349051178838"
      ]
     },
     "execution_count": 58,
     "metadata": {},
     "output_type": "execute_result"
    }
   ],
   "source": [
    "lgbm.score(test, y_test)"
   ]
  },
  {
   "cell_type": "markdown",
   "id": "10c6b407",
   "metadata": {
    "papermill": {
     "duration": 0.028316,
     "end_time": "2022-10-09T04:10:52.851416",
     "exception": false,
     "start_time": "2022-10-09T04:10:52.823100",
     "status": "completed"
    },
    "tags": []
   },
   "source": [
    "Making Predictions (Adding new features to set)\n",
    "-----------------------------------------------"
   ]
  },
  {
   "cell_type": "code",
   "execution_count": 59,
   "id": "c2c9c1e1",
   "metadata": {
    "execution": {
     "iopub.execute_input": "2022-10-09T04:10:52.909913Z",
     "iopub.status.busy": "2022-10-09T04:10:52.909518Z",
     "iopub.status.idle": "2022-10-09T04:10:52.951790Z",
     "shell.execute_reply": "2022-10-09T04:10:52.950666Z"
    },
    "papermill": {
     "duration": 0.075021,
     "end_time": "2022-10-09T04:10:52.954585",
     "exception": false,
     "start_time": "2022-10-09T04:10:52.879564",
     "status": "completed"
    },
    "tags": []
   },
   "outputs": [
    {
     "data": {
      "text/html": [
       "<div>\n",
       "<style scoped>\n",
       "    .dataframe tbody tr th:only-of-type {\n",
       "        vertical-align: middle;\n",
       "    }\n",
       "\n",
       "    .dataframe tbody tr th {\n",
       "        vertical-align: top;\n",
       "    }\n",
       "\n",
       "    .dataframe thead th {\n",
       "        text-align: right;\n",
       "    }\n",
       "</style>\n",
       "<table border=\"1\" class=\"dataframe\">\n",
       "  <thead>\n",
       "    <tr style=\"text-align: right;\">\n",
       "      <th></th>\n",
       "      <th>PassengerId</th>\n",
       "      <th>HomePlanet</th>\n",
       "      <th>CryoSleep</th>\n",
       "      <th>Cabin</th>\n",
       "      <th>Destination</th>\n",
       "      <th>Age</th>\n",
       "      <th>VIP</th>\n",
       "      <th>RoomService</th>\n",
       "      <th>FoodCourt</th>\n",
       "      <th>ShoppingMall</th>\n",
       "      <th>Spa</th>\n",
       "      <th>VRDeck</th>\n",
       "      <th>Name</th>\n",
       "    </tr>\n",
       "  </thead>\n",
       "  <tbody>\n",
       "    <tr>\n",
       "      <th>4272</th>\n",
       "      <td>9266_02</td>\n",
       "      <td>Earth</td>\n",
       "      <td>True</td>\n",
       "      <td>G/1496/S</td>\n",
       "      <td>TRAPPIST-1e</td>\n",
       "      <td>34.0</td>\n",
       "      <td>False</td>\n",
       "      <td>0.0</td>\n",
       "      <td>0.0</td>\n",
       "      <td>0.0</td>\n",
       "      <td>0.0</td>\n",
       "      <td>0.0</td>\n",
       "      <td>Jeron Peter</td>\n",
       "    </tr>\n",
       "    <tr>\n",
       "      <th>4273</th>\n",
       "      <td>9269_01</td>\n",
       "      <td>Earth</td>\n",
       "      <td>False</td>\n",
       "      <td>NaN</td>\n",
       "      <td>TRAPPIST-1e</td>\n",
       "      <td>42.0</td>\n",
       "      <td>False</td>\n",
       "      <td>0.0</td>\n",
       "      <td>847.0</td>\n",
       "      <td>17.0</td>\n",
       "      <td>10.0</td>\n",
       "      <td>144.0</td>\n",
       "      <td>Matty Scheron</td>\n",
       "    </tr>\n",
       "    <tr>\n",
       "      <th>4274</th>\n",
       "      <td>9271_01</td>\n",
       "      <td>Mars</td>\n",
       "      <td>True</td>\n",
       "      <td>D/296/P</td>\n",
       "      <td>55 Cancri e</td>\n",
       "      <td>NaN</td>\n",
       "      <td>False</td>\n",
       "      <td>0.0</td>\n",
       "      <td>0.0</td>\n",
       "      <td>0.0</td>\n",
       "      <td>0.0</td>\n",
       "      <td>0.0</td>\n",
       "      <td>Jayrin Pore</td>\n",
       "    </tr>\n",
       "    <tr>\n",
       "      <th>4275</th>\n",
       "      <td>9273_01</td>\n",
       "      <td>Europa</td>\n",
       "      <td>False</td>\n",
       "      <td>D/297/P</td>\n",
       "      <td>NaN</td>\n",
       "      <td>NaN</td>\n",
       "      <td>False</td>\n",
       "      <td>0.0</td>\n",
       "      <td>2680.0</td>\n",
       "      <td>0.0</td>\n",
       "      <td>0.0</td>\n",
       "      <td>523.0</td>\n",
       "      <td>Kitakan Conale</td>\n",
       "    </tr>\n",
       "    <tr>\n",
       "      <th>4276</th>\n",
       "      <td>9277_01</td>\n",
       "      <td>Earth</td>\n",
       "      <td>True</td>\n",
       "      <td>G/1498/S</td>\n",
       "      <td>PSO J318.5-22</td>\n",
       "      <td>43.0</td>\n",
       "      <td>False</td>\n",
       "      <td>0.0</td>\n",
       "      <td>0.0</td>\n",
       "      <td>0.0</td>\n",
       "      <td>0.0</td>\n",
       "      <td>0.0</td>\n",
       "      <td>Lilace Leonzaley</td>\n",
       "    </tr>\n",
       "  </tbody>\n",
       "</table>\n",
       "</div>"
      ],
      "text/plain": [
       "     PassengerId HomePlanet CryoSleep     Cabin    Destination   Age    VIP  \\\n",
       "4272     9266_02      Earth      True  G/1496/S    TRAPPIST-1e  34.0  False   \n",
       "4273     9269_01      Earth     False       NaN    TRAPPIST-1e  42.0  False   \n",
       "4274     9271_01       Mars      True   D/296/P    55 Cancri e   NaN  False   \n",
       "4275     9273_01     Europa     False   D/297/P            NaN   NaN  False   \n",
       "4276     9277_01      Earth      True  G/1498/S  PSO J318.5-22  43.0  False   \n",
       "\n",
       "      RoomService  FoodCourt  ShoppingMall   Spa  VRDeck              Name  \n",
       "4272          0.0        0.0           0.0   0.0     0.0       Jeron Peter  \n",
       "4273          0.0      847.0          17.0  10.0   144.0     Matty Scheron  \n",
       "4274          0.0        0.0           0.0   0.0     0.0       Jayrin Pore  \n",
       "4275          0.0     2680.0           0.0   0.0   523.0    Kitakan Conale  \n",
       "4276          0.0        0.0           0.0   0.0     0.0  Lilace Leonzaley  "
      ]
     },
     "execution_count": 59,
     "metadata": {},
     "output_type": "execute_result"
    }
   ],
   "source": [
    "titanic_test = get_data(\"test.csv\")\n",
    "titanic_test.tail()"
   ]
  },
  {
   "cell_type": "code",
   "execution_count": 60,
   "id": "9515120e",
   "metadata": {
    "execution": {
     "iopub.execute_input": "2022-10-09T04:10:53.013744Z",
     "iopub.status.busy": "2022-10-09T04:10:53.013330Z",
     "iopub.status.idle": "2022-10-09T04:10:53.041748Z",
     "shell.execute_reply": "2022-10-09T04:10:53.040734Z"
    },
    "papermill": {
     "duration": 0.061176,
     "end_time": "2022-10-09T04:10:53.044406",
     "exception": false,
     "start_time": "2022-10-09T04:10:52.983230",
     "status": "completed"
    },
    "tags": []
   },
   "outputs": [],
   "source": [
    "titanic_test['Deck'] =  titanic_test['Cabin'].str.split('/').str[0]\n",
    "titanic_test['Num'] =  titanic_test['Cabin'].str.split('/').str[1]\n",
    "titanic_test['Port'] =  titanic_test['Cabin'].str.split('/').str[-1]"
   ]
  },
  {
   "cell_type": "code",
   "execution_count": 61,
   "id": "988fbf55",
   "metadata": {
    "execution": {
     "iopub.execute_input": "2022-10-09T04:10:53.104572Z",
     "iopub.status.busy": "2022-10-09T04:10:53.103899Z",
     "iopub.status.idle": "2022-10-09T04:10:53.163208Z",
     "shell.execute_reply": "2022-10-09T04:10:53.161364Z"
    },
    "papermill": {
     "duration": 0.093777,
     "end_time": "2022-10-09T04:10:53.167933",
     "exception": false,
     "start_time": "2022-10-09T04:10:53.074156",
     "status": "completed"
    },
    "tags": []
   },
   "outputs": [
    {
     "data": {
      "text/html": [
       "<div>\n",
       "<style scoped>\n",
       "    .dataframe tbody tr th:only-of-type {\n",
       "        vertical-align: middle;\n",
       "    }\n",
       "\n",
       "    .dataframe tbody tr th {\n",
       "        vertical-align: top;\n",
       "    }\n",
       "\n",
       "    .dataframe thead th {\n",
       "        text-align: right;\n",
       "    }\n",
       "</style>\n",
       "<table border=\"1\" class=\"dataframe\">\n",
       "  <thead>\n",
       "    <tr style=\"text-align: right;\">\n",
       "      <th></th>\n",
       "      <th>PassengerId</th>\n",
       "      <th>HomePlanet</th>\n",
       "      <th>CryoSleep</th>\n",
       "      <th>Cabin</th>\n",
       "      <th>Destination</th>\n",
       "      <th>Age</th>\n",
       "      <th>VIP</th>\n",
       "      <th>RoomService</th>\n",
       "      <th>FoodCourt</th>\n",
       "      <th>ShoppingMall</th>\n",
       "      <th>...</th>\n",
       "      <th>VIP_present</th>\n",
       "      <th>RoomService_present</th>\n",
       "      <th>FoodCourt_present</th>\n",
       "      <th>ShoppingMall_present</th>\n",
       "      <th>Spa_present</th>\n",
       "      <th>VRDeck_present</th>\n",
       "      <th>Name_present</th>\n",
       "      <th>Deck_present</th>\n",
       "      <th>Num_present</th>\n",
       "      <th>Port_present</th>\n",
       "    </tr>\n",
       "  </thead>\n",
       "  <tbody>\n",
       "    <tr>\n",
       "      <th>0</th>\n",
       "      <td>0013_01</td>\n",
       "      <td>Earth</td>\n",
       "      <td>True</td>\n",
       "      <td>G/3/S</td>\n",
       "      <td>TRAPPIST-1e</td>\n",
       "      <td>27.0</td>\n",
       "      <td>False</td>\n",
       "      <td>0.0</td>\n",
       "      <td>0.0</td>\n",
       "      <td>0.0</td>\n",
       "      <td>...</td>\n",
       "      <td>1</td>\n",
       "      <td>1</td>\n",
       "      <td>1</td>\n",
       "      <td>1</td>\n",
       "      <td>1</td>\n",
       "      <td>1</td>\n",
       "      <td>1</td>\n",
       "      <td>1</td>\n",
       "      <td>1</td>\n",
       "      <td>1</td>\n",
       "    </tr>\n",
       "    <tr>\n",
       "      <th>1</th>\n",
       "      <td>0018_01</td>\n",
       "      <td>Earth</td>\n",
       "      <td>False</td>\n",
       "      <td>F/4/S</td>\n",
       "      <td>TRAPPIST-1e</td>\n",
       "      <td>19.0</td>\n",
       "      <td>False</td>\n",
       "      <td>0.0</td>\n",
       "      <td>9.0</td>\n",
       "      <td>0.0</td>\n",
       "      <td>...</td>\n",
       "      <td>1</td>\n",
       "      <td>1</td>\n",
       "      <td>1</td>\n",
       "      <td>1</td>\n",
       "      <td>1</td>\n",
       "      <td>1</td>\n",
       "      <td>1</td>\n",
       "      <td>1</td>\n",
       "      <td>1</td>\n",
       "      <td>1</td>\n",
       "    </tr>\n",
       "    <tr>\n",
       "      <th>2</th>\n",
       "      <td>0019_01</td>\n",
       "      <td>Europa</td>\n",
       "      <td>True</td>\n",
       "      <td>C/0/S</td>\n",
       "      <td>55 Cancri e</td>\n",
       "      <td>31.0</td>\n",
       "      <td>False</td>\n",
       "      <td>0.0</td>\n",
       "      <td>0.0</td>\n",
       "      <td>0.0</td>\n",
       "      <td>...</td>\n",
       "      <td>1</td>\n",
       "      <td>1</td>\n",
       "      <td>1</td>\n",
       "      <td>1</td>\n",
       "      <td>1</td>\n",
       "      <td>1</td>\n",
       "      <td>1</td>\n",
       "      <td>1</td>\n",
       "      <td>1</td>\n",
       "      <td>1</td>\n",
       "    </tr>\n",
       "    <tr>\n",
       "      <th>3</th>\n",
       "      <td>0021_01</td>\n",
       "      <td>Europa</td>\n",
       "      <td>False</td>\n",
       "      <td>C/1/S</td>\n",
       "      <td>TRAPPIST-1e</td>\n",
       "      <td>38.0</td>\n",
       "      <td>False</td>\n",
       "      <td>0.0</td>\n",
       "      <td>6652.0</td>\n",
       "      <td>0.0</td>\n",
       "      <td>...</td>\n",
       "      <td>1</td>\n",
       "      <td>1</td>\n",
       "      <td>1</td>\n",
       "      <td>1</td>\n",
       "      <td>1</td>\n",
       "      <td>1</td>\n",
       "      <td>1</td>\n",
       "      <td>1</td>\n",
       "      <td>1</td>\n",
       "      <td>1</td>\n",
       "    </tr>\n",
       "    <tr>\n",
       "      <th>4</th>\n",
       "      <td>0023_01</td>\n",
       "      <td>Earth</td>\n",
       "      <td>False</td>\n",
       "      <td>F/5/S</td>\n",
       "      <td>TRAPPIST-1e</td>\n",
       "      <td>20.0</td>\n",
       "      <td>False</td>\n",
       "      <td>10.0</td>\n",
       "      <td>0.0</td>\n",
       "      <td>635.0</td>\n",
       "      <td>...</td>\n",
       "      <td>1</td>\n",
       "      <td>1</td>\n",
       "      <td>1</td>\n",
       "      <td>1</td>\n",
       "      <td>1</td>\n",
       "      <td>1</td>\n",
       "      <td>1</td>\n",
       "      <td>1</td>\n",
       "      <td>1</td>\n",
       "      <td>1</td>\n",
       "    </tr>\n",
       "  </tbody>\n",
       "</table>\n",
       "<p>5 rows × 31 columns</p>\n",
       "</div>"
      ],
      "text/plain": [
       "  PassengerId HomePlanet CryoSleep  Cabin  Destination   Age    VIP  \\\n",
       "0     0013_01      Earth      True  G/3/S  TRAPPIST-1e  27.0  False   \n",
       "1     0018_01      Earth     False  F/4/S  TRAPPIST-1e  19.0  False   \n",
       "2     0019_01     Europa      True  C/0/S  55 Cancri e  31.0  False   \n",
       "3     0021_01     Europa     False  C/1/S  TRAPPIST-1e  38.0  False   \n",
       "4     0023_01      Earth     False  F/5/S  TRAPPIST-1e  20.0  False   \n",
       "\n",
       "   RoomService  FoodCourt  ShoppingMall  ...  VIP_present  \\\n",
       "0          0.0        0.0           0.0  ...            1   \n",
       "1          0.0        9.0           0.0  ...            1   \n",
       "2          0.0        0.0           0.0  ...            1   \n",
       "3          0.0     6652.0           0.0  ...            1   \n",
       "4         10.0        0.0         635.0  ...            1   \n",
       "\n",
       "   RoomService_present FoodCourt_present ShoppingMall_present Spa_present  \\\n",
       "0                    1                 1                    1           1   \n",
       "1                    1                 1                    1           1   \n",
       "2                    1                 1                    1           1   \n",
       "3                    1                 1                    1           1   \n",
       "4                    1                 1                    1           1   \n",
       "\n",
       "  VRDeck_present  Name_present  Deck_present  Num_present  Port_present  \n",
       "0              1             1             1            1             1  \n",
       "1              1             1             1            1             1  \n",
       "2              1             1             1            1             1  \n",
       "3              1             1             1            1             1  \n",
       "4              1             1             1            1             1  \n",
       "\n",
       "[5 rows x 31 columns]"
      ]
     },
     "execution_count": 61,
     "metadata": {},
     "output_type": "execute_result"
    }
   ],
   "source": [
    "for col in cols:\n",
    "    titianic_test = add_column(titanic_test, col)\n",
    "titanic_test.head()"
   ]
  },
  {
   "cell_type": "code",
   "execution_count": 62,
   "id": "7fed9964",
   "metadata": {
    "execution": {
     "iopub.execute_input": "2022-10-09T04:10:53.239454Z",
     "iopub.status.busy": "2022-10-09T04:10:53.238631Z",
     "iopub.status.idle": "2022-10-09T04:10:53.340942Z",
     "shell.execute_reply": "2022-10-09T04:10:53.339714Z"
    },
    "papermill": {
     "duration": 0.140223,
     "end_time": "2022-10-09T04:10:53.343845",
     "exception": false,
     "start_time": "2022-10-09T04:10:53.203622",
     "status": "completed"
    },
    "tags": []
   },
   "outputs": [
    {
     "data": {
      "text/html": [
       "<div>\n",
       "<style scoped>\n",
       "    .dataframe tbody tr th:only-of-type {\n",
       "        vertical-align: middle;\n",
       "    }\n",
       "\n",
       "    .dataframe tbody tr th {\n",
       "        vertical-align: top;\n",
       "    }\n",
       "\n",
       "    .dataframe thead th {\n",
       "        text-align: right;\n",
       "    }\n",
       "</style>\n",
       "<table border=\"1\" class=\"dataframe\">\n",
       "  <thead>\n",
       "    <tr style=\"text-align: right;\">\n",
       "      <th></th>\n",
       "      <th>PassengerId</th>\n",
       "      <th>HomePlanet</th>\n",
       "      <th>CryoSleep</th>\n",
       "      <th>Cabin</th>\n",
       "      <th>Destination</th>\n",
       "      <th>Age</th>\n",
       "      <th>VIP</th>\n",
       "      <th>RoomService</th>\n",
       "      <th>FoodCourt</th>\n",
       "      <th>ShoppingMall</th>\n",
       "      <th>...</th>\n",
       "      <th>VIP_present</th>\n",
       "      <th>RoomService_present</th>\n",
       "      <th>FoodCourt_present</th>\n",
       "      <th>ShoppingMall_present</th>\n",
       "      <th>Spa_present</th>\n",
       "      <th>VRDeck_present</th>\n",
       "      <th>Name_present</th>\n",
       "      <th>Deck_present</th>\n",
       "      <th>Num_present</th>\n",
       "      <th>Port_present</th>\n",
       "    </tr>\n",
       "  </thead>\n",
       "  <tbody>\n",
       "    <tr>\n",
       "      <th>0</th>\n",
       "      <td>0013_01</td>\n",
       "      <td>Earth</td>\n",
       "      <td>True</td>\n",
       "      <td>G/3/S</td>\n",
       "      <td>TRAPPIST-1e</td>\n",
       "      <td>27.0</td>\n",
       "      <td>False</td>\n",
       "      <td>0.0</td>\n",
       "      <td>0.0</td>\n",
       "      <td>0.0</td>\n",
       "      <td>...</td>\n",
       "      <td>1</td>\n",
       "      <td>1</td>\n",
       "      <td>1</td>\n",
       "      <td>1</td>\n",
       "      <td>1</td>\n",
       "      <td>1</td>\n",
       "      <td>1</td>\n",
       "      <td>1</td>\n",
       "      <td>1</td>\n",
       "      <td>1</td>\n",
       "    </tr>\n",
       "    <tr>\n",
       "      <th>1</th>\n",
       "      <td>0018_01</td>\n",
       "      <td>Earth</td>\n",
       "      <td>False</td>\n",
       "      <td>F/4/S</td>\n",
       "      <td>TRAPPIST-1e</td>\n",
       "      <td>19.0</td>\n",
       "      <td>False</td>\n",
       "      <td>0.0</td>\n",
       "      <td>9.0</td>\n",
       "      <td>0.0</td>\n",
       "      <td>...</td>\n",
       "      <td>1</td>\n",
       "      <td>1</td>\n",
       "      <td>1</td>\n",
       "      <td>1</td>\n",
       "      <td>1</td>\n",
       "      <td>1</td>\n",
       "      <td>1</td>\n",
       "      <td>1</td>\n",
       "      <td>1</td>\n",
       "      <td>1</td>\n",
       "    </tr>\n",
       "    <tr>\n",
       "      <th>2</th>\n",
       "      <td>0019_01</td>\n",
       "      <td>Europa</td>\n",
       "      <td>True</td>\n",
       "      <td>C/0/S</td>\n",
       "      <td>55 Cancri e</td>\n",
       "      <td>31.0</td>\n",
       "      <td>False</td>\n",
       "      <td>0.0</td>\n",
       "      <td>0.0</td>\n",
       "      <td>0.0</td>\n",
       "      <td>...</td>\n",
       "      <td>1</td>\n",
       "      <td>1</td>\n",
       "      <td>1</td>\n",
       "      <td>1</td>\n",
       "      <td>1</td>\n",
       "      <td>1</td>\n",
       "      <td>1</td>\n",
       "      <td>1</td>\n",
       "      <td>1</td>\n",
       "      <td>1</td>\n",
       "    </tr>\n",
       "    <tr>\n",
       "      <th>3</th>\n",
       "      <td>0021_01</td>\n",
       "      <td>Europa</td>\n",
       "      <td>False</td>\n",
       "      <td>C/1/S</td>\n",
       "      <td>TRAPPIST-1e</td>\n",
       "      <td>38.0</td>\n",
       "      <td>False</td>\n",
       "      <td>0.0</td>\n",
       "      <td>6652.0</td>\n",
       "      <td>0.0</td>\n",
       "      <td>...</td>\n",
       "      <td>1</td>\n",
       "      <td>1</td>\n",
       "      <td>1</td>\n",
       "      <td>1</td>\n",
       "      <td>1</td>\n",
       "      <td>1</td>\n",
       "      <td>1</td>\n",
       "      <td>1</td>\n",
       "      <td>1</td>\n",
       "      <td>1</td>\n",
       "    </tr>\n",
       "    <tr>\n",
       "      <th>4</th>\n",
       "      <td>0023_01</td>\n",
       "      <td>Earth</td>\n",
       "      <td>False</td>\n",
       "      <td>F/5/S</td>\n",
       "      <td>TRAPPIST-1e</td>\n",
       "      <td>20.0</td>\n",
       "      <td>False</td>\n",
       "      <td>10.0</td>\n",
       "      <td>0.0</td>\n",
       "      <td>635.0</td>\n",
       "      <td>...</td>\n",
       "      <td>1</td>\n",
       "      <td>1</td>\n",
       "      <td>1</td>\n",
       "      <td>1</td>\n",
       "      <td>1</td>\n",
       "      <td>1</td>\n",
       "      <td>1</td>\n",
       "      <td>1</td>\n",
       "      <td>1</td>\n",
       "      <td>1</td>\n",
       "    </tr>\n",
       "  </tbody>\n",
       "</table>\n",
       "<p>5 rows × 31 columns</p>\n",
       "</div>"
      ],
      "text/plain": [
       "  PassengerId HomePlanet CryoSleep  Cabin  Destination   Age    VIP  \\\n",
       "0     0013_01      Earth      True  G/3/S  TRAPPIST-1e  27.0  False   \n",
       "1     0018_01      Earth     False  F/4/S  TRAPPIST-1e  19.0  False   \n",
       "2     0019_01     Europa      True  C/0/S  55 Cancri e  31.0  False   \n",
       "3     0021_01     Europa     False  C/1/S  TRAPPIST-1e  38.0  False   \n",
       "4     0023_01      Earth     False  F/5/S  TRAPPIST-1e  20.0  False   \n",
       "\n",
       "   RoomService  FoodCourt  ShoppingMall  ...  VIP_present  \\\n",
       "0          0.0        0.0           0.0  ...            1   \n",
       "1          0.0        9.0           0.0  ...            1   \n",
       "2          0.0        0.0           0.0  ...            1   \n",
       "3          0.0     6652.0           0.0  ...            1   \n",
       "4         10.0        0.0         635.0  ...            1   \n",
       "\n",
       "   RoomService_present FoodCourt_present ShoppingMall_present Spa_present  \\\n",
       "0                    1                 1                    1           1   \n",
       "1                    1                 1                    1           1   \n",
       "2                    1                 1                    1           1   \n",
       "3                    1                 1                    1           1   \n",
       "4                    1                 1                    1           1   \n",
       "\n",
       "  VRDeck_present  Name_present  Deck_present  Num_present  Port_present  \n",
       "0              1             1             1            1             1  \n",
       "1              1             1             1            1             1  \n",
       "2              1             1             1            1             1  \n",
       "3              1             1             1            1             1  \n",
       "4              1             1             1            1             1  \n",
       "\n",
       "[5 rows x 31 columns]"
      ]
     },
     "execution_count": 62,
     "metadata": {},
     "output_type": "execute_result"
    }
   ],
   "source": [
    "titanic_test.loc[titanic_test['Age'].isnull(), 'Age'] = median_age\n",
    "titanic_test[\"HomePlanet\"] = titanic_test['HomePlanet'].replace(np.nan, mode_planet)\n",
    "\n",
    "titanic_test.loc[(titanic_test['RoomService'].isnull()) & (titanic_test[\"HomePlanet\"].str.lower() == 'earth'), 'RoomService'] = mean_room_earth\n",
    "titanic_test.loc[(titanic_test['RoomService'].isnull()) & (titanic_test[\"HomePlanet\"].str.lower() == 'europa'), 'RoomService'] = mean_room_europa\n",
    "titanic_test.loc[(titanic_test['RoomService'].isnull()) & (titanic_test[\"HomePlanet\"].str.lower() == 'mars'), 'RoomService'] = mean_room_mars\n",
    "\n",
    "titanic_test.loc[(titanic_test['FoodCourt'].isnull()) & (titanic_test[\"HomePlanet\"].str.lower() == 'earth'), 'FoodCourt'] = mean_food_earth\n",
    "titanic_test.loc[(titanic_test['FoodCourt'].isnull()) & (titanic_test[\"HomePlanet\"].str.lower() == 'europa'), 'FoodCourt'] = mean_food_europa\n",
    "titanic_test.loc[(titanic_test['FoodCourt'].isnull()) & (titanic_test[\"HomePlanet\"].str.lower() == 'mars'), 'FoodCourt'] = mean_food_mars\n",
    "\n",
    "titanic_test.loc[(titanic_test['ShoppingMall'].isnull()) & (titanic_test[\"HomePlanet\"].str.lower() == 'earth'), 'ShoppingMall'] = mean_shop_earth\n",
    "titanic_test.loc[(titanic_test['ShoppingMall'].isnull()) & (titanic_test[\"HomePlanet\"].str.lower() == 'europa'), 'ShoppingMall'] = mean_shop_europa\n",
    "titanic_test.loc[(titanic_test['ShoppingMall'].isnull()) & (titanic_test[\"HomePlanet\"].str.lower() == 'mars'), 'ShoppingMall'] = mean_shop_mars\n",
    "\n",
    "titanic_test.loc[(titanic_test['Spa'].isnull()) & (titanic_test[\"HomePlanet\"].str.lower() == 'earth'), 'Spa'] = mean_spa_earth\n",
    "titanic_test.loc[(titanic_test['Spa'].isnull()) & (titanic_test[\"HomePlanet\"].str.lower() == 'europa'), 'Spa'] = mean_spa_europa\n",
    "titanic_test.loc[(titanic_test['Spa'].isnull()) & (titanic_test[\"HomePlanet\"].str.lower() == 'mars'), 'Spa'] = mean_spa_mars\n",
    "\n",
    "titanic_test.loc[(titanic_test['VRDeck'].isnull()) & (titanic_test[\"HomePlanet\"].str.lower() == 'earth'), 'VRDeck'] = mean_deck_earth\n",
    "titanic_test.loc[(titanic_test['VRDeck'].isnull()) & (titanic_test[\"HomePlanet\"].str.lower() == 'europa'), 'VRDeck'] = mean_deck_europa\n",
    "titanic_test.loc[(titanic_test['VRDeck'].isnull()) & (titanic_test[\"HomePlanet\"].str.lower() == 'mars'), 'VRDeck'] = mean_deck_mars\n",
    "\n",
    "titanic_test.loc[(titanic_test['Destination'].isnull()) & (titanic_test[\"HomePlanet\"].str.lower() == 'earth'), 'Destination'] = destination_mode_earth\n",
    "titanic_test.loc[(titanic_test['Destination'].isnull()) & (titanic_test[\"HomePlanet\"].str.lower() == 'europa'), 'Destination'] = destination_mode_europa\n",
    "titanic_test.loc[(titanic_test['Destination'].isnull()) & (titanic_test[\"HomePlanet\"].str.lower() == 'mars'), 'Destination'] = destination_mode_mars\n",
    "\n",
    "titanic_test.head()"
   ]
  },
  {
   "cell_type": "code",
   "execution_count": 63,
   "id": "7be51db6",
   "metadata": {
    "execution": {
     "iopub.execute_input": "2022-10-09T04:10:53.409775Z",
     "iopub.status.busy": "2022-10-09T04:10:53.408617Z",
     "iopub.status.idle": "2022-10-09T04:10:53.417414Z",
     "shell.execute_reply": "2022-10-09T04:10:53.416517Z"
    },
    "papermill": {
     "duration": 0.042378,
     "end_time": "2022-10-09T04:10:53.419930",
     "exception": false,
     "start_time": "2022-10-09T04:10:53.377552",
     "status": "completed"
    },
    "tags": []
   },
   "outputs": [],
   "source": [
    "titanic_test = titanic_test.drop([\"PassengerId\", \"Name\", \"Cabin\", \"Name_present\", \"Num\"], axis=1)"
   ]
  },
  {
   "cell_type": "code",
   "execution_count": 64,
   "id": "b29451a1",
   "metadata": {
    "execution": {
     "iopub.execute_input": "2022-10-09T04:10:53.479678Z",
     "iopub.status.busy": "2022-10-09T04:10:53.478906Z",
     "iopub.status.idle": "2022-10-09T04:10:53.483856Z",
     "shell.execute_reply": "2022-10-09T04:10:53.483056Z"
    },
    "papermill": {
     "duration": 0.037549,
     "end_time": "2022-10-09T04:10:53.486356",
     "exception": false,
     "start_time": "2022-10-09T04:10:53.448807",
     "status": "completed"
    },
    "tags": []
   },
   "outputs": [],
   "source": [
    "y = titanic[\"Transported\"]\n",
    "del titanic[\"Transported\"]"
   ]
  },
  {
   "cell_type": "code",
   "execution_count": 65,
   "id": "bb87afff",
   "metadata": {
    "execution": {
     "iopub.execute_input": "2022-10-09T04:10:53.546547Z",
     "iopub.status.busy": "2022-10-09T04:10:53.545685Z",
     "iopub.status.idle": "2022-10-09T04:10:54.311510Z",
     "shell.execute_reply": "2022-10-09T04:10:54.310471Z"
    },
    "papermill": {
     "duration": 0.79879,
     "end_time": "2022-10-09T04:10:54.314206",
     "exception": false,
     "start_time": "2022-10-09T04:10:53.515416",
     "status": "completed"
    },
    "tags": []
   },
   "outputs": [
    {
     "data": {
      "text/plain": [
       "Pipeline(steps=[('preprocessor',\n",
       "                 ColumnTransformer(transformers=[('num',\n",
       "                                                  Pipeline(steps=[('scaler',\n",
       "                                                                   RobustScaler())]),\n",
       "                                                  ['RoomService', 'FoodCourt',\n",
       "                                                   'ShoppingMall', 'Spa',\n",
       "                                                   'VRDeck', 'Age']),\n",
       "                                                 ('cat', OneHotEncoder(),\n",
       "                                                  ['HomePlanet', 'Destination',\n",
       "                                                   'Deck', 'Port', 'CryoSleep',\n",
       "                                                   'VIP'])])),\n",
       "                ('sampling', SMOTE()),\n",
       "                ('classifier',\n",
       "                 LGBMClassifier(learning_rate=0.2, objective='binary',\n",
       "                                random_state=1042))])"
      ]
     },
     "execution_count": 65,
     "metadata": {},
     "output_type": "execute_result"
    }
   ],
   "source": [
    "lgbm = Pipeline(steps=[(\"preprocessor\", preprocessor), (\"sampling\", SMOTE()), (\"classifier\", LGBMClassifier(objective=\"binary\", learning_rate=rt, n_jobs=-1, random_state=seed))])\n",
    "lgbm.fit(titanic, y)"
   ]
  },
  {
   "cell_type": "code",
   "execution_count": 66,
   "id": "00e28b98",
   "metadata": {
    "execution": {
     "iopub.execute_input": "2022-10-09T04:10:54.374156Z",
     "iopub.status.busy": "2022-10-09T04:10:54.373477Z",
     "iopub.status.idle": "2022-10-09T04:10:54.436003Z",
     "shell.execute_reply": "2022-10-09T04:10:54.435027Z"
    },
    "papermill": {
     "duration": 0.096143,
     "end_time": "2022-10-09T04:10:54.439041",
     "exception": false,
     "start_time": "2022-10-09T04:10:54.342898",
     "status": "completed"
    },
    "tags": []
   },
   "outputs": [
    {
     "data": {
      "text/plain": [
       "0.8896813528126079"
      ]
     },
     "execution_count": 66,
     "metadata": {},
     "output_type": "execute_result"
    }
   ],
   "source": [
    "lgbm.score(titanic, y)"
   ]
  },
  {
   "cell_type": "code",
   "execution_count": 67,
   "id": "04002e03",
   "metadata": {
    "execution": {
     "iopub.execute_input": "2022-10-09T04:10:54.503060Z",
     "iopub.status.busy": "2022-10-09T04:10:54.502008Z",
     "iopub.status.idle": "2022-10-09T04:10:54.531026Z",
     "shell.execute_reply": "2022-10-09T04:10:54.529914Z"
    },
    "papermill": {
     "duration": 0.06363,
     "end_time": "2022-10-09T04:10:54.533946",
     "exception": false,
     "start_time": "2022-10-09T04:10:54.470316",
     "status": "completed"
    },
    "tags": []
   },
   "outputs": [],
   "source": [
    "y_preds = lgbm.predict(titanic_test)"
   ]
  },
  {
   "cell_type": "code",
   "execution_count": 68,
   "id": "b79c91a3",
   "metadata": {
    "execution": {
     "iopub.execute_input": "2022-10-09T04:10:54.595757Z",
     "iopub.status.busy": "2022-10-09T04:10:54.595360Z",
     "iopub.status.idle": "2022-10-09T04:10:54.617219Z",
     "shell.execute_reply": "2022-10-09T04:10:54.615764Z"
    },
    "papermill": {
     "duration": 0.054668,
     "end_time": "2022-10-09T04:10:54.619805",
     "exception": false,
     "start_time": "2022-10-09T04:10:54.565137",
     "status": "completed"
    },
    "tags": []
   },
   "outputs": [],
   "source": [
    "output = get_data(\"sample_submission.csv\")\n",
    "output[\"Transported\"] = y_preds\n",
    "\n",
    "output.to_csv(\"submission.csv\", index=False)"
   ]
  },
  {
   "cell_type": "code",
   "execution_count": 69,
   "id": "9bef3fb8",
   "metadata": {
    "execution": {
     "iopub.execute_input": "2022-10-09T04:10:54.679013Z",
     "iopub.status.busy": "2022-10-09T04:10:54.678576Z",
     "iopub.status.idle": "2022-10-09T04:10:54.688937Z",
     "shell.execute_reply": "2022-10-09T04:10:54.687974Z"
    },
    "papermill": {
     "duration": 0.042447,
     "end_time": "2022-10-09T04:10:54.691089",
     "exception": false,
     "start_time": "2022-10-09T04:10:54.648642",
     "status": "completed"
    },
    "tags": []
   },
   "outputs": [
    {
     "data": {
      "text/html": [
       "<div>\n",
       "<style scoped>\n",
       "    .dataframe tbody tr th:only-of-type {\n",
       "        vertical-align: middle;\n",
       "    }\n",
       "\n",
       "    .dataframe tbody tr th {\n",
       "        vertical-align: top;\n",
       "    }\n",
       "\n",
       "    .dataframe thead th {\n",
       "        text-align: right;\n",
       "    }\n",
       "</style>\n",
       "<table border=\"1\" class=\"dataframe\">\n",
       "  <thead>\n",
       "    <tr style=\"text-align: right;\">\n",
       "      <th></th>\n",
       "      <th>PassengerId</th>\n",
       "      <th>Transported</th>\n",
       "    </tr>\n",
       "  </thead>\n",
       "  <tbody>\n",
       "    <tr>\n",
       "      <th>0</th>\n",
       "      <td>0013_01</td>\n",
       "      <td>True</td>\n",
       "    </tr>\n",
       "    <tr>\n",
       "      <th>1</th>\n",
       "      <td>0018_01</td>\n",
       "      <td>False</td>\n",
       "    </tr>\n",
       "    <tr>\n",
       "      <th>2</th>\n",
       "      <td>0019_01</td>\n",
       "      <td>True</td>\n",
       "    </tr>\n",
       "    <tr>\n",
       "      <th>3</th>\n",
       "      <td>0021_01</td>\n",
       "      <td>True</td>\n",
       "    </tr>\n",
       "    <tr>\n",
       "      <th>4</th>\n",
       "      <td>0023_01</td>\n",
       "      <td>True</td>\n",
       "    </tr>\n",
       "  </tbody>\n",
       "</table>\n",
       "</div>"
      ],
      "text/plain": [
       "  PassengerId  Transported\n",
       "0     0013_01         True\n",
       "1     0018_01        False\n",
       "2     0019_01         True\n",
       "3     0021_01         True\n",
       "4     0023_01         True"
      ]
     },
     "execution_count": 69,
     "metadata": {},
     "output_type": "execute_result"
    }
   ],
   "source": [
    "output.head()"
   ]
  }
 ],
 "metadata": {
  "kernelspec": {
   "display_name": "Python 3",
   "language": "python",
   "name": "python3"
  },
  "language_info": {
   "codemirror_mode": {
    "name": "ipython",
    "version": 3
   },
   "file_extension": ".py",
   "mimetype": "text/x-python",
   "name": "python",
   "nbconvert_exporter": "python",
   "pygments_lexer": "ipython3",
   "version": "3.7.12"
  },
  "papermill": {
   "default_parameters": {},
   "duration": 35.785255,
   "end_time": "2022-10-09T04:10:57.340633",
   "environment_variables": {},
   "exception": null,
   "input_path": "__notebook__.ipynb",
   "output_path": "__notebook__.ipynb",
   "parameters": {},
   "start_time": "2022-10-09T04:10:21.555378",
   "version": "2.3.4"
  }
 },
 "nbformat": 4,
 "nbformat_minor": 5
}
