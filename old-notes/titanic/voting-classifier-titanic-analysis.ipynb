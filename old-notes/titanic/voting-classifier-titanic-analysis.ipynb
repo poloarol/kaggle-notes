{
 "cells": [
  {
   "cell_type": "code",
   "execution_count": 1,
   "id": "bfc627aa",
   "metadata": {
    "_cell_guid": "b1076dfc-b9ad-4769-8c92-a6c4dae69d19",
    "_uuid": "8f2839f25d086af736a60e9eeb907d3b93b6e0e5",
    "execution": {
     "iopub.execute_input": "2022-10-07T19:41:57.913234Z",
     "iopub.status.busy": "2022-10-07T19:41:57.912635Z",
     "iopub.status.idle": "2022-10-07T19:41:57.927718Z",
     "shell.execute_reply": "2022-10-07T19:41:57.926385Z"
    },
    "papermill": {
     "duration": 0.035127,
     "end_time": "2022-10-07T19:41:57.930474",
     "exception": false,
     "start_time": "2022-10-07T19:41:57.895347",
     "status": "completed"
    },
    "tags": []
   },
   "outputs": [
    {
     "name": "stdout",
     "output_type": "stream",
     "text": [
      "/kaggle/input/titanic/train.csv\n",
      "/kaggle/input/titanic/test.csv\n",
      "/kaggle/input/titanic/gender_submission.csv\n"
     ]
    }
   ],
   "source": [
    "# This Python 3 environment comes with many helpful analytics libraries installed\n",
    "# It is defined by the kaggle/python Docker image: https://github.com/kaggle/docker-python\n",
    "# For example, here's several helpful packages to load\n",
    "\n",
    "import numpy as np # linear algebra\n",
    "import pandas as pd # data processing, CSV file I/O (e.g. pd.read_csv)\n",
    "\n",
    "# Input data files are available in the read-only \"../input/\" directory\n",
    "# For example, running this (by clicking run or pressing Shift+Enter) will list all files under the input directory\n",
    "\n",
    "import os\n",
    "for dirname, _, filenames in os.walk('/kaggle/input'):\n",
    "    for filename in filenames:\n",
    "        print(os.path.join(dirname, filename))\n",
    "\n",
    "# You can write up to 20GB to the current directory (/kaggle/working/) that gets preserved as output when you create a version using \"Save & Run All\" \n",
    "# You can also write temporary files to /kaggle/temp/, but they won't be saved outside of the current session"
   ]
  },
  {
   "cell_type": "code",
   "execution_count": 2,
   "id": "739f2f5c",
   "metadata": {
    "execution": {
     "iopub.execute_input": "2022-10-07T19:41:57.963870Z",
     "iopub.status.busy": "2022-10-07T19:41:57.963026Z",
     "iopub.status.idle": "2022-10-07T19:41:57.968787Z",
     "shell.execute_reply": "2022-10-07T19:41:57.967821Z"
    },
    "papermill": {
     "duration": 0.026067,
     "end_time": "2022-10-07T19:41:57.971426",
     "exception": false,
     "start_time": "2022-10-07T19:41:57.945359",
     "status": "completed"
    },
    "tags": []
   },
   "outputs": [],
   "source": [
    "seed: int = 42"
   ]
  },
  {
   "cell_type": "code",
   "execution_count": 3,
   "id": "05c0c831",
   "metadata": {
    "execution": {
     "iopub.execute_input": "2022-10-07T19:41:58.002831Z",
     "iopub.status.busy": "2022-10-07T19:41:58.001973Z",
     "iopub.status.idle": "2022-10-07T19:41:58.007638Z",
     "shell.execute_reply": "2022-10-07T19:41:58.006741Z"
    },
    "papermill": {
     "duration": 0.024102,
     "end_time": "2022-10-07T19:41:58.009858",
     "exception": false,
     "start_time": "2022-10-07T19:41:57.985756",
     "status": "completed"
    },
    "tags": []
   },
   "outputs": [],
   "source": [
    "import os\n",
    "\n",
    "def get_data(filename:str) -> pd.DataFrame:\n",
    "    return pd.read_csv(f\"/kaggle/input/titanic/{filename}\")"
   ]
  },
  {
   "cell_type": "code",
   "execution_count": 4,
   "id": "8027cb18",
   "metadata": {
    "execution": {
     "iopub.execute_input": "2022-10-07T19:41:58.040580Z",
     "iopub.status.busy": "2022-10-07T19:41:58.039567Z",
     "iopub.status.idle": "2022-10-07T19:41:58.076952Z",
     "shell.execute_reply": "2022-10-07T19:41:58.076042Z"
    },
    "papermill": {
     "duration": 0.055365,
     "end_time": "2022-10-07T19:41:58.079539",
     "exception": false,
     "start_time": "2022-10-07T19:41:58.024174",
     "status": "completed"
    },
    "tags": []
   },
   "outputs": [],
   "source": [
    "titanic = get_data(\"train.csv\")\n",
    "titanic_test = get_data(\"test.csv\")"
   ]
  },
  {
   "cell_type": "code",
   "execution_count": 5,
   "id": "1a1e6527",
   "metadata": {
    "execution": {
     "iopub.execute_input": "2022-10-07T19:41:58.110611Z",
     "iopub.status.busy": "2022-10-07T19:41:58.109564Z",
     "iopub.status.idle": "2022-10-07T19:41:58.141783Z",
     "shell.execute_reply": "2022-10-07T19:41:58.140609Z"
    },
    "papermill": {
     "duration": 0.050495,
     "end_time": "2022-10-07T19:41:58.144594",
     "exception": false,
     "start_time": "2022-10-07T19:41:58.094099",
     "status": "completed"
    },
    "tags": []
   },
   "outputs": [
    {
     "data": {
      "text/html": [
       "<div>\n",
       "<style scoped>\n",
       "    .dataframe tbody tr th:only-of-type {\n",
       "        vertical-align: middle;\n",
       "    }\n",
       "\n",
       "    .dataframe tbody tr th {\n",
       "        vertical-align: top;\n",
       "    }\n",
       "\n",
       "    .dataframe thead th {\n",
       "        text-align: right;\n",
       "    }\n",
       "</style>\n",
       "<table border=\"1\" class=\"dataframe\">\n",
       "  <thead>\n",
       "    <tr style=\"text-align: right;\">\n",
       "      <th></th>\n",
       "      <th>PassengerId</th>\n",
       "      <th>Survived</th>\n",
       "      <th>Pclass</th>\n",
       "      <th>Name</th>\n",
       "      <th>Sex</th>\n",
       "      <th>Age</th>\n",
       "      <th>SibSp</th>\n",
       "      <th>Parch</th>\n",
       "      <th>Ticket</th>\n",
       "      <th>Fare</th>\n",
       "      <th>Cabin</th>\n",
       "      <th>Embarked</th>\n",
       "    </tr>\n",
       "  </thead>\n",
       "  <tbody>\n",
       "    <tr>\n",
       "      <th>0</th>\n",
       "      <td>1</td>\n",
       "      <td>0</td>\n",
       "      <td>3</td>\n",
       "      <td>Braund, Mr. Owen Harris</td>\n",
       "      <td>male</td>\n",
       "      <td>22.0</td>\n",
       "      <td>1</td>\n",
       "      <td>0</td>\n",
       "      <td>A/5 21171</td>\n",
       "      <td>7.2500</td>\n",
       "      <td>NaN</td>\n",
       "      <td>S</td>\n",
       "    </tr>\n",
       "    <tr>\n",
       "      <th>1</th>\n",
       "      <td>2</td>\n",
       "      <td>1</td>\n",
       "      <td>1</td>\n",
       "      <td>Cumings, Mrs. John Bradley (Florence Briggs Th...</td>\n",
       "      <td>female</td>\n",
       "      <td>38.0</td>\n",
       "      <td>1</td>\n",
       "      <td>0</td>\n",
       "      <td>PC 17599</td>\n",
       "      <td>71.2833</td>\n",
       "      <td>C85</td>\n",
       "      <td>C</td>\n",
       "    </tr>\n",
       "    <tr>\n",
       "      <th>2</th>\n",
       "      <td>3</td>\n",
       "      <td>1</td>\n",
       "      <td>3</td>\n",
       "      <td>Heikkinen, Miss. Laina</td>\n",
       "      <td>female</td>\n",
       "      <td>26.0</td>\n",
       "      <td>0</td>\n",
       "      <td>0</td>\n",
       "      <td>STON/O2. 3101282</td>\n",
       "      <td>7.9250</td>\n",
       "      <td>NaN</td>\n",
       "      <td>S</td>\n",
       "    </tr>\n",
       "    <tr>\n",
       "      <th>3</th>\n",
       "      <td>4</td>\n",
       "      <td>1</td>\n",
       "      <td>1</td>\n",
       "      <td>Futrelle, Mrs. Jacques Heath (Lily May Peel)</td>\n",
       "      <td>female</td>\n",
       "      <td>35.0</td>\n",
       "      <td>1</td>\n",
       "      <td>0</td>\n",
       "      <td>113803</td>\n",
       "      <td>53.1000</td>\n",
       "      <td>C123</td>\n",
       "      <td>S</td>\n",
       "    </tr>\n",
       "    <tr>\n",
       "      <th>4</th>\n",
       "      <td>5</td>\n",
       "      <td>0</td>\n",
       "      <td>3</td>\n",
       "      <td>Allen, Mr. William Henry</td>\n",
       "      <td>male</td>\n",
       "      <td>35.0</td>\n",
       "      <td>0</td>\n",
       "      <td>0</td>\n",
       "      <td>373450</td>\n",
       "      <td>8.0500</td>\n",
       "      <td>NaN</td>\n",
       "      <td>S</td>\n",
       "    </tr>\n",
       "  </tbody>\n",
       "</table>\n",
       "</div>"
      ],
      "text/plain": [
       "   PassengerId  Survived  Pclass  \\\n",
       "0            1         0       3   \n",
       "1            2         1       1   \n",
       "2            3         1       3   \n",
       "3            4         1       1   \n",
       "4            5         0       3   \n",
       "\n",
       "                                                Name     Sex   Age  SibSp  \\\n",
       "0                            Braund, Mr. Owen Harris    male  22.0      1   \n",
       "1  Cumings, Mrs. John Bradley (Florence Briggs Th...  female  38.0      1   \n",
       "2                             Heikkinen, Miss. Laina  female  26.0      0   \n",
       "3       Futrelle, Mrs. Jacques Heath (Lily May Peel)  female  35.0      1   \n",
       "4                           Allen, Mr. William Henry    male  35.0      0   \n",
       "\n",
       "   Parch            Ticket     Fare Cabin Embarked  \n",
       "0      0         A/5 21171   7.2500   NaN        S  \n",
       "1      0          PC 17599  71.2833   C85        C  \n",
       "2      0  STON/O2. 3101282   7.9250   NaN        S  \n",
       "3      0            113803  53.1000  C123        S  \n",
       "4      0            373450   8.0500   NaN        S  "
      ]
     },
     "execution_count": 5,
     "metadata": {},
     "output_type": "execute_result"
    }
   ],
   "source": [
    "titanic.head()"
   ]
  },
  {
   "cell_type": "code",
   "execution_count": 6,
   "id": "29c0a832",
   "metadata": {
    "execution": {
     "iopub.execute_input": "2022-10-07T19:41:58.175811Z",
     "iopub.status.busy": "2022-10-07T19:41:58.174687Z",
     "iopub.status.idle": "2022-10-07T19:41:58.182378Z",
     "shell.execute_reply": "2022-10-07T19:41:58.181228Z"
    },
    "papermill": {
     "duration": 0.02544,
     "end_time": "2022-10-07T19:41:58.184562",
     "exception": false,
     "start_time": "2022-10-07T19:41:58.159122",
     "status": "completed"
    },
    "tags": []
   },
   "outputs": [
    {
     "data": {
      "text/plain": [
       "array(['PassengerId', 'Survived', 'Pclass', 'Name', 'Sex', 'Age', 'SibSp',\n",
       "       'Parch', 'Ticket', 'Fare', 'Cabin', 'Embarked'], dtype=object)"
      ]
     },
     "execution_count": 6,
     "metadata": {},
     "output_type": "execute_result"
    }
   ],
   "source": [
    "titanic.columns.values"
   ]
  },
  {
   "cell_type": "code",
   "execution_count": 7,
   "id": "08e8f170",
   "metadata": {
    "execution": {
     "iopub.execute_input": "2022-10-07T19:41:58.215329Z",
     "iopub.status.busy": "2022-10-07T19:41:58.214872Z",
     "iopub.status.idle": "2022-10-07T19:41:58.222576Z",
     "shell.execute_reply": "2022-10-07T19:41:58.221180Z"
    },
    "papermill": {
     "duration": 0.026162,
     "end_time": "2022-10-07T19:41:58.225195",
     "exception": false,
     "start_time": "2022-10-07T19:41:58.199033",
     "status": "completed"
    },
    "tags": []
   },
   "outputs": [],
   "source": [
    "def courtesy_title(name: str) -> str:\n",
    "    return name.split(',')[-1].split('.')[0].strip()\n",
    "\n",
    "def group_courtesy_title(title: str) -> str:\n",
    "    keep_titles = ('Mr', 'Miss', 'Mrs', 'Master', 'Dr', 'Rev')\n",
    "    if title not in keep_titles:\n",
    "        title = 'Other'\n",
    "        \n",
    "    return title\n",
    "\n",
    "def add_column_present(df, colname):\n",
    "    df[f\"{colname}_present\"] =  np.where(df[colname] != 'NaN', 1, 0)"
   ]
  },
  {
   "cell_type": "code",
   "execution_count": 8,
   "id": "c3411e55",
   "metadata": {
    "execution": {
     "iopub.execute_input": "2022-10-07T19:41:58.255910Z",
     "iopub.status.busy": "2022-10-07T19:41:58.255467Z",
     "iopub.status.idle": "2022-10-07T19:41:58.261328Z",
     "shell.execute_reply": "2022-10-07T19:41:58.260117Z"
    },
    "papermill": {
     "duration": 0.0243,
     "end_time": "2022-10-07T19:41:58.263930",
     "exception": false,
     "start_time": "2022-10-07T19:41:58.239630",
     "status": "completed"
    },
    "tags": []
   },
   "outputs": [],
   "source": [
    "titanic_copy = titanic.copy()"
   ]
  },
  {
   "cell_type": "code",
   "execution_count": 9,
   "id": "810f30be",
   "metadata": {
    "execution": {
     "iopub.execute_input": "2022-10-07T19:41:58.294490Z",
     "iopub.status.busy": "2022-10-07T19:41:58.294103Z",
     "iopub.status.idle": "2022-10-07T19:41:58.308060Z",
     "shell.execute_reply": "2022-10-07T19:41:58.306790Z"
    },
    "papermill": {
     "duration": 0.032246,
     "end_time": "2022-10-07T19:41:58.310629",
     "exception": false,
     "start_time": "2022-10-07T19:41:58.278383",
     "status": "completed"
    },
    "tags": []
   },
   "outputs": [],
   "source": [
    "augusta_tyler = titanic.loc[titanic['Parch'] == 6]\n",
    "titanic = titanic.drop(index=augusta_tyler.index)"
   ]
  },
  {
   "cell_type": "code",
   "execution_count": 10,
   "id": "2963e07b",
   "metadata": {
    "execution": {
     "iopub.execute_input": "2022-10-07T19:41:58.341198Z",
     "iopub.status.busy": "2022-10-07T19:41:58.340776Z",
     "iopub.status.idle": "2022-10-07T19:41:58.348292Z",
     "shell.execute_reply": "2022-10-07T19:41:58.347273Z"
    },
    "papermill": {
     "duration": 0.025581,
     "end_time": "2022-10-07T19:41:58.350506",
     "exception": false,
     "start_time": "2022-10-07T19:41:58.324925",
     "status": "completed"
    },
    "tags": []
   },
   "outputs": [],
   "source": [
    "titanic[\"title\"] = titanic['Name'].apply(courtesy_title)"
   ]
  },
  {
   "cell_type": "code",
   "execution_count": 11,
   "id": "c6959889",
   "metadata": {
    "execution": {
     "iopub.execute_input": "2022-10-07T19:41:58.382344Z",
     "iopub.status.busy": "2022-10-07T19:41:58.381813Z",
     "iopub.status.idle": "2022-10-07T19:41:58.390660Z",
     "shell.execute_reply": "2022-10-07T19:41:58.389455Z"
    },
    "papermill": {
     "duration": 0.027277,
     "end_time": "2022-10-07T19:41:58.393291",
     "exception": false,
     "start_time": "2022-10-07T19:41:58.366014",
     "status": "completed"
    },
    "tags": []
   },
   "outputs": [],
   "source": [
    "titanic['title'] = titanic['title'].replace('Mlle', 'Miss')\n",
    "titanic['title'] = titanic['title'].replace('Mme', 'Mrs')\n",
    "titanic['title'] = titanic['title'].replace('Ms', 'Miss')"
   ]
  },
  {
   "cell_type": "code",
   "execution_count": 12,
   "id": "7140a7df",
   "metadata": {
    "execution": {
     "iopub.execute_input": "2022-10-07T19:41:58.423997Z",
     "iopub.status.busy": "2022-10-07T19:41:58.423509Z",
     "iopub.status.idle": "2022-10-07T19:41:58.443826Z",
     "shell.execute_reply": "2022-10-07T19:41:58.442672Z"
    },
    "papermill": {
     "duration": 0.038576,
     "end_time": "2022-10-07T19:41:58.446254",
     "exception": false,
     "start_time": "2022-10-07T19:41:58.407678",
     "status": "completed"
    },
    "tags": []
   },
   "outputs": [
    {
     "data": {
      "text/html": [
       "<div>\n",
       "<style scoped>\n",
       "    .dataframe tbody tr th:only-of-type {\n",
       "        vertical-align: middle;\n",
       "    }\n",
       "\n",
       "    .dataframe tbody tr th {\n",
       "        vertical-align: top;\n",
       "    }\n",
       "\n",
       "    .dataframe thead th {\n",
       "        text-align: right;\n",
       "    }\n",
       "</style>\n",
       "<table border=\"1\" class=\"dataframe\">\n",
       "  <thead>\n",
       "    <tr style=\"text-align: right;\">\n",
       "      <th></th>\n",
       "      <th>PassengerId</th>\n",
       "      <th>Survived</th>\n",
       "      <th>Pclass</th>\n",
       "      <th>Name</th>\n",
       "      <th>Sex</th>\n",
       "      <th>Age</th>\n",
       "      <th>SibSp</th>\n",
       "      <th>Parch</th>\n",
       "      <th>Ticket</th>\n",
       "      <th>Fare</th>\n",
       "      <th>Cabin</th>\n",
       "      <th>Embarked</th>\n",
       "      <th>title</th>\n",
       "    </tr>\n",
       "  </thead>\n",
       "  <tbody>\n",
       "    <tr>\n",
       "      <th>0</th>\n",
       "      <td>1</td>\n",
       "      <td>0</td>\n",
       "      <td>3</td>\n",
       "      <td>Braund, Mr. Owen Harris</td>\n",
       "      <td>male</td>\n",
       "      <td>22.0</td>\n",
       "      <td>1</td>\n",
       "      <td>0</td>\n",
       "      <td>A/5 21171</td>\n",
       "      <td>7.2500</td>\n",
       "      <td>NaN</td>\n",
       "      <td>S</td>\n",
       "      <td>Mr</td>\n",
       "    </tr>\n",
       "    <tr>\n",
       "      <th>1</th>\n",
       "      <td>2</td>\n",
       "      <td>1</td>\n",
       "      <td>1</td>\n",
       "      <td>Cumings, Mrs. John Bradley (Florence Briggs Th...</td>\n",
       "      <td>female</td>\n",
       "      <td>38.0</td>\n",
       "      <td>1</td>\n",
       "      <td>0</td>\n",
       "      <td>PC 17599</td>\n",
       "      <td>71.2833</td>\n",
       "      <td>C85</td>\n",
       "      <td>C</td>\n",
       "      <td>Mrs</td>\n",
       "    </tr>\n",
       "    <tr>\n",
       "      <th>2</th>\n",
       "      <td>3</td>\n",
       "      <td>1</td>\n",
       "      <td>3</td>\n",
       "      <td>Heikkinen, Miss. Laina</td>\n",
       "      <td>female</td>\n",
       "      <td>26.0</td>\n",
       "      <td>0</td>\n",
       "      <td>0</td>\n",
       "      <td>STON/O2. 3101282</td>\n",
       "      <td>7.9250</td>\n",
       "      <td>NaN</td>\n",
       "      <td>S</td>\n",
       "      <td>Miss</td>\n",
       "    </tr>\n",
       "    <tr>\n",
       "      <th>3</th>\n",
       "      <td>4</td>\n",
       "      <td>1</td>\n",
       "      <td>1</td>\n",
       "      <td>Futrelle, Mrs. Jacques Heath (Lily May Peel)</td>\n",
       "      <td>female</td>\n",
       "      <td>35.0</td>\n",
       "      <td>1</td>\n",
       "      <td>0</td>\n",
       "      <td>113803</td>\n",
       "      <td>53.1000</td>\n",
       "      <td>C123</td>\n",
       "      <td>S</td>\n",
       "      <td>Mrs</td>\n",
       "    </tr>\n",
       "    <tr>\n",
       "      <th>4</th>\n",
       "      <td>5</td>\n",
       "      <td>0</td>\n",
       "      <td>3</td>\n",
       "      <td>Allen, Mr. William Henry</td>\n",
       "      <td>male</td>\n",
       "      <td>35.0</td>\n",
       "      <td>0</td>\n",
       "      <td>0</td>\n",
       "      <td>373450</td>\n",
       "      <td>8.0500</td>\n",
       "      <td>NaN</td>\n",
       "      <td>S</td>\n",
       "      <td>Mr</td>\n",
       "    </tr>\n",
       "  </tbody>\n",
       "</table>\n",
       "</div>"
      ],
      "text/plain": [
       "   PassengerId  Survived  Pclass  \\\n",
       "0            1         0       3   \n",
       "1            2         1       1   \n",
       "2            3         1       3   \n",
       "3            4         1       1   \n",
       "4            5         0       3   \n",
       "\n",
       "                                                Name     Sex   Age  SibSp  \\\n",
       "0                            Braund, Mr. Owen Harris    male  22.0      1   \n",
       "1  Cumings, Mrs. John Bradley (Florence Briggs Th...  female  38.0      1   \n",
       "2                             Heikkinen, Miss. Laina  female  26.0      0   \n",
       "3       Futrelle, Mrs. Jacques Heath (Lily May Peel)  female  35.0      1   \n",
       "4                           Allen, Mr. William Henry    male  35.0      0   \n",
       "\n",
       "   Parch            Ticket     Fare Cabin Embarked title  \n",
       "0      0         A/5 21171   7.2500   NaN        S    Mr  \n",
       "1      0          PC 17599  71.2833   C85        C   Mrs  \n",
       "2      0  STON/O2. 3101282   7.9250   NaN        S  Miss  \n",
       "3      0            113803  53.1000  C123        S   Mrs  \n",
       "4      0            373450   8.0500   NaN        S    Mr  "
      ]
     },
     "execution_count": 12,
     "metadata": {},
     "output_type": "execute_result"
    }
   ],
   "source": [
    "titanic['title'] = titanic['title'].apply(group_courtesy_title)\n",
    "\n",
    "titanic.head()"
   ]
  },
  {
   "cell_type": "code",
   "execution_count": 13,
   "id": "06b49e27",
   "metadata": {
    "execution": {
     "iopub.execute_input": "2022-10-07T19:41:58.478246Z",
     "iopub.status.busy": "2022-10-07T19:41:58.477786Z",
     "iopub.status.idle": "2022-10-07T19:41:58.497945Z",
     "shell.execute_reply": "2022-10-07T19:41:58.496803Z"
    },
    "papermill": {
     "duration": 0.039019,
     "end_time": "2022-10-07T19:41:58.500545",
     "exception": false,
     "start_time": "2022-10-07T19:41:58.461526",
     "status": "completed"
    },
    "tags": []
   },
   "outputs": [
    {
     "data": {
      "text/html": [
       "<div>\n",
       "<style scoped>\n",
       "    .dataframe tbody tr th:only-of-type {\n",
       "        vertical-align: middle;\n",
       "    }\n",
       "\n",
       "    .dataframe tbody tr th {\n",
       "        vertical-align: top;\n",
       "    }\n",
       "\n",
       "    .dataframe thead th {\n",
       "        text-align: right;\n",
       "    }\n",
       "</style>\n",
       "<table border=\"1\" class=\"dataframe\">\n",
       "  <thead>\n",
       "    <tr style=\"text-align: right;\">\n",
       "      <th></th>\n",
       "      <th>Survived</th>\n",
       "      <th>Pclass</th>\n",
       "      <th>Sex</th>\n",
       "      <th>Age</th>\n",
       "      <th>SibSp</th>\n",
       "      <th>Parch</th>\n",
       "      <th>Fare</th>\n",
       "      <th>Embarked</th>\n",
       "      <th>title</th>\n",
       "    </tr>\n",
       "  </thead>\n",
       "  <tbody>\n",
       "    <tr>\n",
       "      <th>0</th>\n",
       "      <td>0</td>\n",
       "      <td>3</td>\n",
       "      <td>male</td>\n",
       "      <td>22.0</td>\n",
       "      <td>1</td>\n",
       "      <td>0</td>\n",
       "      <td>7.2500</td>\n",
       "      <td>S</td>\n",
       "      <td>Mr</td>\n",
       "    </tr>\n",
       "    <tr>\n",
       "      <th>1</th>\n",
       "      <td>1</td>\n",
       "      <td>1</td>\n",
       "      <td>female</td>\n",
       "      <td>38.0</td>\n",
       "      <td>1</td>\n",
       "      <td>0</td>\n",
       "      <td>71.2833</td>\n",
       "      <td>C</td>\n",
       "      <td>Mrs</td>\n",
       "    </tr>\n",
       "    <tr>\n",
       "      <th>2</th>\n",
       "      <td>1</td>\n",
       "      <td>3</td>\n",
       "      <td>female</td>\n",
       "      <td>26.0</td>\n",
       "      <td>0</td>\n",
       "      <td>0</td>\n",
       "      <td>7.9250</td>\n",
       "      <td>S</td>\n",
       "      <td>Miss</td>\n",
       "    </tr>\n",
       "    <tr>\n",
       "      <th>3</th>\n",
       "      <td>1</td>\n",
       "      <td>1</td>\n",
       "      <td>female</td>\n",
       "      <td>35.0</td>\n",
       "      <td>1</td>\n",
       "      <td>0</td>\n",
       "      <td>53.1000</td>\n",
       "      <td>S</td>\n",
       "      <td>Mrs</td>\n",
       "    </tr>\n",
       "    <tr>\n",
       "      <th>4</th>\n",
       "      <td>0</td>\n",
       "      <td>3</td>\n",
       "      <td>male</td>\n",
       "      <td>35.0</td>\n",
       "      <td>0</td>\n",
       "      <td>0</td>\n",
       "      <td>8.0500</td>\n",
       "      <td>S</td>\n",
       "      <td>Mr</td>\n",
       "    </tr>\n",
       "  </tbody>\n",
       "</table>\n",
       "</div>"
      ],
      "text/plain": [
       "   Survived  Pclass     Sex   Age  SibSp  Parch     Fare Embarked title\n",
       "0         0       3    male  22.0      1      0   7.2500        S    Mr\n",
       "1         1       1  female  38.0      1      0  71.2833        C   Mrs\n",
       "2         1       3  female  26.0      0      0   7.9250        S  Miss\n",
       "3         1       1  female  35.0      1      0  53.1000        S   Mrs\n",
       "4         0       3    male  35.0      0      0   8.0500        S    Mr"
      ]
     },
     "execution_count": 13,
     "metadata": {},
     "output_type": "execute_result"
    }
   ],
   "source": [
    "# PassengerId, Name, Ticket and Cabin are not very informative values\n",
    "titanic = titanic.drop([\"PassengerId\", \"Name\", \"Ticket\", \"Cabin\"], axis=1)\n",
    "titanic.head()"
   ]
  },
  {
   "cell_type": "code",
   "execution_count": 14,
   "id": "8b44cd13",
   "metadata": {
    "execution": {
     "iopub.execute_input": "2022-10-07T19:41:58.532318Z",
     "iopub.status.busy": "2022-10-07T19:41:58.531855Z",
     "iopub.status.idle": "2022-10-07T19:41:58.541840Z",
     "shell.execute_reply": "2022-10-07T19:41:58.541028Z"
    },
    "papermill": {
     "duration": 0.02826,
     "end_time": "2022-10-07T19:41:58.543908",
     "exception": false,
     "start_time": "2022-10-07T19:41:58.515648",
     "status": "completed"
    },
    "tags": []
   },
   "outputs": [
    {
     "data": {
      "text/plain": [
       "Survived    False\n",
       "Pclass      False\n",
       "Sex         False\n",
       "Age          True\n",
       "SibSp       False\n",
       "Parch       False\n",
       "Fare        False\n",
       "Embarked     True\n",
       "title       False\n",
       "dtype: bool"
      ]
     },
     "execution_count": 14,
     "metadata": {},
     "output_type": "execute_result"
    }
   ],
   "source": [
    "titanic.isna().any()"
   ]
  },
  {
   "cell_type": "code",
   "execution_count": 15,
   "id": "052dc725",
   "metadata": {
    "execution": {
     "iopub.execute_input": "2022-10-07T19:41:58.576562Z",
     "iopub.status.busy": "2022-10-07T19:41:58.576102Z",
     "iopub.status.idle": "2022-10-07T19:41:58.597929Z",
     "shell.execute_reply": "2022-10-07T19:41:58.596742Z"
    },
    "papermill": {
     "duration": 0.04077,
     "end_time": "2022-10-07T19:41:58.600246",
     "exception": false,
     "start_time": "2022-10-07T19:41:58.559476",
     "status": "completed"
    },
    "tags": []
   },
   "outputs": [
    {
     "data": {
      "text/html": [
       "<div>\n",
       "<style scoped>\n",
       "    .dataframe tbody tr th:only-of-type {\n",
       "        vertical-align: middle;\n",
       "    }\n",
       "\n",
       "    .dataframe tbody tr th {\n",
       "        vertical-align: top;\n",
       "    }\n",
       "\n",
       "    .dataframe thead th {\n",
       "        text-align: right;\n",
       "    }\n",
       "</style>\n",
       "<table border=\"1\" class=\"dataframe\">\n",
       "  <thead>\n",
       "    <tr style=\"text-align: right;\">\n",
       "      <th></th>\n",
       "      <th>Survived</th>\n",
       "      <th>Pclass</th>\n",
       "      <th>Sex</th>\n",
       "      <th>Age</th>\n",
       "      <th>SibSp</th>\n",
       "      <th>Parch</th>\n",
       "      <th>Fare</th>\n",
       "      <th>Embarked</th>\n",
       "      <th>title</th>\n",
       "      <th>Age_present</th>\n",
       "      <th>Embarked_present</th>\n",
       "    </tr>\n",
       "  </thead>\n",
       "  <tbody>\n",
       "    <tr>\n",
       "      <th>0</th>\n",
       "      <td>0</td>\n",
       "      <td>3</td>\n",
       "      <td>male</td>\n",
       "      <td>22.0</td>\n",
       "      <td>1</td>\n",
       "      <td>0</td>\n",
       "      <td>7.2500</td>\n",
       "      <td>S</td>\n",
       "      <td>Mr</td>\n",
       "      <td>1</td>\n",
       "      <td>1</td>\n",
       "    </tr>\n",
       "    <tr>\n",
       "      <th>1</th>\n",
       "      <td>1</td>\n",
       "      <td>1</td>\n",
       "      <td>female</td>\n",
       "      <td>38.0</td>\n",
       "      <td>1</td>\n",
       "      <td>0</td>\n",
       "      <td>71.2833</td>\n",
       "      <td>C</td>\n",
       "      <td>Mrs</td>\n",
       "      <td>1</td>\n",
       "      <td>1</td>\n",
       "    </tr>\n",
       "    <tr>\n",
       "      <th>2</th>\n",
       "      <td>1</td>\n",
       "      <td>3</td>\n",
       "      <td>female</td>\n",
       "      <td>26.0</td>\n",
       "      <td>0</td>\n",
       "      <td>0</td>\n",
       "      <td>7.9250</td>\n",
       "      <td>S</td>\n",
       "      <td>Miss</td>\n",
       "      <td>1</td>\n",
       "      <td>1</td>\n",
       "    </tr>\n",
       "    <tr>\n",
       "      <th>3</th>\n",
       "      <td>1</td>\n",
       "      <td>1</td>\n",
       "      <td>female</td>\n",
       "      <td>35.0</td>\n",
       "      <td>1</td>\n",
       "      <td>0</td>\n",
       "      <td>53.1000</td>\n",
       "      <td>S</td>\n",
       "      <td>Mrs</td>\n",
       "      <td>1</td>\n",
       "      <td>1</td>\n",
       "    </tr>\n",
       "    <tr>\n",
       "      <th>4</th>\n",
       "      <td>0</td>\n",
       "      <td>3</td>\n",
       "      <td>male</td>\n",
       "      <td>35.0</td>\n",
       "      <td>0</td>\n",
       "      <td>0</td>\n",
       "      <td>8.0500</td>\n",
       "      <td>S</td>\n",
       "      <td>Mr</td>\n",
       "      <td>1</td>\n",
       "      <td>1</td>\n",
       "    </tr>\n",
       "  </tbody>\n",
       "</table>\n",
       "</div>"
      ],
      "text/plain": [
       "   Survived  Pclass     Sex   Age  SibSp  Parch     Fare Embarked title  \\\n",
       "0         0       3    male  22.0      1      0   7.2500        S    Mr   \n",
       "1         1       1  female  38.0      1      0  71.2833        C   Mrs   \n",
       "2         1       3  female  26.0      0      0   7.9250        S  Miss   \n",
       "3         1       1  female  35.0      1      0  53.1000        S   Mrs   \n",
       "4         0       3    male  35.0      0      0   8.0500        S    Mr   \n",
       "\n",
       "   Age_present  Embarked_present  \n",
       "0            1                 1  \n",
       "1            1                 1  \n",
       "2            1                 1  \n",
       "3            1                 1  \n",
       "4            1                 1  "
      ]
     },
     "execution_count": 15,
     "metadata": {},
     "output_type": "execute_result"
    }
   ],
   "source": [
    "columns = [\"Age\", \"Embarked\"]\n",
    "for column in columns:\n",
    "    add_column_present(titanic, column)\n",
    "\n",
    "titanic.head()"
   ]
  },
  {
   "cell_type": "code",
   "execution_count": 16,
   "id": "2cd25de6",
   "metadata": {
    "execution": {
     "iopub.execute_input": "2022-10-07T19:41:58.632681Z",
     "iopub.status.busy": "2022-10-07T19:41:58.632158Z",
     "iopub.status.idle": "2022-10-07T19:41:58.638463Z",
     "shell.execute_reply": "2022-10-07T19:41:58.637516Z"
    },
    "papermill": {
     "duration": 0.025133,
     "end_time": "2022-10-07T19:41:58.640610",
     "exception": false,
     "start_time": "2022-10-07T19:41:58.615477",
     "status": "completed"
    },
    "tags": []
   },
   "outputs": [],
   "source": [
    "titanic[\"Embarked\"] = titanic['Embarked'].replace(np.nan, \"S\")"
   ]
  },
  {
   "cell_type": "code",
   "execution_count": 17,
   "id": "1e6ecfa4",
   "metadata": {
    "execution": {
     "iopub.execute_input": "2022-10-07T19:41:58.675451Z",
     "iopub.status.busy": "2022-10-07T19:41:58.674964Z",
     "iopub.status.idle": "2022-10-07T19:41:58.686041Z",
     "shell.execute_reply": "2022-10-07T19:41:58.684954Z"
    },
    "papermill": {
     "duration": 0.030455,
     "end_time": "2022-10-07T19:41:58.688553",
     "exception": false,
     "start_time": "2022-10-07T19:41:58.658098",
     "status": "completed"
    },
    "tags": []
   },
   "outputs": [
    {
     "data": {
      "text/plain": [
       "Survived            False\n",
       "Pclass              False\n",
       "Sex                 False\n",
       "Age                  True\n",
       "SibSp               False\n",
       "Parch               False\n",
       "Fare                False\n",
       "Embarked            False\n",
       "title               False\n",
       "Age_present         False\n",
       "Embarked_present    False\n",
       "dtype: bool"
      ]
     },
     "execution_count": 17,
     "metadata": {},
     "output_type": "execute_result"
    }
   ],
   "source": [
    "titanic.isna().any()"
   ]
  },
  {
   "cell_type": "code",
   "execution_count": 18,
   "id": "482afca2",
   "metadata": {
    "execution": {
     "iopub.execute_input": "2022-10-07T19:41:58.722032Z",
     "iopub.status.busy": "2022-10-07T19:41:58.721573Z",
     "iopub.status.idle": "2022-10-07T19:41:58.745047Z",
     "shell.execute_reply": "2022-10-07T19:41:58.742968Z"
    },
    "papermill": {
     "duration": 0.043876,
     "end_time": "2022-10-07T19:41:58.748024",
     "exception": false,
     "start_time": "2022-10-07T19:41:58.704148",
     "status": "completed"
    },
    "tags": []
   },
   "outputs": [
    {
     "name": "stdout",
     "output_type": "stream",
     "text": [
      "Median Boy Age -> 3.5 || Median Female Age -> 27.0 || Median Men Age -> 30.0\n"
     ]
    },
    {
     "name": "stderr",
     "output_type": "stream",
     "text": [
      "/opt/conda/lib/python3.7/site-packages/ipykernel_launcher.py:3: UserWarning: Boolean Series key will be reindexed to match DataFrame index.\n",
      "  This is separate from the ipykernel package so we can avoid doing imports until\n"
     ]
    }
   ],
   "source": [
    "median_boy_age = titanic.loc[titanic.title.str.lower() == \"master\"][\"Age\"].median()\n",
    "median_age_female = titanic.loc[titanic.Sex.str.lower() == \"female\"][\"Age\"].median()\n",
    "median_men_age = titanic.loc[titanic.title.str.lower() != \"master\"][titanic.Sex.str.lower() == \"male\"][\"Age\"].median()\n",
    "\n",
    "print(f\"Median Boy Age -> {median_boy_age} || Median Female Age -> {median_age_female} || Median Men Age -> {median_men_age}\")"
   ]
  },
  {
   "cell_type": "code",
   "execution_count": 19,
   "id": "d519bf5f",
   "metadata": {
    "execution": {
     "iopub.execute_input": "2022-10-07T19:41:58.782521Z",
     "iopub.status.busy": "2022-10-07T19:41:58.782110Z",
     "iopub.status.idle": "2022-10-07T19:41:58.809605Z",
     "shell.execute_reply": "2022-10-07T19:41:58.808168Z"
    },
    "papermill": {
     "duration": 0.048195,
     "end_time": "2022-10-07T19:41:58.812320",
     "exception": false,
     "start_time": "2022-10-07T19:41:58.764125",
     "status": "completed"
    },
    "tags": []
   },
   "outputs": [
    {
     "data": {
      "text/html": [
       "<div>\n",
       "<style scoped>\n",
       "    .dataframe tbody tr th:only-of-type {\n",
       "        vertical-align: middle;\n",
       "    }\n",
       "\n",
       "    .dataframe tbody tr th {\n",
       "        vertical-align: top;\n",
       "    }\n",
       "\n",
       "    .dataframe thead th {\n",
       "        text-align: right;\n",
       "    }\n",
       "</style>\n",
       "<table border=\"1\" class=\"dataframe\">\n",
       "  <thead>\n",
       "    <tr style=\"text-align: right;\">\n",
       "      <th></th>\n",
       "      <th>Survived</th>\n",
       "      <th>Pclass</th>\n",
       "      <th>Sex</th>\n",
       "      <th>Age</th>\n",
       "      <th>SibSp</th>\n",
       "      <th>Parch</th>\n",
       "      <th>Fare</th>\n",
       "      <th>Embarked</th>\n",
       "      <th>title</th>\n",
       "      <th>Age_present</th>\n",
       "      <th>Embarked_present</th>\n",
       "    </tr>\n",
       "  </thead>\n",
       "  <tbody>\n",
       "    <tr>\n",
       "      <th>0</th>\n",
       "      <td>0</td>\n",
       "      <td>3</td>\n",
       "      <td>male</td>\n",
       "      <td>22.0</td>\n",
       "      <td>1</td>\n",
       "      <td>0</td>\n",
       "      <td>7.2500</td>\n",
       "      <td>S</td>\n",
       "      <td>Mr</td>\n",
       "      <td>1</td>\n",
       "      <td>1</td>\n",
       "    </tr>\n",
       "    <tr>\n",
       "      <th>1</th>\n",
       "      <td>1</td>\n",
       "      <td>1</td>\n",
       "      <td>female</td>\n",
       "      <td>38.0</td>\n",
       "      <td>1</td>\n",
       "      <td>0</td>\n",
       "      <td>71.2833</td>\n",
       "      <td>C</td>\n",
       "      <td>Mrs</td>\n",
       "      <td>1</td>\n",
       "      <td>1</td>\n",
       "    </tr>\n",
       "    <tr>\n",
       "      <th>2</th>\n",
       "      <td>1</td>\n",
       "      <td>3</td>\n",
       "      <td>female</td>\n",
       "      <td>26.0</td>\n",
       "      <td>0</td>\n",
       "      <td>0</td>\n",
       "      <td>7.9250</td>\n",
       "      <td>S</td>\n",
       "      <td>Miss</td>\n",
       "      <td>1</td>\n",
       "      <td>1</td>\n",
       "    </tr>\n",
       "    <tr>\n",
       "      <th>3</th>\n",
       "      <td>1</td>\n",
       "      <td>1</td>\n",
       "      <td>female</td>\n",
       "      <td>35.0</td>\n",
       "      <td>1</td>\n",
       "      <td>0</td>\n",
       "      <td>53.1000</td>\n",
       "      <td>S</td>\n",
       "      <td>Mrs</td>\n",
       "      <td>1</td>\n",
       "      <td>1</td>\n",
       "    </tr>\n",
       "    <tr>\n",
       "      <th>4</th>\n",
       "      <td>0</td>\n",
       "      <td>3</td>\n",
       "      <td>male</td>\n",
       "      <td>35.0</td>\n",
       "      <td>0</td>\n",
       "      <td>0</td>\n",
       "      <td>8.0500</td>\n",
       "      <td>S</td>\n",
       "      <td>Mr</td>\n",
       "      <td>1</td>\n",
       "      <td>1</td>\n",
       "    </tr>\n",
       "  </tbody>\n",
       "</table>\n",
       "</div>"
      ],
      "text/plain": [
       "   Survived  Pclass     Sex   Age  SibSp  Parch     Fare Embarked title  \\\n",
       "0         0       3    male  22.0      1      0   7.2500        S    Mr   \n",
       "1         1       1  female  38.0      1      0  71.2833        C   Mrs   \n",
       "2         1       3  female  26.0      0      0   7.9250        S  Miss   \n",
       "3         1       1  female  35.0      1      0  53.1000        S   Mrs   \n",
       "4         0       3    male  35.0      0      0   8.0500        S    Mr   \n",
       "\n",
       "   Age_present  Embarked_present  \n",
       "0            1                 1  \n",
       "1            1                 1  \n",
       "2            1                 1  \n",
       "3            1                 1  \n",
       "4            1                 1  "
      ]
     },
     "execution_count": 19,
     "metadata": {},
     "output_type": "execute_result"
    }
   ],
   "source": [
    "### Need to update each of the  NAs per class.\n",
    "\n",
    "titanic.loc[(titanic['Age'].isnull()) & (titanic[\"Sex\"] == 'female'), 'Age'] = median_age_female\n",
    "titanic.loc[(titanic['Age'].isnull()) & (titanic[\"title\"].str.lower() == 'master'), 'Age'] = median_boy_age\n",
    "titanic.loc[(titanic['Age'].isnull()) & (titanic[\"title\"].str.lower() != 'master') & (titanic.Sex.str.lower() == \"male\"), 'Age'] = median_men_age\n",
    "\n",
    "titanic.head()"
   ]
  },
  {
   "cell_type": "code",
   "execution_count": 20,
   "id": "985f38dc",
   "metadata": {
    "execution": {
     "iopub.execute_input": "2022-10-07T19:41:58.846616Z",
     "iopub.status.busy": "2022-10-07T19:41:58.845389Z",
     "iopub.status.idle": "2022-10-07T19:41:58.856503Z",
     "shell.execute_reply": "2022-10-07T19:41:58.855341Z"
    },
    "papermill": {
     "duration": 0.030731,
     "end_time": "2022-10-07T19:41:58.858875",
     "exception": false,
     "start_time": "2022-10-07T19:41:58.828144",
     "status": "completed"
    },
    "tags": []
   },
   "outputs": [
    {
     "data": {
      "text/plain": [
       "Survived            False\n",
       "Pclass              False\n",
       "Sex                 False\n",
       "Age                 False\n",
       "SibSp               False\n",
       "Parch               False\n",
       "Fare                False\n",
       "Embarked            False\n",
       "title               False\n",
       "Age_present         False\n",
       "Embarked_present    False\n",
       "dtype: bool"
      ]
     },
     "execution_count": 20,
     "metadata": {},
     "output_type": "execute_result"
    }
   ],
   "source": [
    "titanic.isna().any()"
   ]
  },
  {
   "cell_type": "code",
   "execution_count": 21,
   "id": "c923e7b0",
   "metadata": {
    "execution": {
     "iopub.execute_input": "2022-10-07T19:41:58.892315Z",
     "iopub.status.busy": "2022-10-07T19:41:58.891875Z",
     "iopub.status.idle": "2022-10-07T19:42:00.069440Z",
     "shell.execute_reply": "2022-10-07T19:42:00.068092Z"
    },
    "papermill": {
     "duration": 1.197506,
     "end_time": "2022-10-07T19:42:00.072320",
     "exception": false,
     "start_time": "2022-10-07T19:41:58.874814",
     "status": "completed"
    },
    "tags": []
   },
   "outputs": [],
   "source": [
    "from sklearn.model_selection import train_test_split\n",
    "\n",
    "train, test = train_test_split(titanic, test_size=0.2, random_state=seed, stratify=titanic[[\"Sex\", \"Pclass\", \"Survived\"]])"
   ]
  },
  {
   "cell_type": "code",
   "execution_count": 22,
   "id": "45a57e34",
   "metadata": {
    "execution": {
     "iopub.execute_input": "2022-10-07T19:42:00.106658Z",
     "iopub.status.busy": "2022-10-07T19:42:00.106216Z",
     "iopub.status.idle": "2022-10-07T19:42:00.471372Z",
     "shell.execute_reply": "2022-10-07T19:42:00.470313Z"
    },
    "papermill": {
     "duration": 0.385815,
     "end_time": "2022-10-07T19:42:00.474197",
     "exception": false,
     "start_time": "2022-10-07T19:42:00.088382",
     "status": "completed"
    },
    "tags": []
   },
   "outputs": [],
   "source": [
    "from imblearn.pipeline import Pipeline\n",
    "from sklearn.compose import ColumnTransformer\n",
    "from sklearn.preprocessing import OneHotEncoder, RobustScaler, OrdinalEncoder, FunctionTransformer\n",
    "\n",
    "\n",
    "numeric_features = [\"Age\", \"Fare\"]\n",
    "ordinal_features = [\"Pclass\"]\n",
    "categorical_features = [\"Sex\", \"SibSp\", \"Parch\", \"Embarked\", \"title\", \"Embarked_present\", \"Age_present\"]\n",
    "\n",
    "numeric_transformer = Pipeline([(\"scaler\", RobustScaler())])\n",
    "categorical_transformer = OneHotEncoder(handle_unknown=\"error\")\n",
    "ordinal_transformer = OrdinalEncoder(handle_unknown=\"error\")\n",
    "\n",
    "preprocessor = ColumnTransformer(\n",
    "    transformers=[\n",
    "        (\"num\", numeric_transformer, numeric_features),\n",
    "        (\"cat\", categorical_transformer, categorical_features),\n",
    "        (\"ord\", ordinal_transformer, ordinal_features),\n",
    "    ]\n",
    ")"
   ]
  },
  {
   "cell_type": "code",
   "execution_count": 23,
   "id": "a54c49bd",
   "metadata": {
    "execution": {
     "iopub.execute_input": "2022-10-07T19:42:00.508277Z",
     "iopub.status.busy": "2022-10-07T19:42:00.507799Z",
     "iopub.status.idle": "2022-10-07T19:42:00.514868Z",
     "shell.execute_reply": "2022-10-07T19:42:00.513981Z"
    },
    "papermill": {
     "duration": 0.026683,
     "end_time": "2022-10-07T19:42:00.517319",
     "exception": false,
     "start_time": "2022-10-07T19:42:00.490636",
     "status": "completed"
    },
    "tags": []
   },
   "outputs": [],
   "source": [
    "y_train, y_test = train[\"Survived\"], test[\"Survived\"]\n",
    "del train[\"Survived\"]\n",
    "del test[\"Survived\"]"
   ]
  },
  {
   "cell_type": "code",
   "execution_count": 24,
   "id": "040be9a9",
   "metadata": {
    "execution": {
     "iopub.execute_input": "2022-10-07T19:42:00.552022Z",
     "iopub.status.busy": "2022-10-07T19:42:00.550787Z",
     "iopub.status.idle": "2022-10-07T19:42:01.537670Z",
     "shell.execute_reply": "2022-10-07T19:42:01.536271Z"
    },
    "papermill": {
     "duration": 1.0068,
     "end_time": "2022-10-07T19:42:01.540326",
     "exception": false,
     "start_time": "2022-10-07T19:42:00.533526",
     "status": "completed"
    },
    "tags": []
   },
   "outputs": [
    {
     "data": {
      "text/plain": [
       "Pipeline(steps=[('preprocessor',\n",
       "                 ColumnTransformer(transformers=[('num',\n",
       "                                                  Pipeline(steps=[('scaler',\n",
       "                                                                   RobustScaler())]),\n",
       "                                                  ['Age', 'Fare']),\n",
       "                                                 ('cat', OneHotEncoder(),\n",
       "                                                  ['Sex', 'SibSp', 'Parch',\n",
       "                                                   'Embarked', 'title',\n",
       "                                                   'Embarked_present',\n",
       "                                                   'Age_present']),\n",
       "                                                 ('ord', OrdinalEncoder(),\n",
       "                                                  ['Pclass'])])),\n",
       "                ('sampling', SMOTE()),\n",
       "                ('classifier',\n",
       "                 LogisticRegression(max_iter=250, n_jobs=-1, random_state=42))])"
      ]
     },
     "execution_count": 24,
     "metadata": {},
     "output_type": "execute_result"
    }
   ],
   "source": [
    "from imblearn.over_sampling import SMOTE\n",
    "from sklearn.linear_model import LogisticRegression\n",
    "\n",
    "logit = Pipeline(steps=[(\"preprocessor\", preprocessor), (\"sampling\", SMOTE()), (\"classifier\", LogisticRegression(max_iter=250, random_state=seed, n_jobs=-1))])\n",
    "logit.fit(train, y_train)"
   ]
  },
  {
   "cell_type": "code",
   "execution_count": 25,
   "id": "56f03f29",
   "metadata": {
    "execution": {
     "iopub.execute_input": "2022-10-07T19:42:01.574695Z",
     "iopub.status.busy": "2022-10-07T19:42:01.574244Z",
     "iopub.status.idle": "2022-10-07T19:42:01.597383Z",
     "shell.execute_reply": "2022-10-07T19:42:01.595956Z"
    },
    "papermill": {
     "duration": 0.045195,
     "end_time": "2022-10-07T19:42:01.601526",
     "exception": false,
     "start_time": "2022-10-07T19:42:01.556331",
     "status": "completed"
    },
    "tags": []
   },
   "outputs": [
    {
     "data": {
      "text/plain": [
       "0.8202247191011236"
      ]
     },
     "execution_count": 25,
     "metadata": {},
     "output_type": "execute_result"
    }
   ],
   "source": [
    "logit.score(train, y_train)"
   ]
  },
  {
   "cell_type": "code",
   "execution_count": 26,
   "id": "75115736",
   "metadata": {
    "execution": {
     "iopub.execute_input": "2022-10-07T19:42:01.688755Z",
     "iopub.status.busy": "2022-10-07T19:42:01.688009Z",
     "iopub.status.idle": "2022-10-07T19:42:02.687458Z",
     "shell.execute_reply": "2022-10-07T19:42:02.686372Z"
    },
    "papermill": {
     "duration": 1.04702,
     "end_time": "2022-10-07T19:42:02.690227",
     "exception": false,
     "start_time": "2022-10-07T19:42:01.643207",
     "status": "completed"
    },
    "tags": []
   },
   "outputs": [
    {
     "data": {
      "text/html": [
       "<style type='text/css'>\n",
       ".datatable table.frame { margin-bottom: 0; }\n",
       ".datatable table.frame thead { border-bottom: none; }\n",
       ".datatable table.frame tr.coltypes td {  color: #FFFFFF;  line-height: 6px;  padding: 0 0.5em;}\n",
       ".datatable .bool    { background: #DDDD99; }\n",
       ".datatable .object  { background: #565656; }\n",
       ".datatable .int     { background: #5D9E5D; }\n",
       ".datatable .float   { background: #4040CC; }\n",
       ".datatable .str     { background: #CC4040; }\n",
       ".datatable .time    { background: #40CC40; }\n",
       ".datatable .row_index {  background: var(--jp-border-color3);  border-right: 1px solid var(--jp-border-color0);  color: var(--jp-ui-font-color3);  font-size: 9px;}\n",
       ".datatable .frame tbody td { text-align: left; }\n",
       ".datatable .frame tr.coltypes .row_index {  background: var(--jp-border-color0);}\n",
       ".datatable th:nth-child(2) { padding-left: 12px; }\n",
       ".datatable .hellipsis {  color: var(--jp-cell-editor-border-color);}\n",
       ".datatable .vellipsis {  background: var(--jp-layout-color0);  color: var(--jp-cell-editor-border-color);}\n",
       ".datatable .na {  color: var(--jp-cell-editor-border-color);  font-size: 80%;}\n",
       ".datatable .sp {  opacity: 0.25;}\n",
       ".datatable .footer { font-size: 9px; }\n",
       ".datatable .frame_dimensions {  background: var(--jp-border-color3);  border-top: 1px solid var(--jp-border-color0);  color: var(--jp-ui-font-color3);  display: inline-block;  opacity: 0.6;  padding: 1px 10px 1px 5px;}\n",
       "</style>\n"
      ],
      "text/plain": [
       "<IPython.core.display.HTML object>"
      ]
     },
     "metadata": {},
     "output_type": "display_data"
    }
   ],
   "source": [
    "from sklearn.linear_model import LogisticRegression\n",
    "from sklearn.ensemble import RandomForestClassifier\n",
    "from sklearn.ensemble import AdaBoostClassifier\n",
    "from sklearn.naive_bayes import GaussianNB\n",
    "from sklearn.neural_network import MLPClassifier\n",
    "\n",
    "from lightgbm import LGBMClassifier\n",
    "\n",
    "classifiers = {\n",
    "    \"logit\": Pipeline(steps=[(\"preprocessor\", preprocessor), (\"sampling\", SMOTE()), (\"classifier\", LogisticRegression(max_iter=300, random_state=seed, n_jobs=-1))]),\n",
    "    \"rf\": Pipeline(steps=[(\"preprocessor\", preprocessor), (\"sampling\", SMOTE()), (\"classifier\", RandomForestClassifier(random_state=seed, n_jobs=-1))]),\n",
    "    \"lbgm\": Pipeline(steps=[(\"preprocessor\", preprocessor), (\"sampling\", SMOTE()), (\"classifier\", LGBMClassifier(random_state=seed, n_jobs=-1))]),\n",
    "    \"neural\": Pipeline(steps=[(\"preprocessor\", preprocessor), (\"sampling\", SMOTE()), (\"classifier\", MLPClassifier(random_state=seed))]),\n",
    "    \"ada\": Pipeline(steps=[(\"preprocessor\", preprocessor), (\"sampling\", SMOTE()), (\"classifier\", AdaBoostClassifier(random_state=seed))]),\n",
    "}"
   ]
  },
  {
   "cell_type": "code",
   "execution_count": 27,
   "id": "d8a03310",
   "metadata": {
    "execution": {
     "iopub.execute_input": "2022-10-07T19:42:02.724942Z",
     "iopub.status.busy": "2022-10-07T19:42:02.724155Z",
     "iopub.status.idle": "2022-10-07T19:42:35.313954Z",
     "shell.execute_reply": "2022-10-07T19:42:35.312665Z"
    },
    "papermill": {
     "duration": 32.610325,
     "end_time": "2022-10-07T19:42:35.316940",
     "exception": false,
     "start_time": "2022-10-07T19:42:02.706615",
     "status": "completed"
    },
    "tags": []
   },
   "outputs": [
    {
     "name": "stderr",
     "output_type": "stream",
     "text": [
      "/opt/conda/lib/python3.7/site-packages/sklearn/neural_network/_multilayer_perceptron.py:696: ConvergenceWarning: Stochastic Optimizer: Maximum iterations (200) reached and the optimization hasn't converged yet.\n",
      "  ConvergenceWarning,\n",
      "/opt/conda/lib/python3.7/site-packages/sklearn/neural_network/_multilayer_perceptron.py:696: ConvergenceWarning: Stochastic Optimizer: Maximum iterations (200) reached and the optimization hasn't converged yet.\n",
      "  ConvergenceWarning,\n",
      "/opt/conda/lib/python3.7/site-packages/sklearn/neural_network/_multilayer_perceptron.py:696: ConvergenceWarning: Stochastic Optimizer: Maximum iterations (200) reached and the optimization hasn't converged yet.\n",
      "  ConvergenceWarning,\n",
      "/opt/conda/lib/python3.7/site-packages/sklearn/neural_network/_multilayer_perceptron.py:696: ConvergenceWarning: Stochastic Optimizer: Maximum iterations (200) reached and the optimization hasn't converged yet.\n",
      "  ConvergenceWarning,\n",
      "/opt/conda/lib/python3.7/site-packages/sklearn/neural_network/_multilayer_perceptron.py:696: ConvergenceWarning: Stochastic Optimizer: Maximum iterations (200) reached and the optimization hasn't converged yet.\n",
      "  ConvergenceWarning,\n",
      "/opt/conda/lib/python3.7/site-packages/sklearn/neural_network/_multilayer_perceptron.py:696: ConvergenceWarning: Stochastic Optimizer: Maximum iterations (200) reached and the optimization hasn't converged yet.\n",
      "  ConvergenceWarning,\n",
      "/opt/conda/lib/python3.7/site-packages/sklearn/neural_network/_multilayer_perceptron.py:696: ConvergenceWarning: Stochastic Optimizer: Maximum iterations (200) reached and the optimization hasn't converged yet.\n",
      "  ConvergenceWarning,\n",
      "/opt/conda/lib/python3.7/site-packages/sklearn/neural_network/_multilayer_perceptron.py:696: ConvergenceWarning: Stochastic Optimizer: Maximum iterations (200) reached and the optimization hasn't converged yet.\n",
      "  ConvergenceWarning,\n",
      "/opt/conda/lib/python3.7/site-packages/sklearn/neural_network/_multilayer_perceptron.py:696: ConvergenceWarning: Stochastic Optimizer: Maximum iterations (200) reached and the optimization hasn't converged yet.\n",
      "  ConvergenceWarning,\n",
      "/opt/conda/lib/python3.7/site-packages/sklearn/neural_network/_multilayer_perceptron.py:696: ConvergenceWarning: Stochastic Optimizer: Maximum iterations (200) reached and the optimization hasn't converged yet.\n",
      "  ConvergenceWarning,\n",
      "/opt/conda/lib/python3.7/site-packages/sklearn/neural_network/_multilayer_perceptron.py:696: ConvergenceWarning: Stochastic Optimizer: Maximum iterations (200) reached and the optimization hasn't converged yet.\n",
      "  ConvergenceWarning,\n"
     ]
    }
   ],
   "source": [
    "from sklearn.metrics import confusion_matrix, accuracy_score, f1_score\n",
    "from sklearn.model_selection import StratifiedKFold, cross_val_score\n",
    "\n",
    "reports = []\n",
    "kfold_results = []\n",
    "names = []\n",
    "\n",
    "for name, classifier in classifiers.items():\n",
    "    names.append(name)\n",
    "    \n",
    "    # kfold\n",
    "    kfold = StratifiedKFold(n_splits=10, random_state=seed, shuffle=True)\n",
    "    kfold_result = cross_val_score(classifier, train, y_train, cv=kfold, scoring='accuracy')\n",
    "    kfold_results.append(kfold_result)\n",
    "    \n",
    "    # train test split\n",
    "    classifier.fit(train, y_train)\n",
    "    predictions = classifier.predict(test)\n",
    "    reports.append({\n",
    "        'name': name,\n",
    "        'confusion': confusion_matrix(y_test, predictions),\n",
    "        'accuracy': accuracy_score(y_test, predictions),\n",
    "        'f1': f1_score(y_test, predictions)\n",
    "    })"
   ]
  },
  {
   "cell_type": "code",
   "execution_count": 28,
   "id": "02f47a09",
   "metadata": {
    "execution": {
     "iopub.execute_input": "2022-10-07T19:42:35.353520Z",
     "iopub.status.busy": "2022-10-07T19:42:35.353091Z",
     "iopub.status.idle": "2022-10-07T19:42:35.895013Z",
     "shell.execute_reply": "2022-10-07T19:42:35.893756Z"
    },
    "papermill": {
     "duration": 0.563497,
     "end_time": "2022-10-07T19:42:35.897598",
     "exception": false,
     "start_time": "2022-10-07T19:42:35.334101",
     "status": "completed"
    },
    "tags": []
   },
   "outputs": [
    {
     "data": {
      "image/png": "[encoded data removed]",
      "text/plain": [
       "<Figure size 432x288 with 1 Axes>"
      ]
     },
     "metadata": {
      "needs_background": "light"
     },
     "output_type": "display_data"
    }
   ],
   "source": [
    "import seaborn as sns\n",
    "\n",
    "g = sns.boxplot(data=kfold_results)\n",
    "g.set_title('Model Evaluation\\n KFold 10 Splits')\n",
    "g.set_xlabel('Model')\n",
    "g.set_ylabel('Accuracy')\n",
    "g.set_xticklabels(names, rotation=90)\n",
    "g.get_figure().tight_layout()"
   ]
  },
  {
   "cell_type": "code",
   "execution_count": 29,
   "id": "85f0c591",
   "metadata": {
    "execution": {
     "iopub.execute_input": "2022-10-07T19:42:35.934008Z",
     "iopub.status.busy": "2022-10-07T19:42:35.933539Z",
     "iopub.status.idle": "2022-10-07T19:42:35.946103Z",
     "shell.execute_reply": "2022-10-07T19:42:35.944809Z"
    },
    "papermill": {
     "duration": 0.033843,
     "end_time": "2022-10-07T19:42:35.948481",
     "exception": false,
     "start_time": "2022-10-07T19:42:35.914638",
     "status": "completed"
    },
    "tags": []
   },
   "outputs": [
    {
     "name": "stdout",
     "output_type": "stream",
     "text": [
      "--------------------\n",
      "logit\n",
      "--------------------\n",
      "F1 Score:         0.7724137931034483\n",
      "Accuracy:         0.8146067415730337\n",
      "Mean KFold (10):  0.783607198748044\n",
      "Std. KFold (10):  0.05231495094842259\n",
      "TPR:              0.8235294117647058\n",
      "FPR:              0.19090909090909092\n",
      "Specificity:      0.8090909090909091\n",
      "Precision:        0.7272727272727273\n",
      "\n",
      "--------------------\n",
      "rf\n",
      "--------------------\n",
      "F1 Score:         0.7313432835820897\n",
      "Accuracy:         0.797752808988764\n",
      "Mean KFold (10):  0.783607198748044\n",
      "Std. KFold (10):  0.05231495094842259\n",
      "TPR:              0.7205882352941176\n",
      "FPR:              0.15454545454545454\n",
      "Specificity:      0.8454545454545455\n",
      "Precision:        0.7424242424242424\n",
      "\n",
      "--------------------\n",
      "lbgm\n",
      "--------------------\n",
      "F1 Score:         0.7692307692307693\n",
      "Accuracy:         0.8146067415730337\n",
      "Mean KFold (10):  0.783607198748044\n",
      "Std. KFold (10):  0.05231495094842259\n",
      "TPR:              0.8088235294117647\n",
      "FPR:              0.18181818181818182\n",
      "Specificity:      0.8181818181818181\n",
      "Precision:        0.7333333333333333\n",
      "\n",
      "--------------------\n",
      "neural\n",
      "--------------------\n",
      "F1 Score:         0.7832167832167831\n",
      "Accuracy:         0.8258426966292135\n",
      "Mean KFold (10):  0.783607198748044\n",
      "Std. KFold (10):  0.05231495094842259\n",
      "TPR:              0.8235294117647058\n",
      "FPR:              0.17272727272727273\n",
      "Specificity:      0.8272727272727273\n",
      "Precision:        0.7466666666666667\n",
      "\n",
      "--------------------\n",
      "ada\n",
      "--------------------\n",
      "F1 Score:         0.7567567567567567\n",
      "Accuracy:         0.797752808988764\n",
      "Mean KFold (10):  0.783607198748044\n",
      "Std. KFold (10):  0.05231495094842259\n",
      "TPR:              0.8235294117647058\n",
      "FPR:              0.21818181818181817\n",
      "Specificity:      0.7818181818181819\n",
      "Precision:        0.7\n",
      "\n"
     ]
    }
   ],
   "source": [
    "def print_model_stats(kfold_result, report):\n",
    "    tn = report['confusion'][0][0] # True negative\n",
    "    fp = report['confusion'][0][1] # False positive\n",
    "    fn = report['confusion'][1][0] # False negative\n",
    "    tp = report['confusion'][1][1] # True positive\n",
    "    \n",
    "    mr = 1 - report['accuracy'] # Misclassification rate\n",
    "    tpr = tp / (fn + tp) # True positive rate\n",
    "    fpr = fp / (tn + fp) # False positive rate\n",
    "    spec = 1 - fpr # Specificity\n",
    "    prec = tp / (fp + tp) # Precision    \n",
    "    \n",
    "    print('--------------------')\n",
    "    print(report['name'])\n",
    "    print('--------------------')\n",
    "    print('F1 Score:        ', report['f1'])\n",
    "    print('Accuracy:        ', report['accuracy'])\n",
    "    print('Mean KFold (10): ', kfold_result.mean())\n",
    "    print('Std. KFold (10): ', kfold_result.std())\n",
    "    print('TPR:             ', tpr)\n",
    "    print('FPR:             ', fpr)\n",
    "    print('Specificity:     ', spec)\n",
    "    print('Precision:       ', prec)\n",
    "    print()\n",
    "    \n",
    "for kfold, report in zip(kfold_results, reports):\n",
    "    print_model_stats(kfold_result, report)"
   ]
  },
  {
   "cell_type": "code",
   "execution_count": 30,
   "id": "df489ffa",
   "metadata": {
    "execution": {
     "iopub.execute_input": "2022-10-07T19:42:35.986191Z",
     "iopub.status.busy": "2022-10-07T19:42:35.985091Z",
     "iopub.status.idle": "2022-10-07T19:42:36.000716Z",
     "shell.execute_reply": "2022-10-07T19:42:35.999301Z"
    },
    "papermill": {
     "duration": 0.037323,
     "end_time": "2022-10-07T19:42:36.003666",
     "exception": false,
     "start_time": "2022-10-07T19:42:35.966343",
     "status": "completed"
    },
    "tags": []
   },
   "outputs": [],
   "source": [
    "\n",
    "from sklearn.model_selection import KFold\n",
    "\n",
    "\n",
    "def optimization_step(trial, name, train, y_train):\n",
    "    \n",
    "    pipe = None\n",
    "    \n",
    "    if name == \"rf\":\n",
    "        rf = {\n",
    "            'bootstrap': trial.suggest_categorical(\"bootstrap\", choices=[\"gini\", \"entropy\"]),\n",
    "            'max_depth': trial.suggest_int(\"max_depth\", 3, 20),\n",
    "            'max_features': trial.suggest_float(\"max_features\", 0.01, 1.0),\n",
    "            'min_samples_leaf': trial.suggest_int(\"min_samples_leaf\", 3, 5),\n",
    "            'min_samples_split': trial.suggest_int(\"min_samples_split\", 3, 5),\n",
    "            'n_estimators': trial.suggest_int(\"n_estimators\", 200, 2000),\n",
    "            \"criterion\": trial.suggest_categorical(\"criterion\", choices=[\"gini\", \"entropy\"])\n",
    "        }\n",
    "        \n",
    "        pipe = Pipeline(steps=[(\"preprocessor\", preprocessor), (\"sampling\", SMOTE()), (\"classifier\", RandomForestClassifier(**rf, random_state=seed, n_jobs=-1))])\n",
    "        \n",
    "    if name == \"lgbm\":\n",
    "        lgbm = {\n",
    "            \"n_estimators\": trial.suggest_int(\"n_estimators\", 200, 2000),\n",
    "            \"learning_rate\": trial.suggest_float(\"learning_rate\", 0.01, 0.3),\n",
    "            \"num_leaves\": trial.suggest_int(\"num_leaves\", 20, 120, step=20),\n",
    "            \"max_depth\": trial.suggest_int(\"max_depth\", 3, 20),\n",
    "        }\n",
    "        \n",
    "        pipe = Pipeline(steps=[(\"preprocessor\", preprocessor), (\"sampling\", SMOTE()), (\"classifier\", LGBMClassifier(**lgbm, random_state=seed, n_jobs=-1))])\n",
    "\n",
    "    if name == \"logit\":\n",
    "        logit = {\n",
    "            'tol' : trial.suggest_uniform('tol' , 1e-6 , 1e-3),\n",
    "            'C' : trial.suggest_loguniform(\"C\", 1e-2, 1),\n",
    "            'solver' : trial.suggest_categorical('solver' , ['lbfgs','liblinear']),\n",
    "        }\n",
    "        \n",
    "        pipe = Pipeline(steps=[(\"preprocessor\", preprocessor), (\"sampling\", SMOTE()), (\"classifier\", LogisticRegression(**logit, random_state=seed, n_jobs=-1))])\n",
    "        \n",
    "    kfold = KFold(n_splits=5)\n",
    "    accuracies = []\n",
    "    \n",
    "    for train_indices, test_indices in kfold.split(train):\n",
    "        xtrain, ytrain = train.iloc[train_indices], y_train.iloc[train_indices] \n",
    "        x_test, y_test = train.iloc[test_indices], y_train.iloc[test_indices]\n",
    "        \n",
    "        pipe.fit(xtrain, ytrain)\n",
    "        y_pred = pipe.predict(x_test)\n",
    "            \n",
    "        fold_accuracy = accuracy_score(y_test, y_pred)\n",
    "        accuracies.append(fold_accuracy)\n",
    "        \n",
    "    return -1 * np.mean(accuracies)\n",
    "    \n",
    "    \n",
    "    "
   ]
  },
  {
   "cell_type": "code",
   "execution_count": 31,
   "id": "4d2971f6",
   "metadata": {
    "execution": {
     "iopub.execute_input": "2022-10-07T19:42:36.041291Z",
     "iopub.status.busy": "2022-10-07T19:42:36.040606Z",
     "iopub.status.idle": "2022-10-07T19:50:46.250342Z",
     "shell.execute_reply": "2022-10-07T19:50:46.248777Z"
    },
    "papermill": {
     "duration": 490.231295,
     "end_time": "2022-10-07T19:50:46.252972",
     "exception": false,
     "start_time": "2022-10-07T19:42:36.021677",
     "status": "completed"
    },
    "tags": []
   },
   "outputs": [
    {
     "name": "stderr",
     "output_type": "stream",
     "text": [
      "\u001b[32m[I 2022-10-07 19:42:36,485]\u001b[0m A new study created in memory with name: no-name-1f0bd5fe-3c54-49b2-8368-1a454c60bb71\u001b[0m\n",
      "\u001b[32m[I 2022-10-07 19:43:02,086]\u001b[0m Trial 0 finished with value: -0.8244459765586527 and parameters: {'bootstrap': 'gini', 'max_depth': 14, 'max_features': 0.9959766773074242, 'min_samples_leaf': 4, 'min_samples_split': 3, 'n_estimators': 1643, 'criterion': 'entropy'}. Best is trial 0 with value: -0.8244459765586527.\u001b[0m\n",
      "\u001b[32m[I 2022-10-07 19:43:24,252]\u001b[0m Trial 1 finished with value: -0.8244361272530287 and parameters: {'bootstrap': 'gini', 'max_depth': 6, 'max_features': 0.5167371526152674, 'min_samples_leaf': 5, 'min_samples_split': 4, 'n_estimators': 1531, 'criterion': 'gini'}. Best is trial 0 with value: -0.8244459765586527.\u001b[0m\n",
      "\u001b[32m[I 2022-10-07 19:43:31,204]\u001b[0m Trial 2 finished with value: -0.8174037230375258 and parameters: {'bootstrap': 'gini', 'max_depth': 15, 'max_features': 0.20965487999533564, 'min_samples_leaf': 5, 'min_samples_split': 5, 'n_estimators': 440, 'criterion': 'entropy'}. Best is trial 0 with value: -0.8244459765586527.\u001b[0m\n",
      "\u001b[32m[I 2022-10-07 19:43:39,526]\u001b[0m Trial 3 finished with value: -0.8005712597261894 and parameters: {'bootstrap': 'gini', 'max_depth': 10, 'max_features': 0.10254077191810688, 'min_samples_leaf': 5, 'min_samples_split': 5, 'n_estimators': 573, 'criterion': 'entropy'}. Best is trial 0 with value: -0.8244459765586527.\u001b[0m\n",
      "\u001b[32m[I 2022-10-07 19:43:46,143]\u001b[0m Trial 4 finished with value: -0.8258347286516301 and parameters: {'bootstrap': 'gini', 'max_depth': 8, 'max_features': 0.9293978543472989, 'min_samples_leaf': 4, 'min_samples_split': 3, 'n_estimators': 375, 'criterion': 'entropy'}. Best is trial 4 with value: -0.8258347286516301.\u001b[0m\n",
      "\u001b[32m[I 2022-10-07 19:44:07,788]\u001b[0m Trial 5 finished with value: -0.799162809021964 and parameters: {'bootstrap': 'gini', 'max_depth': 13, 'max_features': 0.12760808943147162, 'min_samples_leaf': 5, 'min_samples_split': 5, 'n_estimators': 1600, 'criterion': 'entropy'}. Best is trial 4 with value: -0.8258347286516301.\u001b[0m\n",
      "\u001b[32m[I 2022-10-07 19:44:34,499]\u001b[0m Trial 6 finished with value: -0.8033684625233921 and parameters: {'bootstrap': 'entropy', 'max_depth': 5, 'max_features': 0.07470215757057978, 'min_samples_leaf': 5, 'min_samples_split': 3, 'n_estimators': 1874, 'criterion': 'entropy'}. Best is trial 4 with value: -0.8258347286516301.\u001b[0m\n",
      "\u001b[32m[I 2022-10-07 19:45:00,137]\u001b[0m Trial 7 finished with value: -0.8244361272530286 and parameters: {'bootstrap': 'entropy', 'max_depth': 18, 'max_features': 0.9191301993684436, 'min_samples_leaf': 3, 'min_samples_split': 3, 'n_estimators': 1594, 'criterion': 'gini'}. Best is trial 4 with value: -0.8258347286516301.\u001b[0m\n",
      "\u001b[32m[I 2022-10-07 19:45:10,695]\u001b[0m Trial 8 finished with value: -0.8244262779474048 and parameters: {'bootstrap': 'entropy', 'max_depth': 11, 'max_features': 0.7511100733497575, 'min_samples_leaf': 5, 'min_samples_split': 3, 'n_estimators': 679, 'criterion': 'gini'}. Best is trial 4 with value: -0.8258347286516301.\u001b[0m\n",
      "\u001b[32m[I 2022-10-07 19:45:27,029]\u001b[0m Trial 9 finished with value: -0.8300305328474342 and parameters: {'bootstrap': 'gini', 'max_depth': 12, 'max_features': 0.20391740823961313, 'min_samples_leaf': 4, 'min_samples_split': 3, 'n_estimators': 1098, 'criterion': 'gini'}. Best is trial 9 with value: -0.8300305328474342.\u001b[0m\n",
      "\u001b[32m[I 2022-10-07 19:45:41,866]\u001b[0m Trial 10 finished with value: -0.8243967300305328 and parameters: {'bootstrap': 'entropy', 'max_depth': 18, 'max_features': 0.3423604444878322, 'min_samples_leaf': 3, 'min_samples_split': 4, 'n_estimators': 1006, 'criterion': 'gini'}. Best is trial 9 with value: -0.8300305328474342.\u001b[0m\n",
      "\u001b[32m[I 2022-10-07 19:45:46,457]\u001b[0m Trial 11 finished with value: -0.8216389244558258 and parameters: {'bootstrap': 'gini', 'max_depth': 8, 'max_features': 0.5966657959285878, 'min_samples_leaf': 4, 'min_samples_split': 4, 'n_estimators': 247, 'criterion': 'gini'}. Best is trial 9 with value: -0.8300305328474342.\u001b[0m\n",
      "\u001b[32m[I 2022-10-07 19:46:01,963]\u001b[0m Trial 12 finished with value: -0.7977740569289865 and parameters: {'bootstrap': 'gini', 'max_depth': 3, 'max_features': 0.3704853213685625, 'min_samples_leaf': 4, 'min_samples_split': 3, 'n_estimators': 1061, 'criterion': 'gini'}. Best is trial 9 with value: -0.8300305328474342.\u001b[0m\n",
      "\u001b[32m[I 2022-10-07 19:46:15,331]\u001b[0m Trial 13 finished with value: -0.8286713286713286 and parameters: {'bootstrap': 'gini', 'max_depth': 9, 'max_features': 0.6712584318051132, 'min_samples_leaf': 4, 'min_samples_split': 3, 'n_estimators': 816, 'criterion': 'entropy'}. Best is trial 9 with value: -0.8300305328474342.\u001b[0m\n",
      "\u001b[32m[I 2022-10-07 19:46:28,718]\u001b[0m Trial 14 finished with value: -0.8272530286614794 and parameters: {'bootstrap': 'gini', 'max_depth': 9, 'max_features': 0.6848836717747064, 'min_samples_leaf': 3, 'min_samples_split': 4, 'n_estimators': 817, 'criterion': 'gini'}. Best is trial 9 with value: -0.8300305328474342.\u001b[0m\n",
      "\u001b[32m[I 2022-10-07 19:46:48,059]\u001b[0m Trial 15 finished with value: -0.8230276765488032 and parameters: {'bootstrap': 'gini', 'max_depth': 16, 'max_features': 0.3348505297938973, 'min_samples_leaf': 4, 'min_samples_split': 3, 'n_estimators': 1299, 'criterion': 'entropy'}. Best is trial 9 with value: -0.8300305328474342.\u001b[0m\n",
      "\u001b[32m[I 2022-10-07 19:47:07,674]\u001b[0m Trial 16 finished with value: -0.8230375258544272 and parameters: {'bootstrap': 'gini', 'max_depth': 12, 'max_features': 0.7744610358707206, 'min_samples_leaf': 4, 'min_samples_split': 4, 'n_estimators': 1230, 'criterion': 'entropy'}. Best is trial 9 with value: -0.8300305328474342.\u001b[0m\n",
      "\u001b[32m[I 2022-10-07 19:47:20,650]\u001b[0m Trial 17 finished with value: -0.8160149709445484 and parameters: {'bootstrap': 'gini', 'max_depth': 6, 'max_features': 0.4286749550567087, 'min_samples_leaf': 3, 'min_samples_split': 3, 'n_estimators': 848, 'criterion': 'gini'}. Best is trial 9 with value: -0.8300305328474342.\u001b[0m\n",
      "\u001b[32m[I 2022-10-07 19:47:39,517]\u001b[0m Trial 18 finished with value: -0.8244164286417807 and parameters: {'bootstrap': 'entropy', 'max_depth': 12, 'max_features': 0.23442863879239242, 'min_samples_leaf': 4, 'min_samples_split': 3, 'n_estimators': 1289, 'criterion': 'entropy'}. Best is trial 9 with value: -0.8300305328474342.\u001b[0m\n",
      "\u001b[32m[I 2022-10-07 19:47:53,318]\u001b[0m Trial 19 finished with value: -0.8328572835615089 and parameters: {'bootstrap': 'gini', 'max_depth': 20, 'max_features': 0.5553898755992556, 'min_samples_leaf': 4, 'min_samples_split': 4, 'n_estimators': 902, 'criterion': 'gini'}. Best is trial 19 with value: -0.8328572835615089.\u001b[0m\n",
      "\u001b[32m[I 2022-10-07 19:48:08,535]\u001b[0m Trial 20 finished with value: -0.8159854230276766 and parameters: {'bootstrap': 'gini', 'max_depth': 20, 'max_features': 0.515451917806285, 'min_samples_leaf': 3, 'min_samples_split': 5, 'n_estimators': 1007, 'criterion': 'gini'}. Best is trial 19 with value: -0.8328572835615089.\u001b[0m\n",
      "\u001b[32m[I 2022-10-07 19:48:21,545]\u001b[0m Trial 21 finished with value: -0.8244262779474048 and parameters: {'bootstrap': 'gini', 'max_depth': 20, 'max_features': 0.6209047858130452, 'min_samples_leaf': 4, 'min_samples_split': 4, 'n_estimators': 828, 'criterion': 'gini'}. Best is trial 19 with value: -0.8328572835615089.\u001b[0m\n",
      "\u001b[32m[I 2022-10-07 19:48:31,355]\u001b[0m Trial 22 finished with value: -0.8075938146360683 and parameters: {'bootstrap': 'gini', 'max_depth': 18, 'max_features': 0.011815889969357285, 'min_samples_leaf': 4, 'min_samples_split': 4, 'n_estimators': 684, 'criterion': 'gini'}. Best is trial 19 with value: -0.8328572835615089.\u001b[0m\n",
      "\u001b[32m[I 2022-10-07 19:48:49,432]\u001b[0m Trial 23 finished with value: -0.8286417807544568 and parameters: {'bootstrap': 'gini', 'max_depth': 16, 'max_features': 0.7665140791456273, 'min_samples_leaf': 4, 'min_samples_split': 3, 'n_estimators': 1166, 'criterion': 'gini'}. Best is trial 19 with value: -0.8328572835615089.\u001b[0m\n",
      "\u001b[32m[I 2022-10-07 19:49:03,319]\u001b[0m Trial 24 finished with value: -0.8244164286417807 and parameters: {'bootstrap': 'gini', 'max_depth': 10, 'max_features': 0.4438486037705089, 'min_samples_leaf': 4, 'min_samples_split': 3, 'n_estimators': 937, 'criterion': 'gini'}. Best is trial 19 with value: -0.8328572835615089.\u001b[0m\n",
      "\u001b[32m[I 2022-10-07 19:49:24,777]\u001b[0m Trial 25 finished with value: -0.8314389835516597 and parameters: {'bootstrap': 'gini', 'max_depth': 7, 'max_features': 0.5985292578533604, 'min_samples_leaf': 4, 'min_samples_split': 4, 'n_estimators': 1415, 'criterion': 'gini'}. Best is trial 19 with value: -0.8328572835615089.\u001b[0m\n",
      "\u001b[32m[I 2022-10-07 19:49:45,682]\u001b[0m Trial 26 finished with value: -0.8188121737417511 and parameters: {'bootstrap': 'entropy', 'max_depth': 4, 'max_features': 0.5765528579937775, 'min_samples_leaf': 3, 'min_samples_split': 4, 'n_estimators': 1451, 'criterion': 'gini'}. Best is trial 19 with value: -0.8328572835615089.\u001b[0m\n",
      "\u001b[32m[I 2022-10-07 19:50:10,822]\u001b[0m Trial 27 finished with value: -0.825844577957254 and parameters: {'bootstrap': 'gini', 'max_depth': 7, 'max_features': 0.2136204734273091, 'min_samples_leaf': 4, 'min_samples_split': 5, 'n_estimators': 1847, 'criterion': 'gini'}. Best is trial 19 with value: -0.8328572835615089.\u001b[0m\n",
      "\u001b[32m[I 2022-10-07 19:50:26,479]\u001b[0m Trial 28 finished with value: -0.832867132867133 and parameters: {'bootstrap': 'gini', 'max_depth': 14, 'max_features': 0.2831613081834047, 'min_samples_leaf': 4, 'min_samples_split': 4, 'n_estimators': 1131, 'criterion': 'gini'}. Best is trial 28 with value: -0.832867132867133.\u001b[0m\n",
      "\u001b[32m[I 2022-10-07 19:50:46,242]\u001b[0m Trial 29 finished with value: -0.8314685314685315 and parameters: {'bootstrap': 'gini', 'max_depth': 14, 'max_features': 0.4154994569441737, 'min_samples_leaf': 3, 'min_samples_split': 4, 'n_estimators': 1392, 'criterion': 'gini'}. Best is trial 28 with value: -0.832867132867133.\u001b[0m\n"
     ]
    },
    {
     "name": "stdout",
     "output_type": "stream",
     "text": [
      "=========================================================================================================================\n",
      "=========================================================================================================================\n"
     ]
    }
   ],
   "source": [
    "import optuna\n",
    "from functools import partial\n",
    "\n",
    "import warnings\n",
    "warnings.simplefilter('ignore')\n",
    "\n",
    "# for name, classifier in tmp_classifiers.items():\n",
    "# for model in [\"rf\", \"logit\"]:\n",
    "optimization_function = partial(optimization_step, name=\"rf\", train=train, y_train=y_train)\n",
    "\n",
    "study = optuna.create_study(direction=\"minimize\")\n",
    "study.optimize(optimization_function, n_trials=30)\n",
    "    \n",
    "print(\"=========================================================================================================================\")\n",
    "rf_params = study.best_params\n",
    "print(\"=========================================================================================================================\")"
   ]
  },
  {
   "cell_type": "code",
   "execution_count": 32,
   "id": "9ccc6c3a",
   "metadata": {
    "execution": {
     "iopub.execute_input": "2022-10-07T19:50:46.293478Z",
     "iopub.status.busy": "2022-10-07T19:50:46.293048Z",
     "iopub.status.idle": "2022-10-07T19:52:14.656637Z",
     "shell.execute_reply": "2022-10-07T19:52:14.655625Z"
    },
    "papermill": {
     "duration": 88.387319,
     "end_time": "2022-10-07T19:52:14.659687",
     "exception": false,
     "start_time": "2022-10-07T19:50:46.272368",
     "status": "completed"
    },
    "tags": []
   },
   "outputs": [
    {
     "name": "stderr",
     "output_type": "stream",
     "text": [
      "\u001b[32m[I 2022-10-07 19:50:46,296]\u001b[0m A new study created in memory with name: no-name-45d78074-aabf-4e0b-8ec6-6bbfb58d58d9\u001b[0m\n",
      "\u001b[32m[I 2022-10-07 19:50:51,788]\u001b[0m Trial 0 finished with value: -0.8132177681473456 and parameters: {'n_estimators': 1920, 'learning_rate': 0.013554220252303753, 'num_leaves': 80, 'max_depth': 6}. Best is trial 0 with value: -0.8132177681473456.\u001b[0m\n",
      "\u001b[32m[I 2022-10-07 19:50:54,791]\u001b[0m Trial 1 finished with value: -0.8090022653402935 and parameters: {'n_estimators': 756, 'learning_rate': 0.166135154845838, 'num_leaves': 120, 'max_depth': 7}. Best is trial 0 with value: -0.8132177681473456.\u001b[0m\n",
      "\u001b[32m[I 2022-10-07 19:50:57,004]\u001b[0m Trial 2 finished with value: -0.8118093174431202 and parameters: {'n_estimators': 394, 'learning_rate': 0.15871476475356552, 'num_leaves': 80, 'max_depth': 11}. Best is trial 0 with value: -0.8132177681473456.\u001b[0m\n",
      "\u001b[32m[I 2022-10-07 19:50:59,366]\u001b[0m Trial 3 finished with value: -0.7977740569289865 and parameters: {'n_estimators': 485, 'learning_rate': 0.2556354888742321, 'num_leaves': 120, 'max_depth': 17}. Best is trial 0 with value: -0.8132177681473456.\u001b[0m\n",
      "\u001b[32m[I 2022-10-07 19:51:02,829]\u001b[0m Trial 4 finished with value: -0.814606520240323 and parameters: {'n_estimators': 787, 'learning_rate': 0.07804734062947023, 'num_leaves': 80, 'max_depth': 9}. Best is trial 4 with value: -0.814606520240323.\u001b[0m\n",
      "\u001b[32m[I 2022-10-07 19:51:06,471]\u001b[0m Trial 5 finished with value: -0.8020092583472864 and parameters: {'n_estimators': 1055, 'learning_rate': 0.16160801810312111, 'num_leaves': 40, 'max_depth': 7}. Best is trial 4 with value: -0.814606520240323.\u001b[0m\n",
      "\u001b[32m[I 2022-10-07 19:51:11,942]\u001b[0m Trial 6 finished with value: -0.8005811090318133 and parameters: {'n_estimators': 1410, 'learning_rate': 0.23632985415245614, 'num_leaves': 100, 'max_depth': 13}. Best is trial 4 with value: -0.814606520240323.\u001b[0m\n",
      "\u001b[32m[I 2022-10-07 19:51:16,440]\u001b[0m Trial 7 finished with value: -0.8047867625332413 and parameters: {'n_estimators': 1490, 'learning_rate': 0.2909149919123518, 'num_leaves': 120, 'max_depth': 8}. Best is trial 4 with value: -0.814606520240323.\u001b[0m\n",
      "\u001b[32m[I 2022-10-07 19:51:19,206]\u001b[0m Trial 8 finished with value: -0.8006008076430611 and parameters: {'n_estimators': 1309, 'learning_rate': 0.02338498644251423, 'num_leaves': 80, 'max_depth': 4}. Best is trial 4 with value: -0.814606520240323.\u001b[0m\n",
      "\u001b[32m[I 2022-10-07 19:51:24,376]\u001b[0m Trial 9 finished with value: -0.8005712597261894 and parameters: {'n_estimators': 1877, 'learning_rate': 0.2655981730953813, 'num_leaves': 60, 'max_depth': 17}. Best is trial 4 with value: -0.814606520240323.\u001b[0m\n",
      "\u001b[32m[I 2022-10-07 19:51:27,988]\u001b[0m Trial 10 finished with value: -0.803398010440264 and parameters: {'n_estimators': 876, 'learning_rate': 0.07921765274253602, 'num_leaves': 20, 'max_depth': 12}. Best is trial 4 with value: -0.814606520240323.\u001b[0m\n",
      "\u001b[32m[I 2022-10-07 19:51:30,829]\u001b[0m Trial 11 finished with value: -0.8230178272431793 and parameters: {'n_estimators': 1948, 'learning_rate': 0.01139419227681773, 'num_leaves': 60, 'max_depth': 3}. Best is trial 11 with value: -0.8230178272431793.\u001b[0m\n",
      "\u001b[32m[I 2022-10-07 19:51:32,151]\u001b[0m Trial 12 finished with value: -0.821619225844578 and parameters: {'n_estimators': 589, 'learning_rate': 0.08335460464741766, 'num_leaves': 60, 'max_depth': 3}. Best is trial 11 with value: -0.8230178272431793.\u001b[0m\n",
      "\u001b[32m[I 2022-10-07 19:51:34,625]\u001b[0m Trial 13 finished with value: -0.8076233625529401 and parameters: {'n_estimators': 1607, 'learning_rate': 0.07599311436419481, 'num_leaves': 40, 'max_depth': 3}. Best is trial 11 with value: -0.8230178272431793.\u001b[0m\n",
      "\u001b[32m[I 2022-10-07 19:51:35,450]\u001b[0m Trial 14 finished with value: -0.8216389244558258 and parameters: {'n_estimators': 212, 'learning_rate': 0.10881310774576881, 'num_leaves': 60, 'max_depth': 3}. Best is trial 11 with value: -0.8230178272431793.\u001b[0m\n",
      "\u001b[32m[I 2022-10-07 19:51:37,019]\u001b[0m Trial 15 finished with value: -0.8019600118191667 and parameters: {'n_estimators': 227, 'learning_rate': 0.20591210206208713, 'num_leaves': 40, 'max_depth': 20}. Best is trial 11 with value: -0.8230178272431793.\u001b[0m\n",
      "\u001b[32m[I 2022-10-07 19:51:42,261]\u001b[0m Trial 16 finished with value: -0.8048064611444893 and parameters: {'n_estimators': 1708, 'learning_rate': 0.12605930359290218, 'num_leaves': 20, 'max_depth': 5}. Best is trial 11 with value: -0.8230178272431793.\u001b[0m\n",
      "\u001b[32m[I 2022-10-07 19:51:47,271]\u001b[0m Trial 17 finished with value: -0.8131685216192258 and parameters: {'n_estimators': 1133, 'learning_rate': 0.046251492567973285, 'num_leaves': 60, 'max_depth': 10}. Best is trial 11 with value: -0.8230178272431793.\u001b[0m\n",
      "\u001b[32m[I 2022-10-07 19:51:51,781]\u001b[0m Trial 18 finished with value: -0.7977642076233626 and parameters: {'n_estimators': 1087, 'learning_rate': 0.12770078774060156, 'num_leaves': 100, 'max_depth': 14}. Best is trial 11 with value: -0.8230178272431793.\u001b[0m\n",
      "\u001b[32m[I 2022-10-07 19:51:52,920]\u001b[0m Trial 19 finished with value: -0.8160149709445484 and parameters: {'n_estimators': 232, 'learning_rate': 0.11566430489246876, 'num_leaves': 40, 'max_depth': 5}. Best is trial 11 with value: -0.8230178272431793.\u001b[0m\n",
      "\u001b[32m[I 2022-10-07 19:51:55,638]\u001b[0m Trial 20 finished with value: -0.8132079188417217 and parameters: {'n_estimators': 1723, 'learning_rate': 0.04194612421631194, 'num_leaves': 60, 'max_depth': 3}. Best is trial 11 with value: -0.8230178272431793.\u001b[0m\n",
      "\u001b[32m[I 2022-10-07 19:51:56,916]\u001b[0m Trial 21 finished with value: -0.8244262779474049 and parameters: {'n_estimators': 573, 'learning_rate': 0.1060423824295375, 'num_leaves': 60, 'max_depth': 3}. Best is trial 21 with value: -0.8244262779474049.\u001b[0m\n",
      "\u001b[32m[I 2022-10-07 19:51:58,373]\u001b[0m Trial 22 finished with value: -0.806175514626219 and parameters: {'n_estimators': 397, 'learning_rate': 0.18863485168732402, 'num_leaves': 60, 'max_depth': 5}. Best is trial 21 with value: -0.8244262779474049.\u001b[0m\n",
      "\u001b[32m[I 2022-10-07 19:51:59,670]\u001b[0m Trial 23 finished with value: -0.8160346695557962 and parameters: {'n_estimators': 626, 'learning_rate': 0.1084719253451343, 'num_leaves': 40, 'max_depth': 3}. Best is trial 21 with value: -0.8244262779474049.\u001b[0m\n",
      "\u001b[32m[I 2022-10-07 19:52:01,159]\u001b[0m Trial 24 finished with value: -0.8174529695656456 and parameters: {'n_estimators': 330, 'learning_rate': 0.04805844927282454, 'num_leaves': 100, 'max_depth': 6}. Best is trial 21 with value: -0.8244262779474049.\u001b[0m\n",
      "\u001b[32m[I 2022-10-07 19:52:03,420]\u001b[0m Trial 25 finished with value: -0.7991628090219638 and parameters: {'n_estimators': 497, 'learning_rate': 0.10417336343431237, 'num_leaves': 60, 'max_depth': 8}. Best is trial 21 with value: -0.8244262779474049.\u001b[0m\n",
      "\u001b[32m[I 2022-10-07 19:52:04,407]\u001b[0m Trial 26 finished with value: -0.8202403230572244 and parameters: {'n_estimators': 201, 'learning_rate': 0.14646384332910412, 'num_leaves': 80, 'max_depth': 4}. Best is trial 21 with value: -0.8244262779474049.\u001b[0m\n",
      "\u001b[32m[I 2022-10-07 19:52:07,168]\u001b[0m Trial 27 finished with value: -0.8104107160445189 and parameters: {'n_estimators': 832, 'learning_rate': 0.1923727881066639, 'num_leaves': 40, 'max_depth': 6}. Best is trial 21 with value: -0.8244262779474049.\u001b[0m\n",
      "\u001b[32m[I 2022-10-07 19:52:10,965]\u001b[0m Trial 28 finished with value: -0.8047867625332416 and parameters: {'n_estimators': 2000, 'learning_rate': 0.06382679765434457, 'num_leaves': 60, 'max_depth': 4}. Best is trial 21 with value: -0.8244262779474049.\u001b[0m\n",
      "\u001b[32m[I 2022-10-07 19:52:14,645]\u001b[0m Trial 29 finished with value: -0.8160248202501725 and parameters: {'n_estimators': 669, 'learning_rate': 0.02298551838753559, 'num_leaves': 20, 'max_depth': 7}. Best is trial 21 with value: -0.8244262779474049.\u001b[0m\n"
     ]
    },
    {
     "name": "stdout",
     "output_type": "stream",
     "text": [
      "=========================================================================================================================\n",
      "=========================================================================================================================\n"
     ]
    }
   ],
   "source": [
    "optimization_function = partial(optimization_step, name=\"lgbm\", train=train, y_train=y_train)\n",
    "\n",
    "study = optuna.create_study(direction=\"minimize\")\n",
    "study.optimize(optimization_function, n_trials=30)\n",
    "    \n",
    "print(\"=========================================================================================================================\")\n",
    "lgbm_params = study.best_params\n",
    "print(\"=========================================================================================================================\")"
   ]
  },
  {
   "cell_type": "code",
   "execution_count": 33,
   "id": "f02016d9",
   "metadata": {
    "execution": {
     "iopub.execute_input": "2022-10-07T19:52:14.705124Z",
     "iopub.status.busy": "2022-10-07T19:52:14.704282Z",
     "iopub.status.idle": "2022-10-07T19:52:31.115544Z",
     "shell.execute_reply": "2022-10-07T19:52:31.113654Z"
    },
    "papermill": {
     "duration": 16.439126,
     "end_time": "2022-10-07T19:52:31.121101",
     "exception": false,
     "start_time": "2022-10-07T19:52:14.681975",
     "status": "completed"
    },
    "tags": []
   },
   "outputs": [
    {
     "name": "stderr",
     "output_type": "stream",
     "text": [
      "\u001b[32m[I 2022-10-07 19:52:14,708]\u001b[0m A new study created in memory with name: no-name-ae341212-379e-4dad-957b-860c8a3d89ef\u001b[0m\n",
      "\u001b[32m[I 2022-10-07 19:52:16,997]\u001b[0m Trial 0 finished with value: -0.79068255687974 and parameters: {'tol': 0.0003005574934652094, 'C': 0.05464868817311245, 'solver': 'lbfgs'}. Best is trial 0 with value: -0.79068255687974.\u001b[0m\n",
      "\u001b[32m[I 2022-10-07 19:52:17,487]\u001b[0m Trial 1 finished with value: -0.80894316950655 and parameters: {'tol': 0.00031275185647577946, 'C': 0.3047084827485181, 'solver': 'lbfgs'}. Best is trial 1 with value: -0.80894316950655.\u001b[0m\n",
      "\u001b[32m[I 2022-10-07 19:52:17,764]\u001b[0m Trial 2 finished with value: -0.8005121638924455 and parameters: {'tol': 0.00021893568833406622, 'C': 0.22974051316011773, 'solver': 'liblinear'}. Best is trial 1 with value: -0.80894316950655.\u001b[0m\n",
      "\u001b[32m[I 2022-10-07 19:52:18,154]\u001b[0m Trial 3 finished with value: -0.7850684526740864 and parameters: {'tol': 0.00039592393810045117, 'C': 0.026557539364186956, 'solver': 'lbfgs'}. Best is trial 1 with value: -0.80894316950655.\u001b[0m\n",
      "\u001b[32m[I 2022-10-07 19:52:18,737]\u001b[0m Trial 4 finished with value: -0.8047079680882498 and parameters: {'tol': 0.0008086471291448318, 'C': 0.9062540326587664, 'solver': 'lbfgs'}. Best is trial 1 with value: -0.80894316950655.\u001b[0m\n",
      "\u001b[32m[I 2022-10-07 19:52:19,118]\u001b[0m Trial 5 finished with value: -0.7934797596769428 and parameters: {'tol': 0.0002856611987464734, 'C': 0.011193746630810806, 'solver': 'lbfgs'}. Best is trial 1 with value: -0.80894316950655.\u001b[0m\n",
      "\u001b[32m[I 2022-10-07 19:52:19,391]\u001b[0m Trial 6 finished with value: -0.79491775829804 and parameters: {'tol': 0.0005572581503312754, 'C': 0.03322214941689065, 'solver': 'liblinear'}. Best is trial 1 with value: -0.80894316950655.\u001b[0m\n",
      "\u001b[32m[I 2022-10-07 19:52:19,668]\u001b[0m Trial 7 finished with value: -0.7920910075839653 and parameters: {'tol': 0.00016646565784184407, 'C': 0.034684130844600265, 'solver': 'liblinear'}. Best is trial 1 with value: -0.80894316950655.\u001b[0m\n",
      "\u001b[32m[I 2022-10-07 19:52:19,946]\u001b[0m Trial 8 finished with value: -0.7963065103910175 and parameters: {'tol': 0.0005406211988635048, 'C': 0.10007003569607255, 'solver': 'liblinear'}. Best is trial 1 with value: -0.80894316950655.\u001b[0m\n",
      "\u001b[32m[I 2022-10-07 19:52:20,435]\u001b[0m Trial 9 finished with value: -0.7976854131783708 and parameters: {'tol': 0.0005926046710180364, 'C': 0.25203034690637455, 'solver': 'lbfgs'}. Best is trial 1 with value: -0.80894316950655.\u001b[0m\n",
      "\u001b[32m[I 2022-10-07 19:52:21,009]\u001b[0m Trial 10 finished with value: -0.8061065694868512 and parameters: {'tol': 3.7794816895762797e-06, 'C': 0.7820165409088682, 'solver': 'lbfgs'}. Best is trial 1 with value: -0.80894316950655.\u001b[0m\n",
      "\u001b[32m[I 2022-10-07 19:52:21,583]\u001b[0m Trial 11 finished with value: -0.8117403723037526 and parameters: {'tol': 2.2118465675056303e-05, 'C': 0.8608465031151038, 'solver': 'lbfgs'}. Best is trial 11 with value: -0.8117403723037526.\u001b[0m\n",
      "\u001b[32m[I 2022-10-07 19:52:22,111]\u001b[0m Trial 12 finished with value: -0.801900915985423 and parameters: {'tol': 3.0888965005122435e-05, 'C': 0.401615839793756, 'solver': 'lbfgs'}. Best is trial 11 with value: -0.8117403723037526.\u001b[0m\n",
      "\u001b[32m[I 2022-10-07 19:52:22,667]\u001b[0m Trial 13 finished with value: -0.8103417709051512 and parameters: {'tol': 0.00013047112387464435, 'C': 0.41932708395471224, 'solver': 'lbfgs'}. Best is trial 11 with value: -0.8117403723037526.\u001b[0m\n",
      "\u001b[32m[I 2022-10-07 19:52:23,219]\u001b[0m Trial 14 finished with value: -0.8061164187924751 and parameters: {'tol': 0.00012077122526811627, 'C': 0.5448598193880976, 'solver': 'lbfgs'}. Best is trial 11 with value: -0.8117403723037526.\u001b[0m\n",
      "\u001b[32m[I 2022-10-07 19:52:23,744]\u001b[0m Trial 15 finished with value: -0.8075150201910766 and parameters: {'tol': 0.0009399671406622348, 'C': 0.17716857453978815, 'solver': 'lbfgs'}. Best is trial 11 with value: -0.8117403723037526.\u001b[0m\n",
      "\u001b[32m[I 2022-10-07 19:52:24,258]\u001b[0m Trial 16 finished with value: -0.7962966610853934 and parameters: {'tol': 0.00010257866784874098, 'C': 0.12688213740164936, 'solver': 'lbfgs'}. Best is trial 11 with value: -0.8117403723037526.\u001b[0m\n",
      "\u001b[32m[I 2022-10-07 19:52:24,860]\u001b[0m Trial 17 finished with value: -0.8103319215995273 and parameters: {'tol': 0.0007222949130764618, 'C': 0.5530129351513496, 'solver': 'lbfgs'}. Best is trial 11 with value: -0.8117403723037526.\u001b[0m\n",
      "\u001b[32m[I 2022-10-07 19:52:25,156]\u001b[0m Trial 18 finished with value: -0.8075248694967005 and parameters: {'tol': 0.000421529432546712, 'C': 0.4847993431390748, 'solver': 'liblinear'}. Best is trial 11 with value: -0.8117403723037526.\u001b[0m\n",
      "\u001b[32m[I 2022-10-07 19:52:25,795]\u001b[0m Trial 19 finished with value: -0.8103417709051512 and parameters: {'tol': 8.669967789140932e-05, 'C': 0.9424568791705349, 'solver': 'lbfgs'}. Best is trial 11 with value: -0.8117403723037526.\u001b[0m\n",
      "\u001b[32m[I 2022-10-07 19:52:26,411]\u001b[0m Trial 20 finished with value: -0.8075248694967005 and parameters: {'tol': 0.00022109517449840743, 'C': 0.9378159754044421, 'solver': 'lbfgs'}. Best is trial 11 with value: -0.8117403723037526.\u001b[0m\n",
      "\u001b[32m[I 2022-10-07 19:52:27,024]\u001b[0m Trial 21 finished with value: -0.8075051708854526 and parameters: {'tol': 1.5041305436636873e-05, 'C': 0.7005940518926509, 'solver': 'lbfgs'}. Best is trial 11 with value: -0.8117403723037526.\u001b[0m\n",
      "\u001b[32m[I 2022-10-07 19:52:27,573]\u001b[0m Trial 22 finished with value: -0.8075445681079483 and parameters: {'tol': 0.00010839216971693448, 'C': 0.37097676311351035, 'solver': 'lbfgs'}. Best is trial 11 with value: -0.8117403723037526.\u001b[0m\n",
      "\u001b[32m[I 2022-10-07 19:52:28,194]\u001b[0m Trial 23 finished with value: -0.8061262680980992 and parameters: {'tol': 0.0001721920978068989, 'C': 0.9482321427716531, 'solver': 'lbfgs'}. Best is trial 11 with value: -0.8117403723037526.\u001b[0m\n",
      "\u001b[32m[I 2022-10-07 19:52:28,790]\u001b[0m Trial 24 finished with value: -0.8061164187924751 and parameters: {'tol': 7.398252056567269e-05, 'C': 0.6478137944454855, 'solver': 'lbfgs'}. Best is trial 11 with value: -0.8117403723037526.\u001b[0m\n",
      "\u001b[32m[I 2022-10-07 19:52:29,302]\u001b[0m Trial 25 finished with value: -0.8019107652910471 and parameters: {'tol': 0.0004229200303204277, 'C': 0.17833201228319356, 'solver': 'lbfgs'}. Best is trial 11 with value: -0.8117403723037526.\u001b[0m\n",
      "\u001b[32m[I 2022-10-07 19:52:29,602]\u001b[0m Trial 26 finished with value: -0.8089333202009257 and parameters: {'tol': 0.0002068228671458504, 'C': 0.3947356221440637, 'solver': 'liblinear'}. Best is trial 11 with value: -0.8117403723037526.\u001b[0m\n",
      "\u001b[32m[I 2022-10-07 19:52:30,169]\u001b[0m Trial 27 finished with value: -0.8061164187924751 and parameters: {'tol': 0.0003445795548812157, 'C': 0.6248396135783744, 'solver': 'lbfgs'}. Best is trial 11 with value: -0.8117403723037526.\u001b[0m\n",
      "\u001b[32m[I 2022-10-07 19:52:30,674]\u001b[0m Trial 28 finished with value: -0.797675563872747 and parameters: {'tol': 8.52580723548246e-05, 'C': 0.2819975006053844, 'solver': 'lbfgs'}. Best is trial 11 with value: -0.8117403723037526.\u001b[0m\n",
      "\u001b[32m[I 2022-10-07 19:52:31,097]\u001b[0m Trial 29 finished with value: -0.7920713089727174 and parameters: {'tol': 0.0002669931887376479, 'C': 0.05729013685068247, 'solver': 'lbfgs'}. Best is trial 11 with value: -0.8117403723037526.\u001b[0m\n"
     ]
    },
    {
     "name": "stdout",
     "output_type": "stream",
     "text": [
      "=========================================================================================================================\n",
      "=========================================================================================================================\n"
     ]
    }
   ],
   "source": [
    "optimization_function = partial(optimization_step, name=\"logit\", train=train, y_train=y_train)\n",
    "\n",
    "study = optuna.create_study(direction=\"minimize\")\n",
    "study.optimize(optimization_function, n_trials=30)\n",
    "    \n",
    "print(\"=========================================================================================================================\")\n",
    "logit_params = study.best_params\n",
    "print(\"=========================================================================================================================\")"
   ]
  },
  {
   "cell_type": "code",
   "execution_count": 34,
   "id": "be710c04",
   "metadata": {
    "execution": {
     "iopub.execute_input": "2022-10-07T19:52:31.200935Z",
     "iopub.status.busy": "2022-10-07T19:52:31.200513Z",
     "iopub.status.idle": "2022-10-07T19:52:33.216566Z",
     "shell.execute_reply": "2022-10-07T19:52:33.215309Z"
    },
    "papermill": {
     "duration": 2.044025,
     "end_time": "2022-10-07T19:52:33.219491",
     "exception": false,
     "start_time": "2022-10-07T19:52:31.175466",
     "status": "completed"
    },
    "tags": []
   },
   "outputs": [
    {
     "data": {
      "text/plain": [
       "Pipeline(steps=[('preprocessor',\n",
       "                 ColumnTransformer(transformers=[('num',\n",
       "                                                  Pipeline(steps=[('scaler',\n",
       "                                                                   RobustScaler())]),\n",
       "                                                  ['Age', 'Fare']),\n",
       "                                                 ('cat', OneHotEncoder(),\n",
       "                                                  ['Sex', 'SibSp', 'Parch',\n",
       "                                                   'Embarked', 'title',\n",
       "                                                   'Embarked_present',\n",
       "                                                   'Age_present']),\n",
       "                                                 ('ord', OrdinalEncoder(),\n",
       "                                                  ['Pclass'])])),\n",
       "                ('sampling', SMOTE()),\n",
       "                ('classifier',\n",
       "                 VotingClassifier(estimators=[('logit',\n",
       "                                               Logisti...\n",
       "                                                                  n_jobs=-1,\n",
       "                                                                  random_state=42,\n",
       "                                                                  tol=2.2118465675056303e-05)),\n",
       "                                              ('rf',\n",
       "                                               RandomForestClassifier(bootstrap='gini',\n",
       "                                                                      max_depth=14,\n",
       "                                                                      max_features=0.2831613081834047,\n",
       "                                                                      min_samples_leaf=4,\n",
       "                                                                      min_samples_split=4,\n",
       "                                                                      n_estimators=1131,\n",
       "                                                                      n_jobs=-1,\n",
       "                                                                      random_state=42)),\n",
       "                                              ('lgbm',\n",
       "                                               LGBMClassifier(learning_rate=0.1060423824295375,\n",
       "                                                              max_depth=3,\n",
       "                                                              n_estimators=573,\n",
       "                                                              num_leaves=60,\n",
       "                                                              random_state=42))]))])"
      ]
     },
     "execution_count": 34,
     "metadata": {},
     "output_type": "execute_result"
    }
   ],
   "source": [
    "from sklearn.ensemble import VotingClassifier\n",
    "\n",
    "estimators = [(\"logit\",LogisticRegression(**logit_params, random_state=seed, n_jobs=-1)),\n",
    "                      (\"rf\", RandomForestClassifier(**rf_params, random_state=seed, n_jobs=-1)),\n",
    "                      (\"lgbm\", LGBMClassifier(**lgbm_params, random_state=seed, n_jobs=-1))]\n",
    "\n",
    "voting = VotingClassifier(estimators=estimators)\n",
    "pipe = Pipeline(steps=[(\"preprocessor\", preprocessor), (\"sampling\", SMOTE()), (\"classifier\", voting)])\n",
    "\n",
    "pipe.fit(train, y_train)"
   ]
  },
  {
   "cell_type": "code",
   "execution_count": 35,
   "id": "0fdb66af",
   "metadata": {
    "execution": {
     "iopub.execute_input": "2022-10-07T19:52:33.267932Z",
     "iopub.status.busy": "2022-10-07T19:52:33.267485Z",
     "iopub.status.idle": "2022-10-07T19:52:33.812541Z",
     "shell.execute_reply": "2022-10-07T19:52:33.811059Z"
    },
    "papermill": {
     "duration": 0.572453,
     "end_time": "2022-10-07T19:52:33.815283",
     "exception": false,
     "start_time": "2022-10-07T19:52:33.242830",
     "status": "completed"
    },
    "tags": []
   },
   "outputs": [
    {
     "data": {
      "text/plain": [
       "0.8918539325842697"
      ]
     },
     "execution_count": 35,
     "metadata": {},
     "output_type": "execute_result"
    }
   ],
   "source": [
    "pipe.score(train, y_train)"
   ]
  },
  {
   "cell_type": "code",
   "execution_count": 36,
   "id": "31c15da5",
   "metadata": {
    "execution": {
     "iopub.execute_input": "2022-10-07T19:52:33.866343Z",
     "iopub.status.busy": "2022-10-07T19:52:33.865135Z",
     "iopub.status.idle": "2022-10-07T19:52:33.873444Z",
     "shell.execute_reply": "2022-10-07T19:52:33.872126Z"
    },
    "papermill": {
     "duration": 0.036682,
     "end_time": "2022-10-07T19:52:33.876113",
     "exception": false,
     "start_time": "2022-10-07T19:52:33.839431",
     "status": "completed"
    },
    "tags": []
   },
   "outputs": [
    {
     "data": {
      "text/plain": [
       "array(['Pclass', 'Sex', 'Age', 'SibSp', 'Parch', 'Fare', 'Embarked',\n",
       "       'title', 'Age_present', 'Embarked_present'], dtype=object)"
      ]
     },
     "execution_count": 36,
     "metadata": {},
     "output_type": "execute_result"
    }
   ],
   "source": [
    "test.columns.values"
   ]
  },
  {
   "cell_type": "code",
   "execution_count": 37,
   "id": "741ade2d",
   "metadata": {
    "execution": {
     "iopub.execute_input": "2022-10-07T19:52:33.926869Z",
     "iopub.status.busy": "2022-10-07T19:52:33.926431Z",
     "iopub.status.idle": "2022-10-07T19:52:34.251946Z",
     "shell.execute_reply": "2022-10-07T19:52:34.250641Z"
    },
    "papermill": {
     "duration": 0.354573,
     "end_time": "2022-10-07T19:52:34.254712",
     "exception": false,
     "start_time": "2022-10-07T19:52:33.900139",
     "status": "completed"
    },
    "tags": []
   },
   "outputs": [
    {
     "name": "stdout",
     "output_type": "stream",
     "text": [
      "Voting Classifier: Accuracy ->  0.84831 | F1 Score ->  0.80576\n"
     ]
    }
   ],
   "source": [
    "y_pred = pipe.predict(test)\n",
    "\n",
    "accuracy = accuracy_score(y_test, y_pred)\n",
    "f1 = f1_score(y_test, y_pred)\n",
    "\n",
    "print(f\"Voting Classifier: Accuracy -> {accuracy: .5f} | F1 Score -> {f1: .5f}\")\n"
   ]
  },
  {
   "cell_type": "code",
   "execution_count": 38,
   "id": "4c3ad6df",
   "metadata": {
    "execution": {
     "iopub.execute_input": "2022-10-07T19:52:34.306493Z",
     "iopub.status.busy": "2022-10-07T19:52:34.305298Z",
     "iopub.status.idle": "2022-10-07T19:52:34.313535Z",
     "shell.execute_reply": "2022-10-07T19:52:34.312190Z"
    },
    "papermill": {
     "duration": 0.036663,
     "end_time": "2022-10-07T19:52:34.316271",
     "exception": false,
     "start_time": "2022-10-07T19:52:34.279608",
     "status": "completed"
    },
    "tags": []
   },
   "outputs": [
    {
     "data": {
      "text/plain": [
       "array(['PassengerId', 'Pclass', 'Name', 'Sex', 'Age', 'SibSp', 'Parch',\n",
       "       'Ticket', 'Fare', 'Cabin', 'Embarked'], dtype=object)"
      ]
     },
     "execution_count": 38,
     "metadata": {},
     "output_type": "execute_result"
    }
   ],
   "source": [
    "titanic_test.columns.values"
   ]
  },
  {
   "cell_type": "code",
   "execution_count": 39,
   "id": "491ffda5",
   "metadata": {
    "execution": {
     "iopub.execute_input": "2022-10-07T19:52:34.366943Z",
     "iopub.status.busy": "2022-10-07T19:52:34.366233Z",
     "iopub.status.idle": "2022-10-07T19:52:34.376911Z",
     "shell.execute_reply": "2022-10-07T19:52:34.375742Z"
    },
    "papermill": {
     "duration": 0.03842,
     "end_time": "2022-10-07T19:52:34.379444",
     "exception": false,
     "start_time": "2022-10-07T19:52:34.341024",
     "status": "completed"
    },
    "tags": []
   },
   "outputs": [
    {
     "data": {
      "text/plain": [
       "PassengerId    False\n",
       "Pclass         False\n",
       "Name           False\n",
       "Sex            False\n",
       "Age             True\n",
       "SibSp          False\n",
       "Parch          False\n",
       "Ticket         False\n",
       "Fare            True\n",
       "Cabin           True\n",
       "Embarked       False\n",
       "dtype: bool"
      ]
     },
     "execution_count": 39,
     "metadata": {},
     "output_type": "execute_result"
    }
   ],
   "source": [
    "titanic_test.isna().any()"
   ]
  },
  {
   "cell_type": "code",
   "execution_count": 40,
   "id": "1cdf740b",
   "metadata": {
    "execution": {
     "iopub.execute_input": "2022-10-07T19:52:34.429630Z",
     "iopub.status.busy": "2022-10-07T19:52:34.429201Z",
     "iopub.status.idle": "2022-10-07T19:52:34.453528Z",
     "shell.execute_reply": "2022-10-07T19:52:34.452209Z"
    },
    "papermill": {
     "duration": 0.052636,
     "end_time": "2022-10-07T19:52:34.456002",
     "exception": false,
     "start_time": "2022-10-07T19:52:34.403366",
     "status": "completed"
    },
    "tags": []
   },
   "outputs": [
    {
     "data": {
      "text/html": [
       "<div>\n",
       "<style scoped>\n",
       "    .dataframe tbody tr th:only-of-type {\n",
       "        vertical-align: middle;\n",
       "    }\n",
       "\n",
       "    .dataframe tbody tr th {\n",
       "        vertical-align: top;\n",
       "    }\n",
       "\n",
       "    .dataframe thead th {\n",
       "        text-align: right;\n",
       "    }\n",
       "</style>\n",
       "<table border=\"1\" class=\"dataframe\">\n",
       "  <thead>\n",
       "    <tr style=\"text-align: right;\">\n",
       "      <th></th>\n",
       "      <th>PassengerId</th>\n",
       "      <th>Pclass</th>\n",
       "      <th>Name</th>\n",
       "      <th>Sex</th>\n",
       "      <th>Age</th>\n",
       "      <th>SibSp</th>\n",
       "      <th>Parch</th>\n",
       "      <th>Ticket</th>\n",
       "      <th>Fare</th>\n",
       "      <th>Cabin</th>\n",
       "      <th>Embarked</th>\n",
       "      <th>title</th>\n",
       "    </tr>\n",
       "  </thead>\n",
       "  <tbody>\n",
       "    <tr>\n",
       "      <th>0</th>\n",
       "      <td>892</td>\n",
       "      <td>3</td>\n",
       "      <td>Kelly, Mr. James</td>\n",
       "      <td>male</td>\n",
       "      <td>34.5</td>\n",
       "      <td>0</td>\n",
       "      <td>0</td>\n",
       "      <td>330911</td>\n",
       "      <td>7.8292</td>\n",
       "      <td>NaN</td>\n",
       "      <td>Q</td>\n",
       "      <td>Mr</td>\n",
       "    </tr>\n",
       "    <tr>\n",
       "      <th>1</th>\n",
       "      <td>893</td>\n",
       "      <td>3</td>\n",
       "      <td>Wilkes, Mrs. James (Ellen Needs)</td>\n",
       "      <td>female</td>\n",
       "      <td>47.0</td>\n",
       "      <td>1</td>\n",
       "      <td>0</td>\n",
       "      <td>363272</td>\n",
       "      <td>7.0000</td>\n",
       "      <td>NaN</td>\n",
       "      <td>S</td>\n",
       "      <td>Mrs</td>\n",
       "    </tr>\n",
       "    <tr>\n",
       "      <th>2</th>\n",
       "      <td>894</td>\n",
       "      <td>2</td>\n",
       "      <td>Myles, Mr. Thomas Francis</td>\n",
       "      <td>male</td>\n",
       "      <td>62.0</td>\n",
       "      <td>0</td>\n",
       "      <td>0</td>\n",
       "      <td>240276</td>\n",
       "      <td>9.6875</td>\n",
       "      <td>NaN</td>\n",
       "      <td>Q</td>\n",
       "      <td>Mr</td>\n",
       "    </tr>\n",
       "    <tr>\n",
       "      <th>3</th>\n",
       "      <td>895</td>\n",
       "      <td>3</td>\n",
       "      <td>Wirz, Mr. Albert</td>\n",
       "      <td>male</td>\n",
       "      <td>27.0</td>\n",
       "      <td>0</td>\n",
       "      <td>0</td>\n",
       "      <td>315154</td>\n",
       "      <td>8.6625</td>\n",
       "      <td>NaN</td>\n",
       "      <td>S</td>\n",
       "      <td>Mr</td>\n",
       "    </tr>\n",
       "    <tr>\n",
       "      <th>4</th>\n",
       "      <td>896</td>\n",
       "      <td>3</td>\n",
       "      <td>Hirvonen, Mrs. Alexander (Helga E Lindqvist)</td>\n",
       "      <td>female</td>\n",
       "      <td>22.0</td>\n",
       "      <td>1</td>\n",
       "      <td>1</td>\n",
       "      <td>3101298</td>\n",
       "      <td>12.2875</td>\n",
       "      <td>NaN</td>\n",
       "      <td>S</td>\n",
       "      <td>Mrs</td>\n",
       "    </tr>\n",
       "  </tbody>\n",
       "</table>\n",
       "</div>"
      ],
      "text/plain": [
       "   PassengerId  Pclass                                          Name     Sex  \\\n",
       "0          892       3                              Kelly, Mr. James    male   \n",
       "1          893       3              Wilkes, Mrs. James (Ellen Needs)  female   \n",
       "2          894       2                     Myles, Mr. Thomas Francis    male   \n",
       "3          895       3                              Wirz, Mr. Albert    male   \n",
       "4          896       3  Hirvonen, Mrs. Alexander (Helga E Lindqvist)  female   \n",
       "\n",
       "    Age  SibSp  Parch   Ticket     Fare Cabin Embarked title  \n",
       "0  34.5      0      0   330911   7.8292   NaN        Q    Mr  \n",
       "1  47.0      1      0   363272   7.0000   NaN        S   Mrs  \n",
       "2  62.0      0      0   240276   9.6875   NaN        Q    Mr  \n",
       "3  27.0      0      0   315154   8.6625   NaN        S    Mr  \n",
       "4  22.0      1      1  3101298  12.2875   NaN        S   Mrs  "
      ]
     },
     "execution_count": 40,
     "metadata": {},
     "output_type": "execute_result"
    }
   ],
   "source": [
    "titanic_test[\"title\"] = titanic_test['Name'].apply(courtesy_title)\n",
    "\n",
    "titanic_test['title'] = titanic_test['title'].replace('Mlle', 'Miss')\n",
    "titanic_test['title'] = titanic_test['title'].replace('Mme', 'Mrs')\n",
    "titanic_test['title'] = titanic_test['title'].replace('Ms', 'Miss')\n",
    "\n",
    "titanic_test['title'] = titanic_test['title'].apply(group_courtesy_title)\n",
    "\n",
    "titanic_test.head()"
   ]
  },
  {
   "cell_type": "code",
   "execution_count": 41,
   "id": "6b5cd044",
   "metadata": {
    "execution": {
     "iopub.execute_input": "2022-10-07T19:52:34.507789Z",
     "iopub.status.busy": "2022-10-07T19:52:34.507371Z",
     "iopub.status.idle": "2022-10-07T19:52:34.529197Z",
     "shell.execute_reply": "2022-10-07T19:52:34.527970Z"
    },
    "papermill": {
     "duration": 0.050678,
     "end_time": "2022-10-07T19:52:34.531812",
     "exception": false,
     "start_time": "2022-10-07T19:52:34.481134",
     "status": "completed"
    },
    "tags": []
   },
   "outputs": [
    {
     "data": {
      "text/html": [
       "<div>\n",
       "<style scoped>\n",
       "    .dataframe tbody tr th:only-of-type {\n",
       "        vertical-align: middle;\n",
       "    }\n",
       "\n",
       "    .dataframe tbody tr th {\n",
       "        vertical-align: top;\n",
       "    }\n",
       "\n",
       "    .dataframe thead th {\n",
       "        text-align: right;\n",
       "    }\n",
       "</style>\n",
       "<table border=\"1\" class=\"dataframe\">\n",
       "  <thead>\n",
       "    <tr style=\"text-align: right;\">\n",
       "      <th></th>\n",
       "      <th>PassengerId</th>\n",
       "      <th>Pclass</th>\n",
       "      <th>Name</th>\n",
       "      <th>Sex</th>\n",
       "      <th>Age</th>\n",
       "      <th>SibSp</th>\n",
       "      <th>Parch</th>\n",
       "      <th>Ticket</th>\n",
       "      <th>Fare</th>\n",
       "      <th>Cabin</th>\n",
       "      <th>Embarked</th>\n",
       "      <th>title</th>\n",
       "      <th>Age_present</th>\n",
       "      <th>Embarked_present</th>\n",
       "    </tr>\n",
       "  </thead>\n",
       "  <tbody>\n",
       "    <tr>\n",
       "      <th>0</th>\n",
       "      <td>892</td>\n",
       "      <td>3</td>\n",
       "      <td>Kelly, Mr. James</td>\n",
       "      <td>male</td>\n",
       "      <td>34.5</td>\n",
       "      <td>0</td>\n",
       "      <td>0</td>\n",
       "      <td>330911</td>\n",
       "      <td>7.8292</td>\n",
       "      <td>NaN</td>\n",
       "      <td>Q</td>\n",
       "      <td>Mr</td>\n",
       "      <td>1</td>\n",
       "      <td>1</td>\n",
       "    </tr>\n",
       "    <tr>\n",
       "      <th>1</th>\n",
       "      <td>893</td>\n",
       "      <td>3</td>\n",
       "      <td>Wilkes, Mrs. James (Ellen Needs)</td>\n",
       "      <td>female</td>\n",
       "      <td>47.0</td>\n",
       "      <td>1</td>\n",
       "      <td>0</td>\n",
       "      <td>363272</td>\n",
       "      <td>7.0000</td>\n",
       "      <td>NaN</td>\n",
       "      <td>S</td>\n",
       "      <td>Mrs</td>\n",
       "      <td>1</td>\n",
       "      <td>1</td>\n",
       "    </tr>\n",
       "    <tr>\n",
       "      <th>2</th>\n",
       "      <td>894</td>\n",
       "      <td>2</td>\n",
       "      <td>Myles, Mr. Thomas Francis</td>\n",
       "      <td>male</td>\n",
       "      <td>62.0</td>\n",
       "      <td>0</td>\n",
       "      <td>0</td>\n",
       "      <td>240276</td>\n",
       "      <td>9.6875</td>\n",
       "      <td>NaN</td>\n",
       "      <td>Q</td>\n",
       "      <td>Mr</td>\n",
       "      <td>1</td>\n",
       "      <td>1</td>\n",
       "    </tr>\n",
       "    <tr>\n",
       "      <th>3</th>\n",
       "      <td>895</td>\n",
       "      <td>3</td>\n",
       "      <td>Wirz, Mr. Albert</td>\n",
       "      <td>male</td>\n",
       "      <td>27.0</td>\n",
       "      <td>0</td>\n",
       "      <td>0</td>\n",
       "      <td>315154</td>\n",
       "      <td>8.6625</td>\n",
       "      <td>NaN</td>\n",
       "      <td>S</td>\n",
       "      <td>Mr</td>\n",
       "      <td>1</td>\n",
       "      <td>1</td>\n",
       "    </tr>\n",
       "    <tr>\n",
       "      <th>4</th>\n",
       "      <td>896</td>\n",
       "      <td>3</td>\n",
       "      <td>Hirvonen, Mrs. Alexander (Helga E Lindqvist)</td>\n",
       "      <td>female</td>\n",
       "      <td>22.0</td>\n",
       "      <td>1</td>\n",
       "      <td>1</td>\n",
       "      <td>3101298</td>\n",
       "      <td>12.2875</td>\n",
       "      <td>NaN</td>\n",
       "      <td>S</td>\n",
       "      <td>Mrs</td>\n",
       "      <td>1</td>\n",
       "      <td>1</td>\n",
       "    </tr>\n",
       "  </tbody>\n",
       "</table>\n",
       "</div>"
      ],
      "text/plain": [
       "   PassengerId  Pclass                                          Name     Sex  \\\n",
       "0          892       3                              Kelly, Mr. James    male   \n",
       "1          893       3              Wilkes, Mrs. James (Ellen Needs)  female   \n",
       "2          894       2                     Myles, Mr. Thomas Francis    male   \n",
       "3          895       3                              Wirz, Mr. Albert    male   \n",
       "4          896       3  Hirvonen, Mrs. Alexander (Helga E Lindqvist)  female   \n",
       "\n",
       "    Age  SibSp  Parch   Ticket     Fare Cabin Embarked title  Age_present  \\\n",
       "0  34.5      0      0   330911   7.8292   NaN        Q    Mr            1   \n",
       "1  47.0      1      0   363272   7.0000   NaN        S   Mrs            1   \n",
       "2  62.0      0      0   240276   9.6875   NaN        Q    Mr            1   \n",
       "3  27.0      0      0   315154   8.6625   NaN        S    Mr            1   \n",
       "4  22.0      1      1  3101298  12.2875   NaN        S   Mrs            1   \n",
       "\n",
       "   Embarked_present  \n",
       "0                 1  \n",
       "1                 1  \n",
       "2                 1  \n",
       "3                 1  \n",
       "4                 1  "
      ]
     },
     "execution_count": 41,
     "metadata": {},
     "output_type": "execute_result"
    }
   ],
   "source": [
    "columns = [\"Age\", \"Embarked\"]\n",
    "for column in columns:\n",
    "    add_column_present(titanic_test, column)\n",
    "\n",
    "titanic_test.head()"
   ]
  },
  {
   "cell_type": "code",
   "execution_count": 42,
   "id": "3c1b7d98",
   "metadata": {
    "execution": {
     "iopub.execute_input": "2022-10-07T19:52:34.582849Z",
     "iopub.status.busy": "2022-10-07T19:52:34.582436Z",
     "iopub.status.idle": "2022-10-07T19:52:34.602374Z",
     "shell.execute_reply": "2022-10-07T19:52:34.600982Z"
    },
    "papermill": {
     "duration": 0.048398,
     "end_time": "2022-10-07T19:52:34.605067",
     "exception": false,
     "start_time": "2022-10-07T19:52:34.556669",
     "status": "completed"
    },
    "tags": []
   },
   "outputs": [
    {
     "data": {
      "text/html": [
       "<div>\n",
       "<style scoped>\n",
       "    .dataframe tbody tr th:only-of-type {\n",
       "        vertical-align: middle;\n",
       "    }\n",
       "\n",
       "    .dataframe tbody tr th {\n",
       "        vertical-align: top;\n",
       "    }\n",
       "\n",
       "    .dataframe thead th {\n",
       "        text-align: right;\n",
       "    }\n",
       "</style>\n",
       "<table border=\"1\" class=\"dataframe\">\n",
       "  <thead>\n",
       "    <tr style=\"text-align: right;\">\n",
       "      <th></th>\n",
       "      <th>Pclass</th>\n",
       "      <th>Sex</th>\n",
       "      <th>Age</th>\n",
       "      <th>SibSp</th>\n",
       "      <th>Parch</th>\n",
       "      <th>Fare</th>\n",
       "      <th>Embarked</th>\n",
       "      <th>title</th>\n",
       "      <th>Age_present</th>\n",
       "      <th>Embarked_present</th>\n",
       "    </tr>\n",
       "  </thead>\n",
       "  <tbody>\n",
       "    <tr>\n",
       "      <th>0</th>\n",
       "      <td>3</td>\n",
       "      <td>male</td>\n",
       "      <td>34.5</td>\n",
       "      <td>0</td>\n",
       "      <td>0</td>\n",
       "      <td>7.8292</td>\n",
       "      <td>Q</td>\n",
       "      <td>Mr</td>\n",
       "      <td>1</td>\n",
       "      <td>1</td>\n",
       "    </tr>\n",
       "    <tr>\n",
       "      <th>1</th>\n",
       "      <td>3</td>\n",
       "      <td>female</td>\n",
       "      <td>47.0</td>\n",
       "      <td>1</td>\n",
       "      <td>0</td>\n",
       "      <td>7.0000</td>\n",
       "      <td>S</td>\n",
       "      <td>Mrs</td>\n",
       "      <td>1</td>\n",
       "      <td>1</td>\n",
       "    </tr>\n",
       "    <tr>\n",
       "      <th>2</th>\n",
       "      <td>2</td>\n",
       "      <td>male</td>\n",
       "      <td>62.0</td>\n",
       "      <td>0</td>\n",
       "      <td>0</td>\n",
       "      <td>9.6875</td>\n",
       "      <td>Q</td>\n",
       "      <td>Mr</td>\n",
       "      <td>1</td>\n",
       "      <td>1</td>\n",
       "    </tr>\n",
       "    <tr>\n",
       "      <th>3</th>\n",
       "      <td>3</td>\n",
       "      <td>male</td>\n",
       "      <td>27.0</td>\n",
       "      <td>0</td>\n",
       "      <td>0</td>\n",
       "      <td>8.6625</td>\n",
       "      <td>S</td>\n",
       "      <td>Mr</td>\n",
       "      <td>1</td>\n",
       "      <td>1</td>\n",
       "    </tr>\n",
       "    <tr>\n",
       "      <th>4</th>\n",
       "      <td>3</td>\n",
       "      <td>female</td>\n",
       "      <td>22.0</td>\n",
       "      <td>1</td>\n",
       "      <td>1</td>\n",
       "      <td>12.2875</td>\n",
       "      <td>S</td>\n",
       "      <td>Mrs</td>\n",
       "      <td>1</td>\n",
       "      <td>1</td>\n",
       "    </tr>\n",
       "  </tbody>\n",
       "</table>\n",
       "</div>"
      ],
      "text/plain": [
       "   Pclass     Sex   Age  SibSp  Parch     Fare Embarked title  Age_present  \\\n",
       "0       3    male  34.5      0      0   7.8292        Q    Mr            1   \n",
       "1       3  female  47.0      1      0   7.0000        S   Mrs            1   \n",
       "2       2    male  62.0      0      0   9.6875        Q    Mr            1   \n",
       "3       3    male  27.0      0      0   8.6625        S    Mr            1   \n",
       "4       3  female  22.0      1      1  12.2875        S   Mrs            1   \n",
       "\n",
       "   Embarked_present  \n",
       "0                 1  \n",
       "1                 1  \n",
       "2                 1  \n",
       "3                 1  \n",
       "4                 1  "
      ]
     },
     "execution_count": 42,
     "metadata": {},
     "output_type": "execute_result"
    }
   ],
   "source": [
    "titanic_test = titanic_test.drop([\"PassengerId\", \"Name\", \"Ticket\", \"Cabin\"], axis=1)\n",
    "titanic_test.head()"
   ]
  },
  {
   "cell_type": "code",
   "execution_count": 43,
   "id": "04d55cf9",
   "metadata": {
    "execution": {
     "iopub.execute_input": "2022-10-07T19:52:34.656485Z",
     "iopub.status.busy": "2022-10-07T19:52:34.655493Z",
     "iopub.status.idle": "2022-10-07T19:52:34.665293Z",
     "shell.execute_reply": "2022-10-07T19:52:34.664423Z"
    },
    "papermill": {
     "duration": 0.037842,
     "end_time": "2022-10-07T19:52:34.667358",
     "exception": false,
     "start_time": "2022-10-07T19:52:34.629516",
     "status": "completed"
    },
    "tags": []
   },
   "outputs": [
    {
     "data": {
      "text/plain": [
       "Pclass              False\n",
       "Sex                 False\n",
       "Age                  True\n",
       "SibSp               False\n",
       "Parch               False\n",
       "Fare                 True\n",
       "Embarked            False\n",
       "title               False\n",
       "Age_present         False\n",
       "Embarked_present    False\n",
       "dtype: bool"
      ]
     },
     "execution_count": 43,
     "metadata": {},
     "output_type": "execute_result"
    }
   ],
   "source": [
    "titanic_test.isna().any()"
   ]
  },
  {
   "cell_type": "code",
   "execution_count": 44,
   "id": "2a386be2",
   "metadata": {
    "execution": {
     "iopub.execute_input": "2022-10-07T19:52:34.718868Z",
     "iopub.status.busy": "2022-10-07T19:52:34.718448Z",
     "iopub.status.idle": "2022-10-07T19:52:34.729210Z",
     "shell.execute_reply": "2022-10-07T19:52:34.727941Z"
    },
    "papermill": {
     "duration": 0.040282,
     "end_time": "2022-10-07T19:52:34.732340",
     "exception": false,
     "start_time": "2022-10-07T19:52:34.692058",
     "status": "completed"
    },
    "tags": []
   },
   "outputs": [
    {
     "name": "stdout",
     "output_type": "stream",
     "text": [
      "Median fare paid per class. 1st class -> 60.287499999999994, 2nd class -> 14.25, 3rd class -> 8.05\n"
     ]
    }
   ],
   "source": [
    "first_class_median_fare = titanic.loc[titanic['Pclass'] == 1][\"Fare\"].median()\n",
    "second_class_median_fare = titanic.loc[titanic['Pclass'] == 2][\"Fare\"].median()\n",
    "third_class_median_fare = titanic.loc[titanic['Pclass'] == 3][\"Fare\"].median()\n",
    "\n",
    "print(f\"Median fare paid per class. 1st class -> {first_class_median_fare}, 2nd class -> {second_class_median_fare}, 3rd class -> {third_class_median_fare}\")"
   ]
  },
  {
   "cell_type": "code",
   "execution_count": 45,
   "id": "2e0ae64f",
   "metadata": {
    "execution": {
     "iopub.execute_input": "2022-10-07T19:52:34.784879Z",
     "iopub.status.busy": "2022-10-07T19:52:34.784452Z",
     "iopub.status.idle": "2022-10-07T19:52:34.810358Z",
     "shell.execute_reply": "2022-10-07T19:52:34.808963Z"
    },
    "papermill": {
     "duration": 0.054824,
     "end_time": "2022-10-07T19:52:34.812837",
     "exception": false,
     "start_time": "2022-10-07T19:52:34.758013",
     "status": "completed"
    },
    "tags": []
   },
   "outputs": [
    {
     "data": {
      "text/html": [
       "<div>\n",
       "<style scoped>\n",
       "    .dataframe tbody tr th:only-of-type {\n",
       "        vertical-align: middle;\n",
       "    }\n",
       "\n",
       "    .dataframe tbody tr th {\n",
       "        vertical-align: top;\n",
       "    }\n",
       "\n",
       "    .dataframe thead th {\n",
       "        text-align: right;\n",
       "    }\n",
       "</style>\n",
       "<table border=\"1\" class=\"dataframe\">\n",
       "  <thead>\n",
       "    <tr style=\"text-align: right;\">\n",
       "      <th></th>\n",
       "      <th>Pclass</th>\n",
       "      <th>Sex</th>\n",
       "      <th>Age</th>\n",
       "      <th>SibSp</th>\n",
       "      <th>Parch</th>\n",
       "      <th>Fare</th>\n",
       "      <th>Embarked</th>\n",
       "      <th>title</th>\n",
       "      <th>Age_present</th>\n",
       "      <th>Embarked_present</th>\n",
       "    </tr>\n",
       "  </thead>\n",
       "  <tbody>\n",
       "    <tr>\n",
       "      <th>0</th>\n",
       "      <td>3</td>\n",
       "      <td>male</td>\n",
       "      <td>34.5</td>\n",
       "      <td>0</td>\n",
       "      <td>0</td>\n",
       "      <td>7.8292</td>\n",
       "      <td>Q</td>\n",
       "      <td>Mr</td>\n",
       "      <td>1</td>\n",
       "      <td>1</td>\n",
       "    </tr>\n",
       "    <tr>\n",
       "      <th>1</th>\n",
       "      <td>3</td>\n",
       "      <td>female</td>\n",
       "      <td>47.0</td>\n",
       "      <td>1</td>\n",
       "      <td>0</td>\n",
       "      <td>7.0000</td>\n",
       "      <td>S</td>\n",
       "      <td>Mrs</td>\n",
       "      <td>1</td>\n",
       "      <td>1</td>\n",
       "    </tr>\n",
       "    <tr>\n",
       "      <th>2</th>\n",
       "      <td>2</td>\n",
       "      <td>male</td>\n",
       "      <td>62.0</td>\n",
       "      <td>0</td>\n",
       "      <td>0</td>\n",
       "      <td>9.6875</td>\n",
       "      <td>Q</td>\n",
       "      <td>Mr</td>\n",
       "      <td>1</td>\n",
       "      <td>1</td>\n",
       "    </tr>\n",
       "    <tr>\n",
       "      <th>3</th>\n",
       "      <td>3</td>\n",
       "      <td>male</td>\n",
       "      <td>27.0</td>\n",
       "      <td>0</td>\n",
       "      <td>0</td>\n",
       "      <td>8.6625</td>\n",
       "      <td>S</td>\n",
       "      <td>Mr</td>\n",
       "      <td>1</td>\n",
       "      <td>1</td>\n",
       "    </tr>\n",
       "    <tr>\n",
       "      <th>4</th>\n",
       "      <td>3</td>\n",
       "      <td>female</td>\n",
       "      <td>22.0</td>\n",
       "      <td>1</td>\n",
       "      <td>1</td>\n",
       "      <td>12.2875</td>\n",
       "      <td>S</td>\n",
       "      <td>Mrs</td>\n",
       "      <td>1</td>\n",
       "      <td>1</td>\n",
       "    </tr>\n",
       "  </tbody>\n",
       "</table>\n",
       "</div>"
      ],
      "text/plain": [
       "   Pclass     Sex   Age  SibSp  Parch     Fare Embarked title  Age_present  \\\n",
       "0       3    male  34.5      0      0   7.8292        Q    Mr            1   \n",
       "1       3  female  47.0      1      0   7.0000        S   Mrs            1   \n",
       "2       2    male  62.0      0      0   9.6875        Q    Mr            1   \n",
       "3       3    male  27.0      0      0   8.6625        S    Mr            1   \n",
       "4       3  female  22.0      1      1  12.2875        S   Mrs            1   \n",
       "\n",
       "   Embarked_present  \n",
       "0                 1  \n",
       "1                 1  \n",
       "2                 1  \n",
       "3                 1  \n",
       "4                 1  "
      ]
     },
     "execution_count": 45,
     "metadata": {},
     "output_type": "execute_result"
    }
   ],
   "source": [
    "titanic_test.loc[(titanic_test['Age'].isnull()) & (titanic_test[\"Sex\"].str.lower() == 'female'), 'Age'] = median_age_female\n",
    "titanic_test.loc[(titanic_test['Age'].isnull()) & (titanic_test[\"title\"].str.lower() == 'master'), 'Age'] = median_boy_age\n",
    "titanic_test.loc[(titanic_test['Age'].isnull()) & (titanic_test[\"title\"].str.lower() != 'master') & (titanic_test.Sex.str.lower() == \"male\"), 'Age'] = median_men_age\n",
    "\n",
    "titanic_test.head()"
   ]
  },
  {
   "cell_type": "code",
   "execution_count": 46,
   "id": "2597838a",
   "metadata": {
    "execution": {
     "iopub.execute_input": "2022-10-07T19:52:34.865008Z",
     "iopub.status.busy": "2022-10-07T19:52:34.864528Z",
     "iopub.status.idle": "2022-10-07T19:52:34.891728Z",
     "shell.execute_reply": "2022-10-07T19:52:34.890553Z"
    },
    "papermill": {
     "duration": 0.056623,
     "end_time": "2022-10-07T19:52:34.894303",
     "exception": false,
     "start_time": "2022-10-07T19:52:34.837680",
     "status": "completed"
    },
    "tags": []
   },
   "outputs": [
    {
     "data": {
      "text/html": [
       "<div>\n",
       "<style scoped>\n",
       "    .dataframe tbody tr th:only-of-type {\n",
       "        vertical-align: middle;\n",
       "    }\n",
       "\n",
       "    .dataframe tbody tr th {\n",
       "        vertical-align: top;\n",
       "    }\n",
       "\n",
       "    .dataframe thead th {\n",
       "        text-align: right;\n",
       "    }\n",
       "</style>\n",
       "<table border=\"1\" class=\"dataframe\">\n",
       "  <thead>\n",
       "    <tr style=\"text-align: right;\">\n",
       "      <th></th>\n",
       "      <th>Pclass</th>\n",
       "      <th>Sex</th>\n",
       "      <th>Age</th>\n",
       "      <th>SibSp</th>\n",
       "      <th>Parch</th>\n",
       "      <th>Fare</th>\n",
       "      <th>Embarked</th>\n",
       "      <th>title</th>\n",
       "      <th>Age_present</th>\n",
       "      <th>Embarked_present</th>\n",
       "    </tr>\n",
       "  </thead>\n",
       "  <tbody>\n",
       "    <tr>\n",
       "      <th>0</th>\n",
       "      <td>3</td>\n",
       "      <td>male</td>\n",
       "      <td>34.5</td>\n",
       "      <td>0</td>\n",
       "      <td>0</td>\n",
       "      <td>7.8292</td>\n",
       "      <td>Q</td>\n",
       "      <td>Mr</td>\n",
       "      <td>1</td>\n",
       "      <td>1</td>\n",
       "    </tr>\n",
       "    <tr>\n",
       "      <th>1</th>\n",
       "      <td>3</td>\n",
       "      <td>female</td>\n",
       "      <td>47.0</td>\n",
       "      <td>1</td>\n",
       "      <td>0</td>\n",
       "      <td>7.0000</td>\n",
       "      <td>S</td>\n",
       "      <td>Mrs</td>\n",
       "      <td>1</td>\n",
       "      <td>1</td>\n",
       "    </tr>\n",
       "    <tr>\n",
       "      <th>2</th>\n",
       "      <td>2</td>\n",
       "      <td>male</td>\n",
       "      <td>62.0</td>\n",
       "      <td>0</td>\n",
       "      <td>0</td>\n",
       "      <td>9.6875</td>\n",
       "      <td>Q</td>\n",
       "      <td>Mr</td>\n",
       "      <td>1</td>\n",
       "      <td>1</td>\n",
       "    </tr>\n",
       "    <tr>\n",
       "      <th>3</th>\n",
       "      <td>3</td>\n",
       "      <td>male</td>\n",
       "      <td>27.0</td>\n",
       "      <td>0</td>\n",
       "      <td>0</td>\n",
       "      <td>8.6625</td>\n",
       "      <td>S</td>\n",
       "      <td>Mr</td>\n",
       "      <td>1</td>\n",
       "      <td>1</td>\n",
       "    </tr>\n",
       "    <tr>\n",
       "      <th>4</th>\n",
       "      <td>3</td>\n",
       "      <td>female</td>\n",
       "      <td>22.0</td>\n",
       "      <td>1</td>\n",
       "      <td>1</td>\n",
       "      <td>12.2875</td>\n",
       "      <td>S</td>\n",
       "      <td>Mrs</td>\n",
       "      <td>1</td>\n",
       "      <td>1</td>\n",
       "    </tr>\n",
       "  </tbody>\n",
       "</table>\n",
       "</div>"
      ],
      "text/plain": [
       "   Pclass     Sex   Age  SibSp  Parch     Fare Embarked title  Age_present  \\\n",
       "0       3    male  34.5      0      0   7.8292        Q    Mr            1   \n",
       "1       3  female  47.0      1      0   7.0000        S   Mrs            1   \n",
       "2       2    male  62.0      0      0   9.6875        Q    Mr            1   \n",
       "3       3    male  27.0      0      0   8.6625        S    Mr            1   \n",
       "4       3  female  22.0      1      1  12.2875        S   Mrs            1   \n",
       "\n",
       "   Embarked_present  \n",
       "0                 1  \n",
       "1                 1  \n",
       "2                 1  \n",
       "3                 1  \n",
       "4                 1  "
      ]
     },
     "execution_count": 46,
     "metadata": {},
     "output_type": "execute_result"
    }
   ],
   "source": [
    "first_class_median = titanic.loc[titanic.Pclass == 1][\"Fare\"].median()\n",
    "second_class_median = titanic.loc[titanic.Pclass == 2][\"Fare\"].median()\n",
    "third_class_median = titanic.loc[titanic.Pclass == 3][\"Fare\"].median()\n",
    "\n",
    "titanic_test.loc[(titanic_test['Fare'].isnull()) & (titanic_test[\"Pclass\"] == 1), 'Fare'] = first_class_median\n",
    "titanic_test.loc[(titanic_test['Fare'].isnull()) & (titanic_test[\"Pclass\"] == 2), 'Fare'] = second_class_median\n",
    "titanic_test.loc[(titanic_test['Fare'].isnull()) & (titanic_test[\"Pclass\"] == 3), 'Fare'] = third_class_median\n",
    "\n",
    "titanic_test.head()"
   ]
  },
  {
   "cell_type": "code",
   "execution_count": 47,
   "id": "f68e18c7",
   "metadata": {
    "execution": {
     "iopub.execute_input": "2022-10-07T19:52:34.947630Z",
     "iopub.status.busy": "2022-10-07T19:52:34.946575Z",
     "iopub.status.idle": "2022-10-07T19:52:34.957324Z",
     "shell.execute_reply": "2022-10-07T19:52:34.956089Z"
    },
    "papermill": {
     "duration": 0.039692,
     "end_time": "2022-10-07T19:52:34.959798",
     "exception": false,
     "start_time": "2022-10-07T19:52:34.920106",
     "status": "completed"
    },
    "tags": []
   },
   "outputs": [
    {
     "data": {
      "text/plain": [
       "Pclass              False\n",
       "Sex                 False\n",
       "Age                 False\n",
       "SibSp               False\n",
       "Parch               False\n",
       "Fare                False\n",
       "Embarked            False\n",
       "title               False\n",
       "Age_present         False\n",
       "Embarked_present    False\n",
       "dtype: bool"
      ]
     },
     "execution_count": 47,
     "metadata": {},
     "output_type": "execute_result"
    }
   ],
   "source": [
    "titanic_test.isna().any()"
   ]
  },
  {
   "cell_type": "code",
   "execution_count": 48,
   "id": "3a378e07",
   "metadata": {
    "execution": {
     "iopub.execute_input": "2022-10-07T19:52:35.013478Z",
     "iopub.status.busy": "2022-10-07T19:52:35.013078Z",
     "iopub.status.idle": "2022-10-07T19:52:35.019842Z",
     "shell.execute_reply": "2022-10-07T19:52:35.018943Z"
    },
    "papermill": {
     "duration": 0.037018,
     "end_time": "2022-10-07T19:52:35.022245",
     "exception": false,
     "start_time": "2022-10-07T19:52:34.985227",
     "status": "completed"
    },
    "tags": []
   },
   "outputs": [],
   "source": [
    "titanic_test[\"Parch\"] = titanic_test['Parch'].replace(9, 6)"
   ]
  },
  {
   "cell_type": "code",
   "execution_count": 49,
   "id": "79b2b758",
   "metadata": {
    "execution": {
     "iopub.execute_input": "2022-10-07T19:52:35.076276Z",
     "iopub.status.busy": "2022-10-07T19:52:35.075844Z",
     "iopub.status.idle": "2022-10-07T19:52:35.087458Z",
     "shell.execute_reply": "2022-10-07T19:52:35.086562Z"
    },
    "papermill": {
     "duration": 0.041612,
     "end_time": "2022-10-07T19:52:35.089934",
     "exception": false,
     "start_time": "2022-10-07T19:52:35.048322",
     "status": "completed"
    },
    "tags": []
   },
   "outputs": [],
   "source": [
    "titanic_copy = get_data(\"train.csv\")"
   ]
  },
  {
   "cell_type": "code",
   "execution_count": 50,
   "id": "a7a48d5e",
   "metadata": {
    "execution": {
     "iopub.execute_input": "2022-10-07T19:52:35.143784Z",
     "iopub.status.busy": "2022-10-07T19:52:35.143149Z",
     "iopub.status.idle": "2022-10-07T19:52:35.165846Z",
     "shell.execute_reply": "2022-10-07T19:52:35.164689Z"
    },
    "papermill": {
     "duration": 0.052899,
     "end_time": "2022-10-07T19:52:35.168411",
     "exception": false,
     "start_time": "2022-10-07T19:52:35.115512",
     "status": "completed"
    },
    "tags": []
   },
   "outputs": [
    {
     "data": {
      "text/html": [
       "<div>\n",
       "<style scoped>\n",
       "    .dataframe tbody tr th:only-of-type {\n",
       "        vertical-align: middle;\n",
       "    }\n",
       "\n",
       "    .dataframe tbody tr th {\n",
       "        vertical-align: top;\n",
       "    }\n",
       "\n",
       "    .dataframe thead th {\n",
       "        text-align: right;\n",
       "    }\n",
       "</style>\n",
       "<table border=\"1\" class=\"dataframe\">\n",
       "  <thead>\n",
       "    <tr style=\"text-align: right;\">\n",
       "      <th></th>\n",
       "      <th>PassengerId</th>\n",
       "      <th>Survived</th>\n",
       "      <th>Pclass</th>\n",
       "      <th>Name</th>\n",
       "      <th>Sex</th>\n",
       "      <th>Age</th>\n",
       "      <th>SibSp</th>\n",
       "      <th>Parch</th>\n",
       "      <th>Ticket</th>\n",
       "      <th>Fare</th>\n",
       "      <th>Cabin</th>\n",
       "      <th>Embarked</th>\n",
       "      <th>title</th>\n",
       "    </tr>\n",
       "  </thead>\n",
       "  <tbody>\n",
       "    <tr>\n",
       "      <th>0</th>\n",
       "      <td>1</td>\n",
       "      <td>0</td>\n",
       "      <td>3</td>\n",
       "      <td>Braund, Mr. Owen Harris</td>\n",
       "      <td>male</td>\n",
       "      <td>22.0</td>\n",
       "      <td>1</td>\n",
       "      <td>0</td>\n",
       "      <td>A/5 21171</td>\n",
       "      <td>7.2500</td>\n",
       "      <td>NaN</td>\n",
       "      <td>S</td>\n",
       "      <td>Mr</td>\n",
       "    </tr>\n",
       "    <tr>\n",
       "      <th>1</th>\n",
       "      <td>2</td>\n",
       "      <td>1</td>\n",
       "      <td>1</td>\n",
       "      <td>Cumings, Mrs. John Bradley (Florence Briggs Th...</td>\n",
       "      <td>female</td>\n",
       "      <td>38.0</td>\n",
       "      <td>1</td>\n",
       "      <td>0</td>\n",
       "      <td>PC 17599</td>\n",
       "      <td>71.2833</td>\n",
       "      <td>C85</td>\n",
       "      <td>C</td>\n",
       "      <td>Mrs</td>\n",
       "    </tr>\n",
       "    <tr>\n",
       "      <th>2</th>\n",
       "      <td>3</td>\n",
       "      <td>1</td>\n",
       "      <td>3</td>\n",
       "      <td>Heikkinen, Miss. Laina</td>\n",
       "      <td>female</td>\n",
       "      <td>26.0</td>\n",
       "      <td>0</td>\n",
       "      <td>0</td>\n",
       "      <td>STON/O2. 3101282</td>\n",
       "      <td>7.9250</td>\n",
       "      <td>NaN</td>\n",
       "      <td>S</td>\n",
       "      <td>Miss</td>\n",
       "    </tr>\n",
       "    <tr>\n",
       "      <th>3</th>\n",
       "      <td>4</td>\n",
       "      <td>1</td>\n",
       "      <td>1</td>\n",
       "      <td>Futrelle, Mrs. Jacques Heath (Lily May Peel)</td>\n",
       "      <td>female</td>\n",
       "      <td>35.0</td>\n",
       "      <td>1</td>\n",
       "      <td>0</td>\n",
       "      <td>113803</td>\n",
       "      <td>53.1000</td>\n",
       "      <td>C123</td>\n",
       "      <td>S</td>\n",
       "      <td>Mrs</td>\n",
       "    </tr>\n",
       "    <tr>\n",
       "      <th>4</th>\n",
       "      <td>5</td>\n",
       "      <td>0</td>\n",
       "      <td>3</td>\n",
       "      <td>Allen, Mr. William Henry</td>\n",
       "      <td>male</td>\n",
       "      <td>35.0</td>\n",
       "      <td>0</td>\n",
       "      <td>0</td>\n",
       "      <td>373450</td>\n",
       "      <td>8.0500</td>\n",
       "      <td>NaN</td>\n",
       "      <td>S</td>\n",
       "      <td>Mr</td>\n",
       "    </tr>\n",
       "  </tbody>\n",
       "</table>\n",
       "</div>"
      ],
      "text/plain": [
       "   PassengerId  Survived  Pclass  \\\n",
       "0            1         0       3   \n",
       "1            2         1       1   \n",
       "2            3         1       3   \n",
       "3            4         1       1   \n",
       "4            5         0       3   \n",
       "\n",
       "                                                Name     Sex   Age  SibSp  \\\n",
       "0                            Braund, Mr. Owen Harris    male  22.0      1   \n",
       "1  Cumings, Mrs. John Bradley (Florence Briggs Th...  female  38.0      1   \n",
       "2                             Heikkinen, Miss. Laina  female  26.0      0   \n",
       "3       Futrelle, Mrs. Jacques Heath (Lily May Peel)  female  35.0      1   \n",
       "4                           Allen, Mr. William Henry    male  35.0      0   \n",
       "\n",
       "   Parch            Ticket     Fare Cabin Embarked title  \n",
       "0      0         A/5 21171   7.2500   NaN        S    Mr  \n",
       "1      0          PC 17599  71.2833   C85        C   Mrs  \n",
       "2      0  STON/O2. 3101282   7.9250   NaN        S  Miss  \n",
       "3      0            113803  53.1000  C123        S   Mrs  \n",
       "4      0            373450   8.0500   NaN        S    Mr  "
      ]
     },
     "execution_count": 50,
     "metadata": {},
     "output_type": "execute_result"
    }
   ],
   "source": [
    "titanic_copy[\"title\"] = titanic_copy['Name'].apply(courtesy_title)\n",
    "\n",
    "titanic_copy['title'] = titanic_copy['title'].replace('Mlle', 'Miss')\n",
    "titanic_copy['title'] = titanic_copy['title'].replace('Mme', 'Mrs')\n",
    "titanic_copy['title'] = titanic_copy['title'].replace('Ms', 'Miss')\n",
    "\n",
    "titanic_copy['title'] = titanic_copy['title'].apply(group_courtesy_title)\n",
    "\n",
    "titanic_copy.head()"
   ]
  },
  {
   "cell_type": "code",
   "execution_count": 51,
   "id": "d20efed0",
   "metadata": {
    "execution": {
     "iopub.execute_input": "2022-10-07T19:52:35.221935Z",
     "iopub.status.busy": "2022-10-07T19:52:35.221250Z",
     "iopub.status.idle": "2022-10-07T19:52:35.238570Z",
     "shell.execute_reply": "2022-10-07T19:52:35.237340Z"
    },
    "papermill": {
     "duration": 0.047114,
     "end_time": "2022-10-07T19:52:35.241154",
     "exception": false,
     "start_time": "2022-10-07T19:52:35.194040",
     "status": "completed"
    },
    "tags": []
   },
   "outputs": [
    {
     "data": {
      "text/html": [
       "<div>\n",
       "<style scoped>\n",
       "    .dataframe tbody tr th:only-of-type {\n",
       "        vertical-align: middle;\n",
       "    }\n",
       "\n",
       "    .dataframe tbody tr th {\n",
       "        vertical-align: top;\n",
       "    }\n",
       "\n",
       "    .dataframe thead th {\n",
       "        text-align: right;\n",
       "    }\n",
       "</style>\n",
       "<table border=\"1\" class=\"dataframe\">\n",
       "  <thead>\n",
       "    <tr style=\"text-align: right;\">\n",
       "      <th></th>\n",
       "      <th>Survived</th>\n",
       "      <th>Pclass</th>\n",
       "      <th>Sex</th>\n",
       "      <th>Age</th>\n",
       "      <th>SibSp</th>\n",
       "      <th>Parch</th>\n",
       "      <th>Fare</th>\n",
       "      <th>Embarked</th>\n",
       "      <th>title</th>\n",
       "    </tr>\n",
       "  </thead>\n",
       "  <tbody>\n",
       "    <tr>\n",
       "      <th>0</th>\n",
       "      <td>0</td>\n",
       "      <td>3</td>\n",
       "      <td>male</td>\n",
       "      <td>22.0</td>\n",
       "      <td>1</td>\n",
       "      <td>0</td>\n",
       "      <td>7.2500</td>\n",
       "      <td>S</td>\n",
       "      <td>Mr</td>\n",
       "    </tr>\n",
       "    <tr>\n",
       "      <th>1</th>\n",
       "      <td>1</td>\n",
       "      <td>1</td>\n",
       "      <td>female</td>\n",
       "      <td>38.0</td>\n",
       "      <td>1</td>\n",
       "      <td>0</td>\n",
       "      <td>71.2833</td>\n",
       "      <td>C</td>\n",
       "      <td>Mrs</td>\n",
       "    </tr>\n",
       "    <tr>\n",
       "      <th>2</th>\n",
       "      <td>1</td>\n",
       "      <td>3</td>\n",
       "      <td>female</td>\n",
       "      <td>26.0</td>\n",
       "      <td>0</td>\n",
       "      <td>0</td>\n",
       "      <td>7.9250</td>\n",
       "      <td>S</td>\n",
       "      <td>Miss</td>\n",
       "    </tr>\n",
       "    <tr>\n",
       "      <th>3</th>\n",
       "      <td>1</td>\n",
       "      <td>1</td>\n",
       "      <td>female</td>\n",
       "      <td>35.0</td>\n",
       "      <td>1</td>\n",
       "      <td>0</td>\n",
       "      <td>53.1000</td>\n",
       "      <td>S</td>\n",
       "      <td>Mrs</td>\n",
       "    </tr>\n",
       "    <tr>\n",
       "      <th>4</th>\n",
       "      <td>0</td>\n",
       "      <td>3</td>\n",
       "      <td>male</td>\n",
       "      <td>35.0</td>\n",
       "      <td>0</td>\n",
       "      <td>0</td>\n",
       "      <td>8.0500</td>\n",
       "      <td>S</td>\n",
       "      <td>Mr</td>\n",
       "    </tr>\n",
       "  </tbody>\n",
       "</table>\n",
       "</div>"
      ],
      "text/plain": [
       "   Survived  Pclass     Sex   Age  SibSp  Parch     Fare Embarked title\n",
       "0         0       3    male  22.0      1      0   7.2500        S    Mr\n",
       "1         1       1  female  38.0      1      0  71.2833        C   Mrs\n",
       "2         1       3  female  26.0      0      0   7.9250        S  Miss\n",
       "3         1       1  female  35.0      1      0  53.1000        S   Mrs\n",
       "4         0       3    male  35.0      0      0   8.0500        S    Mr"
      ]
     },
     "execution_count": 51,
     "metadata": {},
     "output_type": "execute_result"
    }
   ],
   "source": [
    "# PassengerId, Name, Ticket and Cabin are not very informative values\n",
    "titanic_copy = titanic_copy.drop([\"PassengerId\", \"Name\", \"Ticket\", \"Cabin\"], axis=1)\n",
    "titanic_copy.head()"
   ]
  },
  {
   "cell_type": "code",
   "execution_count": 52,
   "id": "57d88d80",
   "metadata": {
    "execution": {
     "iopub.execute_input": "2022-10-07T19:52:35.295166Z",
     "iopub.status.busy": "2022-10-07T19:52:35.294483Z",
     "iopub.status.idle": "2022-10-07T19:52:35.313097Z",
     "shell.execute_reply": "2022-10-07T19:52:35.311851Z"
    },
    "papermill": {
     "duration": 0.048421,
     "end_time": "2022-10-07T19:52:35.315454",
     "exception": false,
     "start_time": "2022-10-07T19:52:35.267033",
     "status": "completed"
    },
    "tags": []
   },
   "outputs": [
    {
     "data": {
      "text/html": [
       "<div>\n",
       "<style scoped>\n",
       "    .dataframe tbody tr th:only-of-type {\n",
       "        vertical-align: middle;\n",
       "    }\n",
       "\n",
       "    .dataframe tbody tr th {\n",
       "        vertical-align: top;\n",
       "    }\n",
       "\n",
       "    .dataframe thead th {\n",
       "        text-align: right;\n",
       "    }\n",
       "</style>\n",
       "<table border=\"1\" class=\"dataframe\">\n",
       "  <thead>\n",
       "    <tr style=\"text-align: right;\">\n",
       "      <th></th>\n",
       "      <th>Survived</th>\n",
       "      <th>Pclass</th>\n",
       "      <th>Sex</th>\n",
       "      <th>Age</th>\n",
       "      <th>SibSp</th>\n",
       "      <th>Parch</th>\n",
       "      <th>Fare</th>\n",
       "      <th>Embarked</th>\n",
       "      <th>title</th>\n",
       "      <th>Age_present</th>\n",
       "      <th>Embarked_present</th>\n",
       "    </tr>\n",
       "  </thead>\n",
       "  <tbody>\n",
       "    <tr>\n",
       "      <th>0</th>\n",
       "      <td>0</td>\n",
       "      <td>3</td>\n",
       "      <td>male</td>\n",
       "      <td>22.0</td>\n",
       "      <td>1</td>\n",
       "      <td>0</td>\n",
       "      <td>7.2500</td>\n",
       "      <td>S</td>\n",
       "      <td>Mr</td>\n",
       "      <td>1</td>\n",
       "      <td>1</td>\n",
       "    </tr>\n",
       "    <tr>\n",
       "      <th>1</th>\n",
       "      <td>1</td>\n",
       "      <td>1</td>\n",
       "      <td>female</td>\n",
       "      <td>38.0</td>\n",
       "      <td>1</td>\n",
       "      <td>0</td>\n",
       "      <td>71.2833</td>\n",
       "      <td>C</td>\n",
       "      <td>Mrs</td>\n",
       "      <td>1</td>\n",
       "      <td>1</td>\n",
       "    </tr>\n",
       "    <tr>\n",
       "      <th>2</th>\n",
       "      <td>1</td>\n",
       "      <td>3</td>\n",
       "      <td>female</td>\n",
       "      <td>26.0</td>\n",
       "      <td>0</td>\n",
       "      <td>0</td>\n",
       "      <td>7.9250</td>\n",
       "      <td>S</td>\n",
       "      <td>Miss</td>\n",
       "      <td>1</td>\n",
       "      <td>1</td>\n",
       "    </tr>\n",
       "    <tr>\n",
       "      <th>3</th>\n",
       "      <td>1</td>\n",
       "      <td>1</td>\n",
       "      <td>female</td>\n",
       "      <td>35.0</td>\n",
       "      <td>1</td>\n",
       "      <td>0</td>\n",
       "      <td>53.1000</td>\n",
       "      <td>S</td>\n",
       "      <td>Mrs</td>\n",
       "      <td>1</td>\n",
       "      <td>1</td>\n",
       "    </tr>\n",
       "    <tr>\n",
       "      <th>4</th>\n",
       "      <td>0</td>\n",
       "      <td>3</td>\n",
       "      <td>male</td>\n",
       "      <td>35.0</td>\n",
       "      <td>0</td>\n",
       "      <td>0</td>\n",
       "      <td>8.0500</td>\n",
       "      <td>S</td>\n",
       "      <td>Mr</td>\n",
       "      <td>1</td>\n",
       "      <td>1</td>\n",
       "    </tr>\n",
       "  </tbody>\n",
       "</table>\n",
       "</div>"
      ],
      "text/plain": [
       "   Survived  Pclass     Sex   Age  SibSp  Parch     Fare Embarked title  \\\n",
       "0         0       3    male  22.0      1      0   7.2500        S    Mr   \n",
       "1         1       1  female  38.0      1      0  71.2833        C   Mrs   \n",
       "2         1       3  female  26.0      0      0   7.9250        S  Miss   \n",
       "3         1       1  female  35.0      1      0  53.1000        S   Mrs   \n",
       "4         0       3    male  35.0      0      0   8.0500        S    Mr   \n",
       "\n",
       "   Age_present  Embarked_present  \n",
       "0            1                 1  \n",
       "1            1                 1  \n",
       "2            1                 1  \n",
       "3            1                 1  \n",
       "4            1                 1  "
      ]
     },
     "execution_count": 52,
     "metadata": {},
     "output_type": "execute_result"
    }
   ],
   "source": [
    "columns = [\"Age\", \"Embarked\"]\n",
    "for column in columns:\n",
    "    add_column_present(titanic_copy, column)\n",
    "\n",
    "titanic_copy.head()"
   ]
  },
  {
   "cell_type": "code",
   "execution_count": 53,
   "id": "9a9491d0",
   "metadata": {
    "execution": {
     "iopub.execute_input": "2022-10-07T19:52:35.370481Z",
     "iopub.status.busy": "2022-10-07T19:52:35.369772Z",
     "iopub.status.idle": "2022-10-07T19:52:35.376513Z",
     "shell.execute_reply": "2022-10-07T19:52:35.375364Z"
    },
    "papermill": {
     "duration": 0.036685,
     "end_time": "2022-10-07T19:52:35.378847",
     "exception": false,
     "start_time": "2022-10-07T19:52:35.342162",
     "status": "completed"
    },
    "tags": []
   },
   "outputs": [],
   "source": [
    "titanic_copy[\"Embarked\"] = titanic_copy['Embarked'].replace(np.nan, \"S\")"
   ]
  },
  {
   "cell_type": "code",
   "execution_count": 54,
   "id": "3aaaf4a2",
   "metadata": {
    "execution": {
     "iopub.execute_input": "2022-10-07T19:52:35.433994Z",
     "iopub.status.busy": "2022-10-07T19:52:35.433550Z",
     "iopub.status.idle": "2022-10-07T19:52:35.458716Z",
     "shell.execute_reply": "2022-10-07T19:52:35.457459Z"
    },
    "papermill": {
     "duration": 0.055861,
     "end_time": "2022-10-07T19:52:35.461117",
     "exception": false,
     "start_time": "2022-10-07T19:52:35.405256",
     "status": "completed"
    },
    "tags": []
   },
   "outputs": [
    {
     "data": {
      "text/html": [
       "<div>\n",
       "<style scoped>\n",
       "    .dataframe tbody tr th:only-of-type {\n",
       "        vertical-align: middle;\n",
       "    }\n",
       "\n",
       "    .dataframe tbody tr th {\n",
       "        vertical-align: top;\n",
       "    }\n",
       "\n",
       "    .dataframe thead th {\n",
       "        text-align: right;\n",
       "    }\n",
       "</style>\n",
       "<table border=\"1\" class=\"dataframe\">\n",
       "  <thead>\n",
       "    <tr style=\"text-align: right;\">\n",
       "      <th></th>\n",
       "      <th>Survived</th>\n",
       "      <th>Pclass</th>\n",
       "      <th>Sex</th>\n",
       "      <th>Age</th>\n",
       "      <th>SibSp</th>\n",
       "      <th>Parch</th>\n",
       "      <th>Fare</th>\n",
       "      <th>Embarked</th>\n",
       "      <th>title</th>\n",
       "      <th>Age_present</th>\n",
       "      <th>Embarked_present</th>\n",
       "    </tr>\n",
       "  </thead>\n",
       "  <tbody>\n",
       "    <tr>\n",
       "      <th>0</th>\n",
       "      <td>0</td>\n",
       "      <td>3</td>\n",
       "      <td>male</td>\n",
       "      <td>22.0</td>\n",
       "      <td>1</td>\n",
       "      <td>0</td>\n",
       "      <td>7.2500</td>\n",
       "      <td>S</td>\n",
       "      <td>Mr</td>\n",
       "      <td>1</td>\n",
       "      <td>1</td>\n",
       "    </tr>\n",
       "    <tr>\n",
       "      <th>1</th>\n",
       "      <td>1</td>\n",
       "      <td>1</td>\n",
       "      <td>female</td>\n",
       "      <td>38.0</td>\n",
       "      <td>1</td>\n",
       "      <td>0</td>\n",
       "      <td>71.2833</td>\n",
       "      <td>C</td>\n",
       "      <td>Mrs</td>\n",
       "      <td>1</td>\n",
       "      <td>1</td>\n",
       "    </tr>\n",
       "    <tr>\n",
       "      <th>2</th>\n",
       "      <td>1</td>\n",
       "      <td>3</td>\n",
       "      <td>female</td>\n",
       "      <td>26.0</td>\n",
       "      <td>0</td>\n",
       "      <td>0</td>\n",
       "      <td>7.9250</td>\n",
       "      <td>S</td>\n",
       "      <td>Miss</td>\n",
       "      <td>1</td>\n",
       "      <td>1</td>\n",
       "    </tr>\n",
       "    <tr>\n",
       "      <th>3</th>\n",
       "      <td>1</td>\n",
       "      <td>1</td>\n",
       "      <td>female</td>\n",
       "      <td>35.0</td>\n",
       "      <td>1</td>\n",
       "      <td>0</td>\n",
       "      <td>53.1000</td>\n",
       "      <td>S</td>\n",
       "      <td>Mrs</td>\n",
       "      <td>1</td>\n",
       "      <td>1</td>\n",
       "    </tr>\n",
       "    <tr>\n",
       "      <th>4</th>\n",
       "      <td>0</td>\n",
       "      <td>3</td>\n",
       "      <td>male</td>\n",
       "      <td>35.0</td>\n",
       "      <td>0</td>\n",
       "      <td>0</td>\n",
       "      <td>8.0500</td>\n",
       "      <td>S</td>\n",
       "      <td>Mr</td>\n",
       "      <td>1</td>\n",
       "      <td>1</td>\n",
       "    </tr>\n",
       "  </tbody>\n",
       "</table>\n",
       "</div>"
      ],
      "text/plain": [
       "   Survived  Pclass     Sex   Age  SibSp  Parch     Fare Embarked title  \\\n",
       "0         0       3    male  22.0      1      0   7.2500        S    Mr   \n",
       "1         1       1  female  38.0      1      0  71.2833        C   Mrs   \n",
       "2         1       3  female  26.0      0      0   7.9250        S  Miss   \n",
       "3         1       1  female  35.0      1      0  53.1000        S   Mrs   \n",
       "4         0       3    male  35.0      0      0   8.0500        S    Mr   \n",
       "\n",
       "   Age_present  Embarked_present  \n",
       "0            1                 1  \n",
       "1            1                 1  \n",
       "2            1                 1  \n",
       "3            1                 1  \n",
       "4            1                 1  "
      ]
     },
     "execution_count": 54,
     "metadata": {},
     "output_type": "execute_result"
    }
   ],
   "source": [
    "### Need to update each of the  NAs per class.\n",
    "\n",
    "titanic_copy.loc[(titanic_copy['Age'].isnull()) & (titanic_copy[\"Sex\"] == 'female'), 'Age'] = median_age_female\n",
    "titanic_copy.loc[(titanic_copy['Age'].isnull()) & (titanic_copy[\"title\"].str.lower() == 'master'), 'Age'] = median_boy_age\n",
    "titanic_copy.loc[(titanic_copy['Age'].isnull()) & (titanic_copy[\"title\"].str.lower() != 'master') & (titanic_copy.Sex.str.lower() == \"male\"), 'Age'] = median_men_age\n",
    "\n",
    "titanic_copy.head()"
   ]
  },
  {
   "cell_type": "code",
   "execution_count": 55,
   "id": "a253b280",
   "metadata": {
    "execution": {
     "iopub.execute_input": "2022-10-07T19:52:35.516058Z",
     "iopub.status.busy": "2022-10-07T19:52:35.515606Z",
     "iopub.status.idle": "2022-10-07T19:52:35.521743Z",
     "shell.execute_reply": "2022-10-07T19:52:35.520420Z"
    },
    "papermill": {
     "duration": 0.03676,
     "end_time": "2022-10-07T19:52:35.524575",
     "exception": false,
     "start_time": "2022-10-07T19:52:35.487815",
     "status": "completed"
    },
    "tags": []
   },
   "outputs": [],
   "source": [
    "y = titanic_copy[\"Survived\"]\n",
    "del titanic_copy[\"Survived\"]"
   ]
  },
  {
   "cell_type": "code",
   "execution_count": 56,
   "id": "e543d863",
   "metadata": {
    "execution": {
     "iopub.execute_input": "2022-10-07T19:52:35.580355Z",
     "iopub.status.busy": "2022-10-07T19:52:35.579564Z",
     "iopub.status.idle": "2022-10-07T19:52:35.597075Z",
     "shell.execute_reply": "2022-10-07T19:52:35.595820Z"
    },
    "papermill": {
     "duration": 0.048415,
     "end_time": "2022-10-07T19:52:35.599465",
     "exception": false,
     "start_time": "2022-10-07T19:52:35.551050",
     "status": "completed"
    },
    "tags": []
   },
   "outputs": [
    {
     "data": {
      "text/html": [
       "<div>\n",
       "<style scoped>\n",
       "    .dataframe tbody tr th:only-of-type {\n",
       "        vertical-align: middle;\n",
       "    }\n",
       "\n",
       "    .dataframe tbody tr th {\n",
       "        vertical-align: top;\n",
       "    }\n",
       "\n",
       "    .dataframe thead th {\n",
       "        text-align: right;\n",
       "    }\n",
       "</style>\n",
       "<table border=\"1\" class=\"dataframe\">\n",
       "  <thead>\n",
       "    <tr style=\"text-align: right;\">\n",
       "      <th></th>\n",
       "      <th>Pclass</th>\n",
       "      <th>Sex</th>\n",
       "      <th>Age</th>\n",
       "      <th>SibSp</th>\n",
       "      <th>Parch</th>\n",
       "      <th>Fare</th>\n",
       "      <th>Embarked</th>\n",
       "      <th>title</th>\n",
       "      <th>Age_present</th>\n",
       "      <th>Embarked_present</th>\n",
       "    </tr>\n",
       "  </thead>\n",
       "  <tbody>\n",
       "    <tr>\n",
       "      <th>0</th>\n",
       "      <td>3</td>\n",
       "      <td>male</td>\n",
       "      <td>22.0</td>\n",
       "      <td>1</td>\n",
       "      <td>0</td>\n",
       "      <td>7.2500</td>\n",
       "      <td>S</td>\n",
       "      <td>Mr</td>\n",
       "      <td>1</td>\n",
       "      <td>1</td>\n",
       "    </tr>\n",
       "    <tr>\n",
       "      <th>1</th>\n",
       "      <td>1</td>\n",
       "      <td>female</td>\n",
       "      <td>38.0</td>\n",
       "      <td>1</td>\n",
       "      <td>0</td>\n",
       "      <td>71.2833</td>\n",
       "      <td>C</td>\n",
       "      <td>Mrs</td>\n",
       "      <td>1</td>\n",
       "      <td>1</td>\n",
       "    </tr>\n",
       "    <tr>\n",
       "      <th>2</th>\n",
       "      <td>3</td>\n",
       "      <td>female</td>\n",
       "      <td>26.0</td>\n",
       "      <td>0</td>\n",
       "      <td>0</td>\n",
       "      <td>7.9250</td>\n",
       "      <td>S</td>\n",
       "      <td>Miss</td>\n",
       "      <td>1</td>\n",
       "      <td>1</td>\n",
       "    </tr>\n",
       "    <tr>\n",
       "      <th>3</th>\n",
       "      <td>1</td>\n",
       "      <td>female</td>\n",
       "      <td>35.0</td>\n",
       "      <td>1</td>\n",
       "      <td>0</td>\n",
       "      <td>53.1000</td>\n",
       "      <td>S</td>\n",
       "      <td>Mrs</td>\n",
       "      <td>1</td>\n",
       "      <td>1</td>\n",
       "    </tr>\n",
       "    <tr>\n",
       "      <th>4</th>\n",
       "      <td>3</td>\n",
       "      <td>male</td>\n",
       "      <td>35.0</td>\n",
       "      <td>0</td>\n",
       "      <td>0</td>\n",
       "      <td>8.0500</td>\n",
       "      <td>S</td>\n",
       "      <td>Mr</td>\n",
       "      <td>1</td>\n",
       "      <td>1</td>\n",
       "    </tr>\n",
       "  </tbody>\n",
       "</table>\n",
       "</div>"
      ],
      "text/plain": [
       "   Pclass     Sex   Age  SibSp  Parch     Fare Embarked title  Age_present  \\\n",
       "0       3    male  22.0      1      0   7.2500        S    Mr            1   \n",
       "1       1  female  38.0      1      0  71.2833        C   Mrs            1   \n",
       "2       3  female  26.0      0      0   7.9250        S  Miss            1   \n",
       "3       1  female  35.0      1      0  53.1000        S   Mrs            1   \n",
       "4       3    male  35.0      0      0   8.0500        S    Mr            1   \n",
       "\n",
       "   Embarked_present  \n",
       "0                 1  \n",
       "1                 1  \n",
       "2                 1  \n",
       "3                 1  \n",
       "4                 1  "
      ]
     },
     "execution_count": 56,
     "metadata": {},
     "output_type": "execute_result"
    }
   ],
   "source": [
    "titanic_copy.head()"
   ]
  },
  {
   "cell_type": "code",
   "execution_count": 57,
   "id": "11451d25",
   "metadata": {
    "execution": {
     "iopub.execute_input": "2022-10-07T19:52:35.655620Z",
     "iopub.status.busy": "2022-10-07T19:52:35.655173Z",
     "iopub.status.idle": "2022-10-07T19:52:37.680014Z",
     "shell.execute_reply": "2022-10-07T19:52:37.678691Z"
    },
    "papermill": {
     "duration": 2.056108,
     "end_time": "2022-10-07T19:52:37.682788",
     "exception": false,
     "start_time": "2022-10-07T19:52:35.626680",
     "status": "completed"
    },
    "tags": []
   },
   "outputs": [
    {
     "data": {
      "text/plain": [
       "Pipeline(steps=[('preprocessor',\n",
       "                 ColumnTransformer(transformers=[('num',\n",
       "                                                  Pipeline(steps=[('scaler',\n",
       "                                                                   RobustScaler())]),\n",
       "                                                  ['Age', 'Fare']),\n",
       "                                                 ('cat', OneHotEncoder(),\n",
       "                                                  ['Sex', 'SibSp', 'Parch',\n",
       "                                                   'Embarked', 'title',\n",
       "                                                   'Embarked_present',\n",
       "                                                   'Age_present']),\n",
       "                                                 ('ord', OrdinalEncoder(),\n",
       "                                                  ['Pclass'])])),\n",
       "                ('sampling', SMOTE()),\n",
       "                ('classifier',\n",
       "                 VotingClassifier(estimators=[('logit',\n",
       "                                               Logisti...\n",
       "                                                                  n_jobs=-1,\n",
       "                                                                  random_state=42,\n",
       "                                                                  tol=2.2118465675056303e-05)),\n",
       "                                              ('rf',\n",
       "                                               RandomForestClassifier(bootstrap='gini',\n",
       "                                                                      max_depth=14,\n",
       "                                                                      max_features=0.2831613081834047,\n",
       "                                                                      min_samples_leaf=4,\n",
       "                                                                      min_samples_split=4,\n",
       "                                                                      n_estimators=1131,\n",
       "                                                                      n_jobs=-1,\n",
       "                                                                      random_state=42)),\n",
       "                                              ('lgbm',\n",
       "                                               LGBMClassifier(learning_rate=0.1060423824295375,\n",
       "                                                              max_depth=3,\n",
       "                                                              n_estimators=573,\n",
       "                                                              num_leaves=60,\n",
       "                                                              random_state=42))]))])"
      ]
     },
     "execution_count": 57,
     "metadata": {},
     "output_type": "execute_result"
    }
   ],
   "source": [
    "pipe = Pipeline(steps=[(\"preprocessor\", preprocessor), (\"sampling\", SMOTE()), (\"classifier\", voting)])\n",
    "pipe.fit(titanic_copy, y)"
   ]
  },
  {
   "cell_type": "code",
   "execution_count": 58,
   "id": "6b8bc132",
   "metadata": {
    "execution": {
     "iopub.execute_input": "2022-10-07T19:52:37.738541Z",
     "iopub.status.busy": "2022-10-07T19:52:37.738098Z",
     "iopub.status.idle": "2022-10-07T19:52:38.169794Z",
     "shell.execute_reply": "2022-10-07T19:52:38.168634Z"
    },
    "papermill": {
     "duration": 0.462843,
     "end_time": "2022-10-07T19:52:38.172774",
     "exception": false,
     "start_time": "2022-10-07T19:52:37.709931",
     "status": "completed"
    },
    "tags": []
   },
   "outputs": [],
   "source": [
    "predictions = pipe.predict(titanic_test)"
   ]
  },
  {
   "cell_type": "code",
   "execution_count": 59,
   "id": "9efcbdb1",
   "metadata": {
    "execution": {
     "iopub.execute_input": "2022-10-07T19:52:38.230534Z",
     "iopub.status.busy": "2022-10-07T19:52:38.230124Z",
     "iopub.status.idle": "2022-10-07T19:52:38.774198Z",
     "shell.execute_reply": "2022-10-07T19:52:38.773003Z"
    },
    "papermill": {
     "duration": 0.575703,
     "end_time": "2022-10-07T19:52:38.776984",
     "exception": false,
     "start_time": "2022-10-07T19:52:38.201281",
     "status": "completed"
    },
    "tags": []
   },
   "outputs": [
    {
     "data": {
      "text/plain": [
       "0.8933782267115601"
      ]
     },
     "execution_count": 59,
     "metadata": {},
     "output_type": "execute_result"
    }
   ],
   "source": [
    "pipe.score(titanic_copy, y)"
   ]
  },
  {
   "cell_type": "code",
   "execution_count": 60,
   "id": "855322c0",
   "metadata": {
    "execution": {
     "iopub.execute_input": "2022-10-07T19:52:38.836457Z",
     "iopub.status.busy": "2022-10-07T19:52:38.835866Z",
     "iopub.status.idle": "2022-10-07T19:52:38.853912Z",
     "shell.execute_reply": "2022-10-07T19:52:38.852692Z"
    },
    "papermill": {
     "duration": 0.050351,
     "end_time": "2022-10-07T19:52:38.856823",
     "exception": false,
     "start_time": "2022-10-07T19:52:38.806472",
     "status": "completed"
    },
    "tags": []
   },
   "outputs": [
    {
     "data": {
      "text/html": [
       "<div>\n",
       "<style scoped>\n",
       "    .dataframe tbody tr th:only-of-type {\n",
       "        vertical-align: middle;\n",
       "    }\n",
       "\n",
       "    .dataframe tbody tr th {\n",
       "        vertical-align: top;\n",
       "    }\n",
       "\n",
       "    .dataframe thead th {\n",
       "        text-align: right;\n",
       "    }\n",
       "</style>\n",
       "<table border=\"1\" class=\"dataframe\">\n",
       "  <thead>\n",
       "    <tr style=\"text-align: right;\">\n",
       "      <th></th>\n",
       "      <th>PassengerId</th>\n",
       "      <th>Survived</th>\n",
       "    </tr>\n",
       "  </thead>\n",
       "  <tbody>\n",
       "    <tr>\n",
       "      <th>0</th>\n",
       "      <td>892</td>\n",
       "      <td>0</td>\n",
       "    </tr>\n",
       "    <tr>\n",
       "      <th>1</th>\n",
       "      <td>893</td>\n",
       "      <td>0</td>\n",
       "    </tr>\n",
       "    <tr>\n",
       "      <th>2</th>\n",
       "      <td>894</td>\n",
       "      <td>0</td>\n",
       "    </tr>\n",
       "    <tr>\n",
       "      <th>3</th>\n",
       "      <td>895</td>\n",
       "      <td>0</td>\n",
       "    </tr>\n",
       "    <tr>\n",
       "      <th>4</th>\n",
       "      <td>896</td>\n",
       "      <td>1</td>\n",
       "    </tr>\n",
       "  </tbody>\n",
       "</table>\n",
       "</div>"
      ],
      "text/plain": [
       "   PassengerId  Survived\n",
       "0          892         0\n",
       "1          893         0\n",
       "2          894         0\n",
       "3          895         0\n",
       "4          896         1"
      ]
     },
     "execution_count": 60,
     "metadata": {},
     "output_type": "execute_result"
    }
   ],
   "source": [
    "results = get_data(\"gender_submission.csv\")\n",
    "results[\"Survived\"] = predictions\n",
    "\n",
    "results.head()"
   ]
  },
  {
   "cell_type": "code",
   "execution_count": 61,
   "id": "b3f08e7d",
   "metadata": {
    "execution": {
     "iopub.execute_input": "2022-10-07T19:52:38.913738Z",
     "iopub.status.busy": "2022-10-07T19:52:38.913308Z",
     "iopub.status.idle": "2022-10-07T19:52:38.923307Z",
     "shell.execute_reply": "2022-10-07T19:52:38.921953Z"
    },
    "papermill": {
     "duration": 0.041566,
     "end_time": "2022-10-07T19:52:38.926018",
     "exception": false,
     "start_time": "2022-10-07T19:52:38.884452",
     "status": "completed"
    },
    "tags": []
   },
   "outputs": [],
   "source": [
    "results.to_csv('submission.csv', index=False)"
   ]
  }
 ],
 "metadata": {
  "kernelspec": {
   "display_name": "Python 3",
   "language": "python",
   "name": "python3"
  },
  "language_info": {
   "codemirror_mode": {
    "name": "ipython",
    "version": 3
   },
   "file_extension": ".py",
   "mimetype": "text/x-python",
   "name": "python",
   "nbconvert_exporter": "python",
   "pygments_lexer": "ipython3",
   "version": "3.7.12"
  },
  "papermill": {
   "default_parameters": {},
   "duration": 655.640421,
   "end_time": "2022-10-07T19:52:41.577263",
   "environment_variables": {},
   "exception": null,
   "input_path": "__notebook__.ipynb",
   "output_path": "__notebook__.ipynb",
   "parameters": {},
   "start_time": "2022-10-07T19:41:45.936842",
   "version": "2.3.4"
  }
 },
 "nbformat": 4,
 "nbformat_minor": 5
}
